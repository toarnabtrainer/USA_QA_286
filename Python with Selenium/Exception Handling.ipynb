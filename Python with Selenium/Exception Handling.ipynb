{
 "cells": [
  {
   "cell_type": "markdown",
   "id": "bec83176-9ad9-4c1a-8fc8-6e0f110df632",
   "metadata": {},
   "source": [
    "# **Exception Handling using Python**"
   ]
  },
  {
   "cell_type": "code",
   "execution_count": 3,
   "id": "1873174b-c9c9-429f-9dff-e519828db1e4",
   "metadata": {},
   "outputs": [
    {
     "name": "stdin",
     "output_type": "stream",
     "text": [
      "Please enter the first number:  100\n",
      "Please enter the second number:  0\n"
     ]
    },
    {
     "ename": "ZeroDivisionError",
     "evalue": "division by zero",
     "output_type": "error",
     "traceback": [
      "\u001b[1;31m---------------------------------------------------------------------------\u001b[0m",
      "\u001b[1;31mZeroDivisionError\u001b[0m                         Traceback (most recent call last)",
      "Cell \u001b[1;32mIn[3], line 3\u001b[0m\n\u001b[0;32m      1\u001b[0m num1 \u001b[38;5;241m=\u001b[39m \u001b[38;5;28mint\u001b[39m(\u001b[38;5;28minput\u001b[39m(\u001b[38;5;124m\"\u001b[39m\u001b[38;5;124mPlease enter the first number: \u001b[39m\u001b[38;5;124m\"\u001b[39m))\n\u001b[0;32m      2\u001b[0m num2 \u001b[38;5;241m=\u001b[39m \u001b[38;5;28mint\u001b[39m(\u001b[38;5;28minput\u001b[39m(\u001b[38;5;124m\"\u001b[39m\u001b[38;5;124mPlease enter the second number: \u001b[39m\u001b[38;5;124m\"\u001b[39m))\n\u001b[1;32m----> 3\u001b[0m quotient \u001b[38;5;241m=\u001b[39m num1 \u001b[38;5;241m/\u001b[39m num2\n\u001b[0;32m      4\u001b[0m \u001b[38;5;28mprint\u001b[39m (\u001b[38;5;124mf\u001b[39m\u001b[38;5;124m\"\u001b[39m\u001b[38;5;124mSo \u001b[39m\u001b[38;5;132;01m{\u001b[39;00mnum1\u001b[38;5;132;01m}\u001b[39;00m\u001b[38;5;124m / \u001b[39m\u001b[38;5;132;01m{\u001b[39;00mnum2\u001b[38;5;132;01m}\u001b[39;00m\u001b[38;5;124m = \u001b[39m\u001b[38;5;132;01m{\u001b[39;00mquotient\u001b[38;5;132;01m}\u001b[39;00m\u001b[38;5;124m...\u001b[39m\u001b[38;5;124m\"\u001b[39m)\n\u001b[0;32m      5\u001b[0m \u001b[38;5;28mprint\u001b[39m (\u001b[38;5;124m\"\u001b[39m\u001b[38;5;124mEnd of the program...\u001b[39m\u001b[38;5;124m\"\u001b[39m)\n",
      "\u001b[1;31mZeroDivisionError\u001b[0m: division by zero"
     ]
    }
   ],
   "source": [
    "num1 = int(input(\"Please enter the first number: \"))\n",
    "num2 = int(input(\"Please enter the second number: \"))\n",
    "quotient = num1 / num2\n",
    "print (f\"So {num1} / {num2} = {quotient}...\")\n",
    "print (\"End of the program...\")"
   ]
  },
  {
   "cell_type": "code",
   "execution_count": 5,
   "id": "03ab4edf-36ce-4cad-b2db-987289df2ffb",
   "metadata": {},
   "outputs": [
    {
     "name": "stdin",
     "output_type": "stream",
     "text": [
      "Please enter the first number:  100\n",
      "Please enter the second number:  0\n"
     ]
    },
    {
     "name": "stdout",
     "output_type": "stream",
     "text": [
      "ZeroDivisionError: Division by ZERO is not Permitted...\n",
      "ZeroDivisionError: Error message - division by zero\n",
      "ZeroDivisionError: Error Type - <class 'ZeroDivisionError'>\n",
      "End of the program...\n"
     ]
    }
   ],
   "source": [
    "try:\n",
    "    num1 = int(input(\"Please enter the first number: \"))\n",
    "    num2 = int(input(\"Please enter the second number: \"))\n",
    "    quotient = num1 / num2\n",
    "    print (f\"So {num1} / {num2} = {quotient}...\")\n",
    "except ZeroDivisionError as zde:\n",
    "    print (\"ZeroDivisionError: Division by ZERO is not Permitted...\")\n",
    "    print (\"ZeroDivisionError: Error message -\", zde)\n",
    "    print (\"ZeroDivisionError: Error Type -\", type(zde))\n",
    "print (\"End of the program...\")"
   ]
  },
  {
   "cell_type": "code",
   "execution_count": 11,
   "id": "c962a2ee-1f16-4530-a76c-628e4cfd18d6",
   "metadata": {},
   "outputs": [
    {
     "name": "stdin",
     "output_type": "stream",
     "text": [
      "Please enter the first number:  100\n",
      "Please enter the second number:  -20\n"
     ]
    },
    {
     "name": "stdout",
     "output_type": "stream",
     "text": [
      "So 100 / -20 = -5.0...\n",
      "End of the program...\n"
     ]
    }
   ],
   "source": [
    "try:\n",
    "    num1 = int(input(\"Please enter the first number: \"))\n",
    "    num2 = int(input(\"Please enter the second number: \"))\n",
    "    quotient = num1 / num2\n",
    "    print (f\"So {num1} / {num2} = {quotient}...\")\n",
    "except ZeroDivisionError as zde:\n",
    "    print (\"ZeroDivisionError: Division by ZERO is not Permitted...\")\n",
    "    print (\"ZeroDivisionError: Error message -\", zde)\n",
    "    print (\"ZeroDivisionError: Error Type -\", type(zde))\n",
    "except ValueError as ve:\n",
    "    print (\"ValueError: Please provide Decimal INTEGER Numbers only as input...\")\n",
    "    print (\"ValueError: Error message -\", ve)\n",
    "    print (\"ValueError: Error Type -\", type(ve))\n",
    "print (\"End of the program...\")"
   ]
  },
  {
   "cell_type": "code",
   "execution_count": 21,
   "id": "f818ce7a-5803-4f07-b964-8bee4f4b2c30",
   "metadata": {},
   "outputs": [
    {
     "name": "stdin",
     "output_type": "stream",
     "text": [
      "Please enter the first number:  100\n",
      "Please enter the second number:  two\n"
     ]
    },
    {
     "name": "stdout",
     "output_type": "stream",
     "text": [
      "ValueError: Please provide Decimal INTEGER Numbers only as input...\n",
      "ValueError: Error message - invalid literal for int() with base 10: 'two'\n",
      "ValueError: Error Type - <class 'ValueError'>\n",
      "End of the program...\n"
     ]
    }
   ],
   "source": [
    "try:\n",
    "    num1 = int(input(\"Please enter the first number: \"))\n",
    "    num2 = int(input(\"Please enter the second number: \"))\n",
    "    quotient = num1 / num2\n",
    "    print (f\"So {num1} / {num2} = {quotient}...\")\n",
    "except ValueError as ve:\n",
    "    print (\"ValueError: Please provide Decimal INTEGER Numbers only as input...\")\n",
    "    print (\"ValueError: Error message -\", ve)\n",
    "    print (\"ValueError: Error Type -\", type(ve))\n",
    "except ZeroDivisionError as zde:\n",
    "    print (\"ZeroDivisionError: Division by ZERO is not Permitted...\")\n",
    "    print (\"ZeroDivisionError: Error message -\", zde)\n",
    "    print (\"ZeroDivisionError: Error Type -\", type(zde))\n",
    "print (\"End of the program...\")"
   ]
  },
  {
   "cell_type": "code",
   "execution_count": 16,
   "id": "f5303443-c54f-4b03-baef-f845f91c6ed5",
   "metadata": {},
   "outputs": [
    {
     "name": "stdin",
     "output_type": "stream",
     "text": [
      "Please enter the first number:  100\n",
      "Please enter the second number:  40\n"
     ]
    },
    {
     "name": "stdout",
     "output_type": "stream",
     "text": [
      "So 100 / 40 = 2.5...\n",
      "Else: Else block is executing...\n",
      "Else: Had a smooth execution...\n",
      "End of the program...\n"
     ]
    }
   ],
   "source": [
    "try:\n",
    "    num1 = int(input(\"Please enter the first number: \"))\n",
    "    num2 = int(input(\"Please enter the second number: \"))\n",
    "    quotient = num1 / num2\n",
    "    print (f\"So {num1} / {num2} = {quotient}...\")\n",
    "except ValueError as ve:\n",
    "    print (\"ValueError: Please provide Decimal INTEGER Numbers only as input...\")\n",
    "    print (\"ValueError: Error message -\", ve)\n",
    "    print (\"ValueError: Error Type -\", type(ve))\n",
    "except ZeroDivisionError as zde:\n",
    "    print (\"ZeroDivisionError: Division by ZERO is not Permitted...\")\n",
    "    print (\"ZeroDivisionError: Error message -\", zde)\n",
    "    print (\"ZeroDivisionError: Error Type -\", type(zde))\n",
    "else:\n",
    "    print (\"Else: Else block is executing...\")\n",
    "    print (\"Else: Had a smooth execution...\")\n",
    "print (\"End of the program...\")"
   ]
  },
  {
   "cell_type": "code",
   "execution_count": 19,
   "id": "25e9e799-35a3-4c34-b55e-2218224d095d",
   "metadata": {},
   "outputs": [
    {
     "name": "stdin",
     "output_type": "stream",
     "text": [
      "Please enter the first number:  100\n",
      "Please enter the second number:  two\n"
     ]
    },
    {
     "name": "stdout",
     "output_type": "stream",
     "text": [
      "ValueError: Please provide Decimal INTEGER Numbers only as input...\n",
      "ValueError: Error message - invalid literal for int() with base 10: 'two'\n",
      "ValueError: Error Type - <class 'ValueError'>\n",
      "Finally: Finally block is getting executed...\n",
      "Finally: This block executes always...\n",
      "End of the program...\n"
     ]
    }
   ],
   "source": [
    "try:\n",
    "    num1 = int(input(\"Please enter the first number: \"))\n",
    "    num2 = int(input(\"Please enter the second number: \"))\n",
    "    quotient = num1 / num2\n",
    "    print (f\"So {num1} / {num2} = {quotient}...\")\n",
    "except ValueError as ve:\n",
    "    print (\"ValueError: Please provide Decimal INTEGER Numbers only as input...\")\n",
    "    print (\"ValueError: Error message -\", ve)\n",
    "    print (\"ValueError: Error Type -\", type(ve))\n",
    "except ZeroDivisionError as zde:\n",
    "    print (\"ZeroDivisionError: Division by ZERO is not Permitted...\")\n",
    "    print (\"ZeroDivisionError: Error message -\", zde)\n",
    "    print (\"ZeroDivisionError: Error Type -\", type(zde))\n",
    "else:\n",
    "    print (\"Else: Else block is executing...\")\n",
    "    print (\"Else: Had a smooth execution...\")\n",
    "finally:\n",
    "    print (\"Finally: Finally block is getting executed...\")\n",
    "    print (\"Finally: This block executes always...\")\n",
    "print (\"End of the program...\")"
   ]
  },
  {
   "cell_type": "code",
   "execution_count": 23,
   "id": "8419fdab-3cf9-4094-8d69-61a9c26618bc",
   "metadata": {},
   "outputs": [
    {
     "name": "stdin",
     "output_type": "stream",
     "text": [
      "Please enter the first number:  100\n",
      "Please enter the second number:  0\n"
     ]
    },
    {
     "name": "stdout",
     "output_type": "stream",
     "text": [
      "ZeroDivisionError: Division by ZERO is not Permitted...\n",
      "ZeroDivisionError: Error message - division by zero\n",
      "ZeroDivisionError: Error Type - <class 'ZeroDivisionError'>\n",
      "Finally: Finally block is getting executed...\n",
      "Finally: This block executes always...\n",
      "End of the program...\n"
     ]
    }
   ],
   "source": [
    "try:\n",
    "    num1 = int(input(\"Please enter the first number: \"))\n",
    "    num2 = int(input(\"Please enter the second number: \"))\n",
    "    quotient = num1 / num2\n",
    "    print (f\"So {num1} / {num2} = {quotient}...\")\n",
    "except ValueError as ve:\n",
    "    print (\"ValueError: Please provide Decimal INTEGER Numbers only as input...\")\n",
    "    print (\"ValueError: Error message -\", ve)\n",
    "    print (\"ValueError: Error Type -\", type(ve))\n",
    "except ZeroDivisionError as zde:\n",
    "    print (\"ZeroDivisionError: Division by ZERO is not Permitted...\")\n",
    "    print (\"ZeroDivisionError: Error message -\", zde)\n",
    "    print (\"ZeroDivisionError: Error Type -\", type(zde))\n",
    "except Exception as ex:\n",
    "    print (\"Exception: Exception has occurred...\")\n",
    "    print (\"Exception: Error message -\", ex)\n",
    "    print (\"Exception: Error Type -\", type(ex))\n",
    "else:\n",
    "    print (\"Else: Else block is executing...\")\n",
    "    print (\"Else: Had a smooth execution...\")\n",
    "finally:\n",
    "    print (\"Finally: Finally block is getting executed...\")\n",
    "    print (\"Finally: This block executes always...\")\n",
    "print (\"End of the program...\")"
   ]
  },
  {
   "cell_type": "code",
   "execution_count": 25,
   "id": "9ee27a31-0042-447f-9ce1-48dd6e31331a",
   "metadata": {},
   "outputs": [
    {
     "name": "stdin",
     "output_type": "stream",
     "text": [
      "Please enter the first number:  100\n",
      "Please enter the second number:  two\n"
     ]
    },
    {
     "name": "stdout",
     "output_type": "stream",
     "text": [
      "Exception: Exception has occurred...\n",
      "Exception: Error message - invalid literal for int() with base 10: 'two'\n",
      "Exception: Error Type - <class 'ValueError'>\n",
      "Finally: Finally block is getting executed...\n",
      "Finally: This block executes always...\n",
      "End of the program...\n"
     ]
    }
   ],
   "source": [
    "try:\n",
    "    num1 = int(input(\"Please enter the first number: \"))\n",
    "    num2 = int(input(\"Please enter the second number: \"))\n",
    "    quotient = num1 / num2\n",
    "    print (f\"So {num1} / {num2} = {quotient}...\")\n",
    "except Exception as ex:\n",
    "    print (\"Exception: Exception has occurred...\")\n",
    "    print (\"Exception: Error message -\", ex)\n",
    "    print (\"Exception: Error Type -\", type(ex))\n",
    "except ValueError as ve:\n",
    "    print (\"ValueError: Please provide Decimal INTEGER Numbers only as input...\")\n",
    "    print (\"ValueError: Error message -\", ve)\n",
    "    print (\"ValueError: Error Type -\", type(ve))\n",
    "except ZeroDivisionError as zde:\n",
    "    print (\"ZeroDivisionError: Division by ZERO is not Permitted...\")\n",
    "    print (\"ZeroDivisionError: Error message -\", zde)\n",
    "    print (\"ZeroDivisionError: Error Type -\", type(zde))\n",
    "else:\n",
    "    print (\"Else: Else block is executing...\")\n",
    "    print (\"Else: Had a smooth execution...\")\n",
    "finally:\n",
    "    print (\"Finally: Finally block is getting executed...\")\n",
    "    print (\"Finally: This block executes always...\")\n",
    "print (\"End of the program...\")"
   ]
  },
  {
   "cell_type": "code",
   "execution_count": 28,
   "id": "518e8260-5ebd-4bf2-b968-4e2f77ad7af6",
   "metadata": {},
   "outputs": [
    {
     "name": "stdin",
     "output_type": "stream",
     "text": [
      "Please enter the first number:  -400\n",
      "Please enter the second number:  3\n"
     ]
    },
    {
     "name": "stdout",
     "output_type": "stream",
     "text": [
      "NameError: Out of range Exception...!!!\n",
      "NameError: Below -100 input is given...\n",
      "Finally: Finally block is getting executed...\n",
      "Finally: This block executes always...\n",
      "End of the program...\n"
     ]
    }
   ],
   "source": [
    "try:\n",
    "    num1 = int(input(\"Please enter the first number: \"))\n",
    "    num2 = int(input(\"Please enter the second number: \"))\n",
    "    if (num1 < -100 or num2 < -100):\n",
    "        raise NameError(\"Lesser Number\")\n",
    "    if (num1 > 100 or num2 > 100):\n",
    "        raise NameError(\"Greater Number\")\n",
    "    quotient = num1 / num2\n",
    "    print (f\"So {num1} / {num2} = {quotient}...\")\n",
    "except NameError as ne:\n",
    "    print (\"NameError: Out of range Exception...!!!\")\n",
    "    if (str(ne) == \"Greater Number\"):\n",
    "        print (\"NameError: Above +100 input is given...\")\n",
    "    if (str(ne) == \"Lesser Number\"):\n",
    "        print (\"NameError: Below -100 input is given...\")\n",
    "except ValueError as ve:\n",
    "    print (\"ValueError: Please provide Decimal INTEGER Numbers only as input...\")\n",
    "    print (\"ValueError: Error message -\", ve)\n",
    "    print (\"ValueError: Error Type -\", type(ve))\n",
    "except ZeroDivisionError as zde:\n",
    "    print (\"ZeroDivisionError: Division by ZERO is not Permitted...\")\n",
    "    print (\"ZeroDivisionError: Error message -\", zde)\n",
    "    print (\"ZeroDivisionError: Error Type -\", type(zde))\n",
    "except Exception as ex:\n",
    "    print (\"Exception: Exception has occurred...\")\n",
    "    print (\"Exception: Error message -\", ex)\n",
    "    print (\"Exception: Error Type -\", type(ex))\n",
    "else:\n",
    "    print (\"Else: Else block is executing...\")\n",
    "    print (\"Else: Had a smooth execution...\")\n",
    "finally:\n",
    "    print (\"Finally: Finally block is getting executed...\")\n",
    "    print (\"Finally: This block executes always...\")\n",
    "print (\"End of the program...\")"
   ]
  },
  {
   "cell_type": "code",
   "execution_count": 29,
   "id": "3dffba95-e2ba-45cd-b8cf-825487b38dd2",
   "metadata": {},
   "outputs": [
    {
     "name": "stdin",
     "output_type": "stream",
     "text": [
      "Please enter the first number:  100\n",
      "Please enter the second number:  0\n"
     ]
    },
    {
     "name": "stdout",
     "output_type": "stream",
     "text": [
      "ZeroDivisionError: Division by ZERO is not Permitted...\n",
      "ZeroDivisionError: Error message - division by zero\n",
      "ZeroDivisionError: Error Type - <class 'ZeroDivisionError'>\n",
      "Finally: Finally block is getting executed...\n",
      "Finally: This block executes always...\n"
     ]
    },
    {
     "name": "stdin",
     "output_type": "stream",
     "text": [
      "Please enter the first number:  100\n",
      "Please enter the second number:  two\n"
     ]
    },
    {
     "name": "stdout",
     "output_type": "stream",
     "text": [
      "ValueError: Please provide Decimal INTEGER Numbers only as input...\n",
      "ValueError: Error message - invalid literal for int() with base 10: 'two'\n",
      "ValueError: Error Type - <class 'ValueError'>\n",
      "Finally: Finally block is getting executed...\n",
      "Finally: This block executes always...\n"
     ]
    },
    {
     "name": "stdin",
     "output_type": "stream",
     "text": [
      "Please enter the first number:  900\n",
      "Please enter the second number:  20\n"
     ]
    },
    {
     "name": "stdout",
     "output_type": "stream",
     "text": [
      "NameError: Out of range Exception...!!!\n",
      "NameError: Above +100 input is given...\n",
      "Finally: Finally block is getting executed...\n",
      "Finally: This block executes always...\n"
     ]
    },
    {
     "name": "stdin",
     "output_type": "stream",
     "text": [
      "Please enter the first number:  -900\n",
      "Please enter the second number:  20\n"
     ]
    },
    {
     "name": "stdout",
     "output_type": "stream",
     "text": [
      "NameError: Out of range Exception...!!!\n",
      "NameError: Below -100 input is given...\n",
      "Finally: Finally block is getting executed...\n",
      "Finally: This block executes always...\n"
     ]
    },
    {
     "name": "stdin",
     "output_type": "stream",
     "text": [
      "Please enter the first number:  200\n",
      "Please enter the second number:  40\n"
     ]
    },
    {
     "name": "stdout",
     "output_type": "stream",
     "text": [
      "NameError: Out of range Exception...!!!\n",
      "NameError: Above +100 input is given...\n",
      "Finally: Finally block is getting executed...\n",
      "Finally: This block executes always...\n"
     ]
    },
    {
     "name": "stdin",
     "output_type": "stream",
     "text": [
      "Please enter the first number:  100\n",
      "Please enter the second number:  40\n"
     ]
    },
    {
     "name": "stdout",
     "output_type": "stream",
     "text": [
      "So 100 / 40 = 2.5...\n",
      "Else: Else block is executing...\n",
      "Else: Had a smooth execution...\n",
      "Finally: Finally block is getting executed...\n",
      "Finally: This block executes always...\n",
      "End of the program...\n"
     ]
    }
   ],
   "source": [
    "while (True):\n",
    "    try:\n",
    "        num1 = int(input(\"Please enter the first number: \"))\n",
    "        num2 = int(input(\"Please enter the second number: \"))\n",
    "        if (num1 < -100 or num2 < -100):\n",
    "            raise NameError(\"Lesser Number\")\n",
    "        if (num1 > 100 or num2 > 100):\n",
    "            raise NameError(\"Greater Number\")\n",
    "        quotient = num1 / num2\n",
    "        print (f\"So {num1} / {num2} = {quotient}...\")\n",
    "    except NameError as ne:\n",
    "        print (\"NameError: Out of range Exception...!!!\")\n",
    "        if (str(ne) == \"Greater Number\"):\n",
    "            print (\"NameError: Above +100 input is given...\")\n",
    "        if (str(ne) == \"Lesser Number\"):\n",
    "            print (\"NameError: Below -100 input is given...\")\n",
    "    except ValueError as ve:\n",
    "        print (\"ValueError: Please provide Decimal INTEGER Numbers only as input...\")\n",
    "        print (\"ValueError: Error message -\", ve)\n",
    "        print (\"ValueError: Error Type -\", type(ve))\n",
    "    except ZeroDivisionError as zde:\n",
    "        print (\"ZeroDivisionError: Division by ZERO is not Permitted...\")\n",
    "        print (\"ZeroDivisionError: Error message -\", zde)\n",
    "        print (\"ZeroDivisionError: Error Type -\", type(zde))\n",
    "    except Exception as ex:\n",
    "        print (\"Exception: Exception has occurred...\")\n",
    "        print (\"Exception: Error message -\", ex)\n",
    "        print (\"Exception: Error Type -\", type(ex))\n",
    "    else:\n",
    "        print (\"Else: Else block is executing...\")\n",
    "        print (\"Else: Had a smooth execution...\")\n",
    "        break\n",
    "    finally:\n",
    "        print (\"Finally: Finally block is getting executed...\")\n",
    "        print (\"Finally: This block executes always...\")\n",
    "print (\"End of the program...\")"
   ]
  },
  {
   "cell_type": "code",
   "execution_count": null,
   "id": "b0eeded0-c61a-4825-9bfe-b4e395dbf2e1",
   "metadata": {},
   "outputs": [],
   "source": []
  }
 ],
 "metadata": {
  "kernelspec": {
   "display_name": "Python 3 (ipykernel)",
   "language": "python",
   "name": "python3"
  },
  "language_info": {
   "codemirror_mode": {
    "name": "ipython",
    "version": 3
   },
   "file_extension": ".py",
   "mimetype": "text/x-python",
   "name": "python",
   "nbconvert_exporter": "python",
   "pygments_lexer": "ipython3",
   "version": "3.11.7"
  }
 },
 "nbformat": 4,
 "nbformat_minor": 5
}

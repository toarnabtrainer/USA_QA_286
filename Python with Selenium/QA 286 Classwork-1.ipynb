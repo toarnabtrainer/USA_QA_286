{
 "cells": [
  {
   "cell_type": "markdown",
   "id": "e8decc2a-0d13-454e-a260-784bc43f15ab",
   "metadata": {},
   "source": [
    "# **Python Scripting**"
   ]
  },
  {
   "cell_type": "markdown",
   "id": "23332b4e-922d-4e73-87c9-501e2cd86c77",
   "metadata": {},
   "source": [
    "## **Day-1**"
   ]
  },
  {
   "cell_type": "markdown",
   "id": "bc148703-c2d4-47c6-9d85-6069749a170f",
   "metadata": {},
   "source": [
    "## **Python Inputs and Outputs**"
   ]
  },
  {
   "cell_type": "code",
   "execution_count": 4,
   "id": "45612f17-ede1-4a4c-b6eb-0d8a24944423",
   "metadata": {},
   "outputs": [
    {
     "name": "stdin",
     "output_type": "stream",
     "text": [
      "Please enter the first number: 100\n",
      "Please enter the second number: 400\n"
     ]
    },
    {
     "name": "stdout",
     "output_type": "stream",
     "text": [
      "100 <class 'str'> 400 <class 'str'>\n",
      "100400 <class 'str'>\n",
      "Total = 100400\n",
      "End of the program...\n"
     ]
    }
   ],
   "source": [
    "# python input and output statements\n",
    "num1 = input(\"Please enter the first number:\")\n",
    "num2 = input(\"Please enter the second number:\")\n",
    "print (num1, type(num1), num2, type(num2))\n",
    "result = num1 + num2\n",
    "print (result, type(result))\n",
    "print (\"Total =\", result)\n",
    "print (\"End of the program...\")"
   ]
  },
  {
   "cell_type": "code",
   "execution_count": 5,
   "id": "90af09b2-ffba-4821-9c6d-a1778b17c064",
   "metadata": {},
   "outputs": [
    {
     "name": "stdin",
     "output_type": "stream",
     "text": [
      "Please enter the first number: 100\n",
      "Please enter the second number: 400\n"
     ]
    },
    {
     "name": "stdout",
     "output_type": "stream",
     "text": [
      "100 <class 'int'> 400 <class 'int'>\n",
      "500 <class 'int'>\n",
      "Total = 500\n",
      "End of the program...\n"
     ]
    }
   ],
   "source": [
    "# python input and output statements\n",
    "num1 = int(input(\"Please enter the first number:\"))\n",
    "num2 = int(input(\"Please enter the second number:\"))\n",
    "print (num1, type(num1), num2, type(num2))\n",
    "result = num1 + num2\n",
    "print (result, type(result))\n",
    "print (\"Total =\", result)\n",
    "print (\"End of the program...\")"
   ]
  },
  {
   "cell_type": "code",
   "execution_count": 25,
   "id": "0d7fe277-2376-4c63-9d3d-cbdcf4ace12a",
   "metadata": {},
   "outputs": [
    {
     "name": "stdout",
     "output_type": "stream",
     "text": [
      "So 100 + 400 = 500\n",
      "So 100 + 400 = 500\n",
      "So 100 + 400 = 500\n",
      "So 100 + 400 = 500\n",
      "So 100 + 400 = 500\n",
      "So 100 + 400 = 500\n",
      "So 100 + 400 = 500\n",
      "So 100 + 400 = 500\n",
      "So 100.000000 + 400.000000 = 500\n",
      "So    100.000 +   400.00 = 500\n",
      "So 100 + 400 = 500\n",
      "So 100 + 400 = 500\n"
     ]
    }
   ],
   "source": [
    "print (\"So\", num1, \"+\", num2, \"=\", result)\n",
    "print (\"So \" + str(num1) + \" + \" + str(num2) + \" = \" + str(result))\n",
    "print (\"So {} + {} = {}\".format(num1, num2, result))   # {} called as a variable place holder\n",
    "print (\"So {0} + {1} = {2}\".format(num1, num2, result))   # numbered place holder\n",
    "print (\"So {2} + {1} = {0}\".format(result, num2, num1))   # numbered place holder\n",
    "print (\"So {fnum} + {snum} = {total}\".format(fnum = num1, snum = num2, total = result))   # labelled place holder\n",
    "print (\"So {fnum} + {snum} = {total}\".format(total = result, fnum = num1, snum = num2))   # labelled place holder\n",
    "print (\"So %d + %d = %d\"%(num1, num2, result))\n",
    "print (\"So %f + %f = %d\"%(num1, num2, result))   # number formatting, %d => decimal, %f => float format\n",
    "print (\"So %10.3f + %8.2f = %d\"%(num1, num2, result))\n",
    "print (\"So %d + %d = %d\"%(num1, num2, result))\n",
    "print (f\"So {num1} + {num2} = {result}\")   # smart formatting"
   ]
  },
  {
   "cell_type": "markdown",
   "id": "12655993-2902-4690-bd9e-2fa14237f49d",
   "metadata": {},
   "source": [
    "## **Dynamic Variable Types**"
   ]
  },
  {
   "cell_type": "code",
   "execution_count": 19,
   "id": "1aa62702-16d3-4eb2-9575-2d18f4b6ef5a",
   "metadata": {},
   "outputs": [
    {
     "name": "stdout",
     "output_type": "stream",
     "text": [
      "100 <class 'int'> 140708442525576\n",
      "100.5 <class 'float'> 2459626687312\n",
      "Python <class 'str'> 140708441260968\n",
      "P <class 'str'> 140708442567496\n",
      "Python <class 'str'> 140708441260968\n",
      "P <class 'str'> 140708442567496\n",
      "True <class 'bool'> 140708441049664\n",
      "False <class 'bool'> 140708441049696\n"
     ]
    }
   ],
   "source": [
    "var1 = 100; print (var1, type(var1), id(var1))\n",
    "var1 = 100.5; print (var1, type(var1), id(var1))\n",
    "var1 = \"Python\"; print (var1, type(var1), id(var1))\n",
    "var1 = \"P\"; print (var1, type(var1), id(var1))\n",
    "var1 = 'Python'; print (var1, type(var1), id(var1))\n",
    "var1 = 'P'; print (var1, type(var1), id(var1))\n",
    "var1 = True; print (var1, type(var1), id(var1))\n",
    "var1 = False; print (var1, type(var1), id(var1))"
   ]
  },
  {
   "cell_type": "markdown",
   "id": "d629009f-44ec-4c90-bb32-cc4d6ba3e2c5",
   "metadata": {},
   "source": [
    "## **Python Operators**"
   ]
  },
  {
   "cell_type": "code",
   "execution_count": null,
   "id": "041e2176-5710-404f-a4ed-492362fa8b2d",
   "metadata": {},
   "outputs": [],
   "source": [
    "# Arithmetic Operators: + - * / // ** %\n",
    "# Conditional Operators: > >= < <= != ==\n",
    "# Logical Operators: and or not\n",
    "# Assignment Operator: = \n",
    "# Special Assignment Operators: += -= *= /= //= **= %="
   ]
  },
  {
   "cell_type": "code",
   "execution_count": 28,
   "id": "0a0ef039-0a69-45d6-bdaf-dcca123fb7ea",
   "metadata": {},
   "outputs": [
    {
     "name": "stdout",
     "output_type": "stream",
     "text": [
      "140\n",
      "60\n",
      "4000\n",
      "2.5\n",
      "2\n",
      "20\n",
      "100000000\n"
     ]
    }
   ],
   "source": [
    "# Arithmetic Operators: + - * / // ** %\n",
    "print (100 + 40)\n",
    "print (100 - 40)\n",
    "print (100 * 40)\n",
    "print (100 / 40)    # float division\n",
    "print (100 // 40)   # integer division\n",
    "print (100 % 40)    # modulus, remainder of the division\n",
    "print (100 ** 4)    # exponentiation"
   ]
  },
  {
   "cell_type": "code",
   "execution_count": 32,
   "id": "8dee265b-4ddb-4853-a402-5a377779dc07",
   "metadata": {},
   "outputs": [
    {
     "name": "stdout",
     "output_type": "stream",
     "text": [
      "True True True True\n",
      "False True True False\n"
     ]
    }
   ],
   "source": [
    "# Conditional Operators: > >= < <= != ==\n",
    "print (100 > 40, 100 >= 40, 100 < 400, 100 <= 400)\n",
    "print (100 == 400, 100 == 100, 100 != 400, 100 != 100)"
   ]
  },
  {
   "cell_type": "code",
   "execution_count": 37,
   "id": "5b1a7d6d-8edc-45fe-8cea-64790058e7fa",
   "metadata": {},
   "outputs": [
    {
     "name": "stdout",
     "output_type": "stream",
     "text": [
      "False False False True\n",
      "False True True True\n",
      "True False\n"
     ]
    }
   ],
   "source": [
    "# Logical Operators: and or not\n",
    "print (False and False, False and True, True and False, True and True);\n",
    "print (False or False, False or True, True or False, True or True);\n",
    "print (not False, not True);"
   ]
  },
  {
   "cell_type": "code",
   "execution_count": 44,
   "id": "49ceecd6-975f-4e6a-a9fa-d0aef93b1491",
   "metadata": {},
   "outputs": [
    {
     "name": "stdout",
     "output_type": "stream",
     "text": [
      "100\n",
      "600\n",
      "560\n",
      "2240\n",
      "5017600\n"
     ]
    }
   ],
   "source": [
    "# Assignment Operator: = \n",
    "# Special Assignment Operators: += -= *= /= //= **= %=\n",
    "var1 = 100; print (var1)\n",
    "var1 += 500; print (var1)   # var1 = var1 + 500\n",
    "var1 -= 40; print (var1)\n",
    "var1 *= 4; print (var1)\n",
    "var1 **= 2; print (var1)"
   ]
  },
  {
   "cell_type": "code",
   "execution_count": null,
   "id": "5cbcc837-d2f8-4941-8c69-30f5eb1b6395",
   "metadata": {},
   "outputs": [],
   "source": [
    "# Operators: Unary, Binary, Ternary\n",
    "# Unary Operators (Require only one operand): +100 -300\n",
    "# Binary Operators (Require only two operands): 700 + 100    900 - 300\n",
    "# Ternary Operator (Requires only three operands)"
   ]
  },
  {
   "cell_type": "code",
   "execution_count": 47,
   "id": "4ecc640e-fdf7-45ba-aa8a-091f4b361d02",
   "metadata": {},
   "outputs": [
    {
     "name": "stdout",
     "output_type": "stream",
     "text": [
      "100 Even\n",
      "205 ODD\n"
     ]
    }
   ],
   "source": [
    "# Ternary Operator (Requires only three operands)\n",
    "num1 = 100\n",
    "result = \"Even\" if (num1 % 2 == 0) else \"ODD\"\n",
    "print (num1, result)\n",
    "\n",
    "num1 = 205\n",
    "result = \"Even\" if (num1 % 2 == 0) else \"ODD\"\n",
    "print (num1, result)"
   ]
  },
  {
   "cell_type": "markdown",
   "id": "86f99a9f-94fa-437e-99ca-82341a5dfbac",
   "metadata": {},
   "source": [
    "## **ASCII Codes and Characters**"
   ]
  },
  {
   "cell_type": "code",
   "execution_count": null,
   "id": "51844390-f593-466a-a7ff-a7de9f2bd740",
   "metadata": {},
   "outputs": [],
   "source": [
    "# ASCII (American Standard Code for Information Interchange) Codes\n",
    "# A => 65, B => 66, Z => 90\n",
    "# a => 97, b => 98, z => 122\n",
    "# 0 => 48, 1 => 49, 9 => 57\n",
    "# Space Bar/Blank => 32, Enter => 13, Esc => 27, Back Space => 9, Tab => 8\n",
    "# ASCII Code is 8 bits code ranging from 0 to 255\n",
    "# It can be divided into two categories:\n",
    "# 1. Normal ASCII Codes (0 to 127) - Printable\n",
    "# 2. Extended ASCII Codes (128 to 255) - Non-Printable"
   ]
  },
  {
   "cell_type": "code",
   "execution_count": 48,
   "id": "d1c9df01-d696-4fa5-ae21-c6dcc1c88cc7",
   "metadata": {},
   "outputs": [
    {
     "name": "stdout",
     "output_type": "stream",
     "text": [
      "65 97 90 122\n",
      "A a Z z\n"
     ]
    }
   ],
   "source": [
    "print (ord('A'), ord('a'), ord('Z'), ord('z'))  # returns characters to ASCII Codes\n",
    "print (chr(65), chr(97), chr(90), chr(122))     # returns ASCII Codes to characters"
   ]
  },
  {
   "cell_type": "markdown",
   "id": "3422a6e5-96a9-4e09-b957-030aed4a99ea",
   "metadata": {},
   "source": [
    "## **Conditional Statements**"
   ]
  },
  {
   "cell_type": "code",
   "execution_count": 62,
   "id": "bb5f3328-1ffe-43e0-93db-8f8cc9aed2d5",
   "metadata": {},
   "outputs": [
    {
     "name": "stdin",
     "output_type": "stream",
     "text": [
      "Please enter the first number: 33\n",
      "Please enter the second number: 11\n",
      "Please enter the third number: 22\n"
     ]
    },
    {
     "name": "stdout",
     "output_type": "stream",
     "text": [
      "So the first number is the MAXIMUM Number...\n",
      "So the maximum number is 33...\n",
      "End of the program...\n"
     ]
    }
   ],
   "source": [
    "num1 = int(input(\"Please enter the first number:\"))\n",
    "num2 = int(input(\"Please enter the second number:\"))\n",
    "num3 = int(input(\"Please enter the third number:\"))\n",
    "if (num1 > num2):\n",
    "    if (num1 > num3):\n",
    "        print (\"So the first number is the MAXIMUM Number...\")\n",
    "        print (f\"So the maximum number is {num1}...\")\n",
    "    else:\n",
    "        print (\"So the third number is the MAXIMUM Number...\")\n",
    "        print (f\"So the maximum number is {num3}...\")\n",
    "elif (num2 > num3):\n",
    "    print (\"So the second number is the MAXIMUM Number...\")\n",
    "    print (f\"So the maximum number is {num2}...\")\n",
    "else:\n",
    "    print (\"So the third number is the MAXIMUM Number...\")\n",
    "    print (f\"So the maximum number is {num3}...\")\n",
    "print (\"End of the program...\")"
   ]
  },
  {
   "cell_type": "code",
   "execution_count": 63,
   "id": "bd6eefff-e3db-417f-b37a-0ae0f472653d",
   "metadata": {},
   "outputs": [
    {
     "name": "stdin",
     "output_type": "stream",
     "text": [
      "Please enter the first number: 33\n",
      "Please enter the second number: 22\n",
      "Please enter the third number: 11\n"
     ]
    },
    {
     "name": "stdout",
     "output_type": "stream",
     "text": [
      "So the first number is the MAXIMUM Number...\n",
      "So the maximum number is 33...\n",
      "End of the program...\n"
     ]
    }
   ],
   "source": [
    "num1 = int(input(\"Please enter the first number:\"))\n",
    "num2 = int(input(\"Please enter the second number:\"))\n",
    "num3 = int(input(\"Please enter the third number:\"))\n",
    "if (num1 > num2 and num1 > num3):\n",
    "    print (\"So the first number is the MAXIMUM Number...\")\n",
    "    print (f\"So the maximum number is {num1}...\")\n",
    "elif (num2 > num3):\n",
    "    print (\"So the second number is the MAXIMUM Number...\")\n",
    "    print (f\"So the maximum number is {num2}...\")\n",
    "else:\n",
    "    print (\"So the third number is the MAXIMUM Number...\")\n",
    "    print (f\"So the maximum number is {num3}...\")\n",
    "print (\"End of the program...\")"
   ]
  },
  {
   "cell_type": "markdown",
   "id": "b7989fcc-4c00-4895-926b-c038008bc003",
   "metadata": {},
   "source": [
    "## **Dealing with 'print' statement**"
   ]
  },
  {
   "cell_type": "code",
   "execution_count": 51,
   "id": "84d06f22-beba-4903-8826-d26661d494a7",
   "metadata": {},
   "outputs": [
    {
     "name": "stdout",
     "output_type": "stream",
     "text": [
      "Hello to all\n",
      "Good afternoon\n"
     ]
    }
   ],
   "source": [
    "print (\"Hello\", \"to all\")\n",
    "print (\"Good afternoon\")"
   ]
  },
  {
   "cell_type": "code",
   "execution_count": 52,
   "id": "c7ef9f51-d779-411b-b909-70a6c244a760",
   "metadata": {},
   "outputs": [
    {
     "name": "stdout",
     "output_type": "stream",
     "text": [
      "Help on built-in function print in module builtins:\n",
      "\n",
      "print(*args, sep=' ', end='\\n', file=None, flush=False)\n",
      "    Prints the values to a stream, or to sys.stdout by default.\n",
      "    \n",
      "    sep\n",
      "      string inserted between values, default a space.\n",
      "    end\n",
      "      string appended after the last value, default a newline.\n",
      "    file\n",
      "      a file-like object (stream); defaults to the current sys.stdout.\n",
      "    flush\n",
      "      whether to forcibly flush the stream.\n",
      "\n"
     ]
    }
   ],
   "source": [
    "help (print)   # ... ellipsis"
   ]
  },
  {
   "cell_type": "code",
   "execution_count": 55,
   "id": "7ea3a69e-bc70-4628-a023-92ffa487cf42",
   "metadata": {},
   "outputs": [
    {
     "name": "stdout",
     "output_type": "stream",
     "text": [
      "Hello, to all\n",
      "Hello - to all, Good afternoon\n"
     ]
    }
   ],
   "source": [
    "print (\"Hello\", \"to all\", sep = \", \")\n",
    "print (\"Hello\", \"to all\", sep = \" - \", end = \", \")\n",
    "print (\"Good afternoon\")"
   ]
  },
  {
   "cell_type": "markdown",
   "id": "9fad5f2b-ed00-40ed-8b7b-f96a9d3f006e",
   "metadata": {},
   "source": [
    "## **Day-2**"
   ]
  },
  {
   "cell_type": "markdown",
   "id": "7a7c9604-8ca5-4119-94ac-f753d617cdc3",
   "metadata": {},
   "source": [
    "## **Python Loops**"
   ]
  },
  {
   "cell_type": "code",
   "execution_count": 3,
   "id": "85024cca-2cb2-470e-b070-3fa74d35b1ff",
   "metadata": {},
   "outputs": [
    {
     "name": "stdout",
     "output_type": "stream",
     "text": [
      "Looping for i = 0...\n",
      "Looping for i = 1...\n",
      "Looping for i = 2...\n",
      "Looping for i = 3...\n",
      "Looping for i = 4...\n",
      "Looping for i = 5...\n",
      "Looping for i = 6...\n",
      "Looping for i = 7...\n",
      "Looping for i = 8...\n",
      "Looping for i = 9...\n",
      "End of the loop...\n"
     ]
    }
   ],
   "source": [
    "for i in range(10):\n",
    "    print (f\"Looping for i = {i}...\")\n",
    "print (\"End of the loop...\")"
   ]
  },
  {
   "cell_type": "code",
   "execution_count": 5,
   "id": "217d9957-67d1-4ffb-9247-f4e741fa1cd0",
   "metadata": {},
   "outputs": [
    {
     "name": "stdout",
     "output_type": "stream",
     "text": [
      "Looping for i = 4...\n",
      "Looping for i = 5...\n",
      "Looping for i = 6...\n",
      "Looping for i = 7...\n",
      "Looping for i = 8...\n",
      "Looping for i = 9...\n",
      "End of the loop...\n"
     ]
    }
   ],
   "source": [
    "for i in range(4, 10):\n",
    "    print (f\"Looping for i = {i}...\")\n",
    "print (\"End of the loop...\")"
   ]
  },
  {
   "cell_type": "code",
   "execution_count": 8,
   "id": "661ce84a-5030-43fb-8351-93560e5192b6",
   "metadata": {},
   "outputs": [
    {
     "name": "stdout",
     "output_type": "stream",
     "text": [
      "Looping for i = 0...\n",
      "Looping again...\n",
      "Looping for i = 2...\n",
      "Looping again...\n",
      "Looping for i = 4...\n",
      "Looping again...\n",
      "Looping for i = 6...\n",
      "Looping again...\n",
      "Looping for i = 8...\n",
      "Looping again...\n",
      "End of the loop...\n"
     ]
    }
   ],
   "source": [
    "for i in range(0, 10, 2):\n",
    "    print (f\"Looping for i = {i}...\")\n",
    "    print (\"Looping again...\")\n",
    "print (\"End of the loop...\")"
   ]
  },
  {
   "cell_type": "code",
   "execution_count": 12,
   "id": "288dfe69-b192-47b6-976c-12c6b5a8bfd5",
   "metadata": {},
   "outputs": [
    {
     "name": "stdout",
     "output_type": "stream",
     "text": [
      "Looping with i = 0...\n",
      "Looping with i = 1...\n",
      "Looping with i = 2...\n",
      "Looping with i = 3...\n",
      "Looping with i = 4...\n",
      "Looping with i = 5...\n",
      "Looping with i = 6...\n",
      "Looping with i = 7...\n",
      "ELSE block is executing...\n",
      "Had a smooth execution..\n",
      "End of the looping...\n"
     ]
    }
   ],
   "source": [
    "for i in range(8):\n",
    "    print (f\"Looping with i = {i}...\")\n",
    "else:\n",
    "    print (\"ELSE block is executing...\")\n",
    "    print (\"Had a smooth execution..\")\n",
    "print (\"End of the looping...\")"
   ]
  },
  {
   "cell_type": "code",
   "execution_count": 15,
   "id": "f49360f4-436c-40b3-bd77-44ed48ea4b57",
   "metadata": {},
   "outputs": [
    {
     "name": "stdout",
     "output_type": "stream",
     "text": [
      "Looping for i = 0...\n",
      "Looping for i = 1...\n",
      "Looping for i = 2...\n",
      "Looping for i = 3...\n",
      "Looping for i = 4...\n",
      "Executing BREAK statement for i = 5...\n",
      "End of the loop...\n"
     ]
    }
   ],
   "source": [
    "for i in range(10):\n",
    "    if (i == 5):\n",
    "        print (f\"Executing BREAK statement for i = {i}...\")\n",
    "        break\n",
    "    print (f\"Looping for i = {i}...\")\n",
    "else:\n",
    "    print (\"ELSE block is executing...\")\n",
    "    print (\"Had a smooth execution..\")\n",
    "print (\"End of the loop...\")"
   ]
  },
  {
   "cell_type": "code",
   "execution_count": 17,
   "id": "8aa8e528-b9b5-47db-b0cf-5e970b2e7736",
   "metadata": {},
   "outputs": [
    {
     "name": "stdin",
     "output_type": "stream",
     "text": [
      "Please enter one integer:  101\n"
     ]
    },
    {
     "name": "stdout",
     "output_type": "stream",
     "text": [
      "101 is a PRIME NUMBER...\n",
      "End of the program...\n"
     ]
    }
   ],
   "source": [
    "# check whether one user given number is prime or not\n",
    "# n will be a prime number, if n can be divided by either 1 or n only\n",
    "# examples: 2, 5, 7, 11, 13, 17, 19, ...\n",
    "num = int(input(\"Please enter one integer: \"))\n",
    "for i in range(2, num):\n",
    "    if (num % i == 0):\n",
    "        print (f\"{num} is NOT a PRIME NUMBER...\")\n",
    "        break\n",
    "else:\n",
    "    print (f\"{num} is a PRIME NUMBER...\")\n",
    "print (\"End of the program...\")"
   ]
  },
  {
   "cell_type": "code",
   "execution_count": 18,
   "id": "7c2aea98-5330-4033-b977-5962f7326bce",
   "metadata": {},
   "outputs": [
    {
     "name": "stdout",
     "output_type": "stream",
     "text": [
      "Looping for i = 0...\n",
      "Looping for i = 1...\n",
      "Looping for i = 2...\n",
      "Looping for i = 3...\n",
      "Looping for i = 4...\n",
      "Resuming the loop with CONTINUE statement for i = 5...\n",
      "Looping for i = 6...\n",
      "Resuming the loop with CONTINUE statement for i = 7...\n",
      "Looping for i = 8...\n",
      "Looping for i = 9...\n",
      "ELSE block is executing...\n",
      "Had a smooth execution..\n",
      "End of the loop...\n"
     ]
    }
   ],
   "source": [
    "for i in range(10):\n",
    "    if (i == 5 or i == 7):\n",
    "        print (f\"Resuming the loop with CONTINUE statement for i = {i}...\")\n",
    "        continue\n",
    "    print (f\"Looping for i = {i}...\")\n",
    "else:\n",
    "    print (\"ELSE block is executing...\")\n",
    "    print (\"Had a smooth execution..\")\n",
    "print (\"End of the loop...\")"
   ]
  },
  {
   "cell_type": "code",
   "execution_count": 21,
   "id": "1d7baa4f-a0ce-467c-9ae9-29087f914c5c",
   "metadata": {},
   "outputs": [
    {
     "name": "stdout",
     "output_type": "stream",
     "text": [
      "100 is an EVEN number...\n",
      "End of the program...\n"
     ]
    }
   ],
   "source": [
    "num = 100\n",
    "if (num % 2 == 0):\n",
    "    print (f\"{num} is an EVEN number...\")\n",
    "print (\"End of the program...\")"
   ]
  },
  {
   "cell_type": "code",
   "execution_count": 24,
   "id": "cebce5b1-090c-4792-b773-4a717dbb58d3",
   "metadata": {},
   "outputs": [
    {
     "name": "stdout",
     "output_type": "stream",
     "text": [
      "100 is an EVEN number...\n",
      "End of the program...\n"
     ]
    }
   ],
   "source": [
    "num = 100\n",
    "if (num % 2 != 0):\n",
    "    pass    # pass is a statement placeholder\n",
    "else:\n",
    "    print (f\"{num} is an EVEN number...\")\n",
    "print (\"End of the program...\")"
   ]
  },
  {
   "cell_type": "code",
   "execution_count": 26,
   "id": "2d24fd13-d3b9-4de5-8adf-f92a9cacabf2",
   "metadata": {},
   "outputs": [
    {
     "name": "stdout",
     "output_type": "stream",
     "text": [
      "101 is an ODD number...\n",
      "End of the program...\n"
     ]
    }
   ],
   "source": [
    "num = 101\n",
    "if (num % 2 != 0):\n",
    "    print (f\"{num} is an ODD number...\")\n",
    "else:\n",
    "    print (f\"{num} is an EVEN number...\")\n",
    "print (\"End of the program...\")"
   ]
  },
  {
   "cell_type": "code",
   "execution_count": 30,
   "id": "cb654452-97a9-48e1-96bf-f4bf9f382124",
   "metadata": {},
   "outputs": [],
   "source": [
    "for i in range(10):\n",
    "    pass"
   ]
  },
  {
   "cell_type": "code",
   "execution_count": 31,
   "id": "0752d4cf-4ae2-478a-9a82-db2254cee74a",
   "metadata": {},
   "outputs": [
    {
     "name": "stdout",
     "output_type": "stream",
     "text": [
      "Looping for i = 1...\n",
      "Looping for i = 2...\n",
      "Looping for i = 3...\n",
      "Looping for i = 4...\n",
      "Looping for i = 5...\n",
      "Looping for i = 6...\n",
      "Looping for i = 7...\n",
      "Looping for i = 8...\n",
      "Looping for i = 9...\n",
      "Looping for i = 10...\n",
      "Else block is executing...\n",
      "End of the loop...\n"
     ]
    }
   ],
   "source": [
    "i = 1\n",
    "while (i <= 10):\n",
    "    print (f\"Looping for i = {i}...\")\n",
    "    i = i + 1\n",
    "else:\n",
    "    print (\"Else block is executing...\")\n",
    "print (\"End of the loop...\")"
   ]
  },
  {
   "cell_type": "code",
   "execution_count": 3,
   "id": "4dc183c2-6a11-4abc-a551-e52cdf93fd9e",
   "metadata": {},
   "outputs": [
    {
     "name": "stdin",
     "output_type": "stream",
     "text": [
      "Please enter one integer:  101\n"
     ]
    },
    {
     "name": "stdout",
     "output_type": "stream",
     "text": [
      "101 is a PRIME NUMBER...\n",
      "End of the program...\n"
     ]
    }
   ],
   "source": [
    "# check whether one user given number is prime or not\n",
    "# n will be a prime number, if n can be divided by either 1 or n only\n",
    "# examples: 2, 5, 7, 11, 13, 17, 19, ...\n",
    "num = int(input(\"Please enter one integer: \"))\n",
    "i = 2\n",
    "while (i < num):\n",
    "    if (num % i == 0):\n",
    "        print (f\"{num} is NOT a PRIME NUMBER...\")\n",
    "        break\n",
    "    i += 1   # i = i + 1\n",
    "else:\n",
    "    print (f\"{num} is a PRIME NUMBER...\")\n",
    "print (\"End of the program...\")"
   ]
  },
  {
   "cell_type": "code",
   "execution_count": 36,
   "id": "98fdf454-9e60-477d-affb-6e674b0c3505",
   "metadata": {},
   "outputs": [
    {
     "name": "stdout",
     "output_type": "stream",
     "text": [
      "Looping for i = 0...\n",
      "Looping for i = 1...\n",
      "Looping for i = 2...\n",
      "Looping for i = 3...\n",
      "Looping for i = 4...\n",
      "Resuming the loop with CONTINUE statement for i = 5...\n",
      "Looping for i = 6...\n",
      "Resuming the loop with CONTINUE statement for i = 7...\n",
      "Looping for i = 8...\n",
      "Looping for i = 9...\n",
      "ELSE block is executing...\n",
      "Had a smooth execution..\n",
      "End of the loop...\n"
     ]
    }
   ],
   "source": [
    "i = 0\n",
    "while (i < 10):\n",
    "    if (i == 5 or i == 7):\n",
    "        print (f\"Resuming the loop with CONTINUE statement for i = {i}...\")\n",
    "        i += 1\n",
    "        continue\n",
    "    print (f\"Looping for i = {i}...\")\n",
    "    i += 1\n",
    "else:\n",
    "    print (\"ELSE block is executing...\")\n",
    "    print (\"Had a smooth execution..\")\n",
    "print (\"End of the loop...\")"
   ]
  },
  {
   "cell_type": "code",
   "execution_count": 7,
   "id": "f5cbc2f5-bd6a-4ea9-9921-adba1007dc4b",
   "metadata": {},
   "outputs": [
    {
     "name": "stdout",
     "output_type": "stream",
     "text": [
      "Visit the DOCTOR...\n",
      "Good Morning...\n",
      "Day Number - 1 and Medicine Number - 1...\n",
      "Day Number - 1 and Medicine Number - 2...\n",
      "Day Number - 1 and Medicine Number - 3...\n",
      "Good Night...\n",
      "-------------------------------------------------------------\n",
      "Good Morning...\n",
      "Day Number - 2 and Medicine Number - 1...\n",
      "Day Number - 2 and Medicine Number - 2...\n",
      "Day Number - 2 and Medicine Number - 3...\n",
      "Good Night...\n",
      "-------------------------------------------------------------\n",
      "Good Morning...\n",
      "Day Number - 3 and Medicine Number - 1...\n",
      "Day Number - 3 and Medicine Number - 2...\n",
      "Day Number - 3 and Medicine Number - 3...\n",
      "Good Night...\n",
      "-------------------------------------------------------------\n",
      "Good Morning...\n",
      "Day Number - 4 and Medicine Number - 1...\n",
      "Day Number - 4 and Medicine Number - 2...\n",
      "Day Number - 4 and Medicine Number - 3...\n",
      "Good Night...\n",
      "-------------------------------------------------------------\n",
      "Good Morning...\n",
      "Day Number - 5 and Medicine Number - 1...\n",
      "Day Number - 5 and Medicine Number - 2...\n",
      "Day Number - 5 and Medicine Number - 3...\n",
      "Good Night...\n",
      "-------------------------------------------------------------\n",
      "Thanks to DOCTOR...\n",
      "Total number of medicines consumed is 15...\n"
     ]
    }
   ],
   "source": [
    "# example of nested looping\n",
    "print (\"Visit the DOCTOR...\")   # 1 time\n",
    "medicount = 0\n",
    "for day in range(1, 6, 1):\n",
    "    print (\"Good Morning...\")   # 5 times\n",
    "    for medi in range(1, 4, 1):\n",
    "        print (f\"Day Number - {day} and Medicine Number - {medi}...\")   # 15 times\n",
    "        medicount += 1   # 15 times\n",
    "    print (\"Good Night...\")   # 5 times\n",
    "    print (\"-------------------------------------------------------------\")\n",
    "print (\"Thanks to DOCTOR...\")   # 1 time\n",
    "print (f\"Total number of medicines consumed is {medicount}...\")   # 1 time"
   ]
  },
  {
   "cell_type": "code",
   "execution_count": 8,
   "id": "b40aaa87-9f5b-412c-ba24-a732c9ce842c",
   "metadata": {},
   "outputs": [
    {
     "name": "stdout",
     "output_type": "stream",
     "text": [
      "Visit the DOCTOR...\n",
      "Good Morning...\n",
      "Day Number - 1 and Medicine Number - 1...\n",
      "Day Number - 1 and Medicine Number - 2...\n",
      "Day Number - 1 and Medicine Number - 3...\n",
      "Good Night...\n",
      "-------------------------------------------------------------\n",
      "Good Morning...\n",
      "Day Number - 2 and Medicine Number - 1...\n",
      "Day Number - 2 and Medicine Number - 2...\n",
      "Day Number - 2 and Medicine Number - 3...\n",
      "Good Night...\n",
      "-------------------------------------------------------------\n",
      "Good Morning...\n",
      "Day Number - 3 and Medicine Number - 1...\n",
      "Day Number - 3 and Medicine Number - 2...\n",
      "Day Number - 3 and Medicine Number - 3...\n",
      "Good Night...\n",
      "-------------------------------------------------------------\n",
      "Good Morning...\n",
      "Day Number - 4 and Medicine Number - 1...\n",
      "Day Number - 4 and Medicine Number - 2...\n",
      "Day Number - 4 and Medicine Number - 3...\n",
      "Good Night...\n",
      "-------------------------------------------------------------\n",
      "Good Morning...\n",
      "Day Number - 5 and Medicine Number - 1...\n",
      "Day Number - 5 and Medicine Number - 2...\n",
      "Day Number - 5 and Medicine Number - 3...\n",
      "Good Night...\n",
      "-------------------------------------------------------------\n",
      "Thanks to DOCTOR...\n",
      "Total number of medicines consumed is 15...\n"
     ]
    }
   ],
   "source": [
    "# example of nested looping\n",
    "print (\"Visit the DOCTOR...\")   # 1 time\n",
    "medicount = 0\n",
    "day = 1\n",
    "while (day < 6):\n",
    "    print (\"Good Morning...\")   # 5 times\n",
    "    medi = 1\n",
    "    while (medi < 4):\n",
    "        print (f\"Day Number - {day} and Medicine Number - {medi}...\")   # 15 times\n",
    "        medicount += 1   # 15 times\n",
    "        medi += 1\n",
    "    print (\"Good Night...\")   # 5 times\n",
    "    print (\"-------------------------------------------------------------\")\n",
    "    day += 1\n",
    "print (\"Thanks to DOCTOR...\")   # 1 time\n",
    "print (f\"Total number of medicines consumed is {medicount}...\")   # 1 time"
   ]
  },
  {
   "cell_type": "markdown",
   "id": "46af5428-d062-415b-9441-1148a2aaa2d4",
   "metadata": {},
   "source": [
    " ## **Python Inbuilt Collections**"
   ]
  },
  {
   "cell_type": "code",
   "execution_count": 9,
   "id": "0fc9c787-92f8-4548-bb6a-bccedce3e2e6",
   "metadata": {},
   "outputs": [
    {
     "name": "stdout",
     "output_type": "stream",
     "text": [
      "[100, 2.45, True, 'Food', 201] 5 <class 'list'> 2876104954432\n",
      "(100, 2.45, True, 'Food', 201) 5 <class 'tuple'> 2876079634320\n",
      "{'name': 'Bidisha', 'location': 'Noida', 'job': 'Developer', 'company': 'Accenture'} 4 <class 'dict'> 2876087380288\n",
      "{True, 2.45, 100, 'Delhi', 201, 'Food'} 6 <class 'set'> 2876079406464\n",
      "frozenset({True, 2.45, 100, 'Delhi', 201, 'Food'}) 6 <class 'frozenset'> 2876082542560\n"
     ]
    }
   ],
   "source": [
    "# different inbuilt collections\n",
    "list1 = [100, 2.45, True, \"Food\", 201]   # mutable\n",
    "print (list1, len(list1), type(list1), id(list1))\n",
    "tuple1 = (100, 2.45, True, \"Food\", 201)   # immutable, read only\n",
    "print (tuple1, len(tuple1), type(tuple1), id(tuple1))\n",
    "dict1 = {'name':'Bidisha', 'location':'Noida', 'job':'Developer', 'company':'Accenture'} # mutable\n",
    "print (dict1, len(dict1), type(dict1), id(dict1))\n",
    "set1 = {\"Delhi\", 100, 2.45, True, \"Food\", 201, True, \"Food\", 201}\n",
    "print (set1, len(set1), type(set1), id(set1))\n",
    "fset1 = frozenset([\"Delhi\", 100, 2.45, True, \"Food\", 201, True, \"Food\", 201]) # immutable, read only\n",
    "print (fset1, len(fset1), type(fset1), id(fset1))"
   ]
  },
  {
   "cell_type": "markdown",
   "id": "91858929-a3cd-4836-8c35-9b80ce1ab5f8",
   "metadata": {},
   "source": [
    "## **Day-3**"
   ]
  },
  {
   "cell_type": "markdown",
   "id": "cd36af32-c76c-445f-8787-dcdd4f90202f",
   "metadata": {},
   "source": [
    "## **User Defined Function (UDF)**"
   ]
  },
  {
   "cell_type": "code",
   "execution_count": 11,
   "id": "3b7ca5a4-98b5-4aeb-962a-3b9a3a9a478e",
   "metadata": {},
   "outputs": [
    {
     "name": "stdout",
     "output_type": "stream",
     "text": [
      "Hello Hello Hello Hello Hello \n",
      "Hello Hello Hello Hello Hello \n",
      "Hello Hello Hello Hello Hello \n",
      "End of the program...\n"
     ]
    }
   ],
   "source": [
    "def funct1():     # def stands for define\n",
    "    print (\"Hello \" * 5)\n",
    "\n",
    "funct1()\n",
    "funct1()\n",
    "funct1()\n",
    "\n",
    "print (\"End of the program...\")"
   ]
  },
  {
   "cell_type": "code",
   "execution_count": 10,
   "id": "2716de05-8f65-445b-9f64-1bd772afef0c",
   "metadata": {},
   "outputs": [
    {
     "name": "stdout",
     "output_type": "stream",
     "text": [
      "Hello Hello Hello Hello Hello \n",
      "Good evening. Good evening. Good evening. \n",
      "Hi !!! Hi !!! Hi !!! Hi !!! Hi !!! Hi !!! Hi !!! \n",
      "End of the program...\n"
     ]
    }
   ],
   "source": [
    "def funct2(msg, times):  # positional parameters\n",
    "    print (msg * times)\n",
    "\n",
    "funct2(\"Hello \", 5)    # positional arguments\n",
    "funct2(\"Good evening. \", 3)\n",
    "funct2(\"Hi !!! \", 7)\n",
    "\n",
    "print (\"End of the program...\")"
   ]
  },
  {
   "cell_type": "code",
   "execution_count": 13,
   "id": "0e982b67-68a4-46dd-ad90-0a49ee5c73db",
   "metadata": {},
   "outputs": [
    {
     "name": "stdout",
     "output_type": "stream",
     "text": [
      "Hello Hello Hello Hello Hello \n",
      "<class 'str'> <class 'str'>\n",
      "Good evening. Good evening. Good evening. \n",
      "Hi !!! Hi !!! Hi !!! Hi !!! Hi !!! Hi !!! Hi !!! \n",
      "End of the program...\n"
     ]
    }
   ],
   "source": [
    "def funct3(msg, times):  # positional parameters\n",
    "    return msg * times\n",
    "\n",
    "result = funct3(\"Hello \", 5)    # positional arguments\n",
    "print (result)\n",
    "output = funct3(\"Good evening. \", 3)\n",
    "print (type(output), type(result))\n",
    "print (output)\n",
    "print (funct3(\"Hi !!! \", 7))\n",
    "\n",
    "print (\"End of the program...\")"
   ]
  },
  {
   "cell_type": "code",
   "execution_count": 24,
   "id": "0293365e-272c-4471-9273-1e30e037feb1",
   "metadata": {},
   "outputs": [
    {
     "name": "stdout",
     "output_type": "stream",
     "text": [
      "par1 = 100, par2 = 200 and par3 = 300...\n",
      "par1 = 100, par2 = 200 and par3 = 333...\n",
      "par1 = 100, par2 = 222 and par3 = 333...\n",
      "par1 = 111, par2 = 222 and par3 = 333...\n",
      "par1 = 100, par2 = 222 and par3 = 300...\n",
      "par1 = 111, par2 = 200 and par3 = 300...\n",
      "par1 = 111, par2 = 200 and par3 = 333...\n",
      "End of the program...\n"
     ]
    }
   ],
   "source": [
    "# function with default arguments\n",
    "def funct4(par1 = 111, par2 = 222, par3 = 333):  # positional parameters\n",
    "    print (f\"par1 = {par1}, par2 = {par2} and par3 = {par3}...\")\n",
    "\n",
    "funct4(100, 200, 300)    # positional arguments\n",
    "funct4(100, 200)\n",
    "funct4(100)\n",
    "funct4()\n",
    "funct4(par1 = 100, par3 = 300)\n",
    "funct4(par3 = 300, par2 = 200)\n",
    "funct4(par2 = 200)\n",
    "print (\"End of the program...\")"
   ]
  },
  {
   "cell_type": "code",
   "execution_count": 25,
   "id": "54e04662-3a56-4f9a-9256-43d87124a9ac",
   "metadata": {},
   "outputs": [
    {
     "name": "stdout",
     "output_type": "stream",
     "text": [
      "300\n",
      "200\n"
     ]
    }
   ],
   "source": [
    "def funct5(par1, par2 = None):\n",
    "    if (par2 == None):\n",
    "        return 2 * par1\n",
    "    else:\n",
    "        return par1 + par2\n",
    "    \n",
    "print (funct5(100, 200))\n",
    "print (funct5(100))"
   ]
  },
  {
   "cell_type": "code",
   "execution_count": 40,
   "id": "312ca730-88a7-4743-99f1-d9087e1d56ba",
   "metadata": {},
   "outputs": [
    {
     "name": "stdout",
     "output_type": "stream",
     "text": [
      "Total = 140, Difference = 60, Product = 4000 and Quotient = 2.5...\n",
      "(140, 60, 4000, 2.5) 4 <class 'tuple'>\n",
      "Total = 140, Difference = 60, Product = 4000 and Quotient = 2.5...\n",
      "<class 'function'>\n"
     ]
    }
   ],
   "source": [
    "# function returning multiple values\n",
    "def funct6(num1, num2):\n",
    "    total = num1 + num2\n",
    "    difference = num1 - num2\n",
    "    product = num1 * num2\n",
    "    quotient = num1 / num2\n",
    "    return total, difference, product, quotient\n",
    "\n",
    "tt, dd, pp, qq = funct6(100, 40)\n",
    "print (f\"Total = {tt}, Difference = {dd}, Product = {pp} and Quotient = {qq}...\")\n",
    "result = funct6(100, 40)\n",
    "print (result, len(result), type(result))\n",
    "print (f\"Total = {result[0]}, Difference = {result[1]}, Product = {result[2]} and Quotient = {result[3]}...\")\n",
    "print (type(funct6))"
   ]
  },
  {
   "cell_type": "code",
   "execution_count": 29,
   "id": "c7d97211-3b01-4f9f-b158-41f314d3a877",
   "metadata": {},
   "outputs": [
    {
     "name": "stdout",
     "output_type": "stream",
     "text": [
      "('Amitava', 'Male', 'Developer') <class 'tuple'> 3\n",
      "('Amitava', 'Male', 'Developer', 'Pune') <class 'tuple'> 4\n",
      "('Amitava', 'Male', 'Developer', 'Pune', 'Accenture') <class 'tuple'> 5\n"
     ]
    }
   ],
   "source": [
    "# function with variable number of arguments\n",
    "def funct7(*arg):    # here *arg will define forefully arg as tuple type object\n",
    "    print (arg, type(arg), len(arg))\n",
    "    \n",
    "funct7(\"Amitava\", \"Male\", \"Developer\")\n",
    "funct7(\"Amitava\", \"Male\", \"Developer\", \"Pune\")\n",
    "funct7(\"Amitava\", \"Male\", \"Developer\", \"Pune\", \"Accenture\")"
   ]
  },
  {
   "cell_type": "code",
   "execution_count": 31,
   "id": "de9e2687-7c79-4996-85d4-500296367094",
   "metadata": {},
   "outputs": [
    {
     "name": "stdout",
     "output_type": "stream",
     "text": [
      "{'name': 'Amitava', 'gender': 'Male', 'desig': 'Developer'} <class 'dict'> 3\n",
      "{'name': 'Amitava', 'gender': 'Male', 'desig': 'Developer', 'loc': 'Pune'} <class 'dict'> 4\n",
      "{'name': 'Amitava', 'gender': 'Male', 'desig': 'Developer', 'loc': 'Pune', 'comp': 'Accenture'} <class 'dict'> 5\n"
     ]
    }
   ],
   "source": [
    "# function with variable number of arguments\n",
    "def funct8(**kwarg):    # here **kwarg will define forefully kwarg as dictionary type object\n",
    "    print (kwarg, type(kwarg), len(kwarg))\n",
    "    \n",
    "funct8(name = \"Amitava\", gender = \"Male\", desig = \"Developer\")\n",
    "funct8(name = \"Amitava\", gender = \"Male\", desig = \"Developer\", loc = \"Pune\")\n",
    "funct8(name = \"Amitava\", gender = \"Male\", desig = \"Developer\", loc = \"Pune\", comp = \"Accenture\")"
   ]
  },
  {
   "cell_type": "code",
   "execution_count": 32,
   "id": "51b6bf6c-3084-43a6-a5e7-f9efa8d52645",
   "metadata": {},
   "outputs": [
    {
     "name": "stdout",
     "output_type": "stream",
     "text": [
      "('Amitava', 'Male', 'Developer') <class 'tuple'> 3\n",
      "{'loc': 'Pune', 'comp': 'Accenture', 'tech': 'Java'} <class 'dict'> 3\n",
      "\n",
      "('Amitava', 'Male', 'Developer') <class 'tuple'> 3\n",
      "{} <class 'dict'> 0\n",
      "\n",
      "() <class 'tuple'> 0\n",
      "{'loc': 'Pune', 'comp': 'Accenture', 'tech': 'Java'} <class 'dict'> 3\n"
     ]
    }
   ],
   "source": [
    "# function with variable number of arguments\n",
    "def funct9(*arg, **kwarg):\n",
    "    print (arg, type(arg), len(arg))\n",
    "    print (kwarg, type(kwarg), len(kwarg))\n",
    "    \n",
    "funct9(\"Amitava\", \"Male\", \"Developer\", loc = \"Pune\", comp = \"Accenture\", tech = \"Java\")\n",
    "print ()\n",
    "funct9(\"Amitava\", \"Male\", \"Developer\")\n",
    "print ()\n",
    "funct9(loc = \"Pune\", comp = \"Accenture\", tech = \"Java\")"
   ]
  },
  {
   "cell_type": "code",
   "execution_count": 41,
   "id": "ee3601a9-cf68-47fa-a9af-2fdefd08b18e",
   "metadata": {},
   "outputs": [
    {
     "name": "stdout",
     "output_type": "stream",
     "text": [
      "So the factorial of 5 is 120...\n",
      "So the factorial of 6 is 720...\n"
     ]
    }
   ],
   "source": [
    "# non-recursive factorial calculation function\n",
    "# 5! = 1 * 2 * 3 * 4 * 5 = 5 * 4 * 3 * 2 * 1 = 120\n",
    "def factorial_nr(num):\n",
    "    if (num == 0 or num == 1):\n",
    "        return 1\n",
    "    fact = 1\n",
    "    for i in range(1, num + 1):\n",
    "        fact = fact * i\n",
    "    return fact\n",
    "\n",
    "n = 5\n",
    "result = factorial_nr(n)\n",
    "print (f\"So the factorial of {n} is {result}...\")\n",
    "\n",
    "n = 6\n",
    "result = factorial_nr(n)\n",
    "print (f\"So the factorial of {n} is {result}...\")"
   ]
  },
  {
   "cell_type": "code",
   "execution_count": 37,
   "id": "b6b3edf0-c3b3-4c51-82ef-f811a89426d8",
   "metadata": {},
   "outputs": [
    {
     "name": "stdout",
     "output_type": "stream",
     "text": [
      "So the factorial of 5 is 120...\n",
      "So the factorial of 6 is 720...\n"
     ]
    }
   ],
   "source": [
    "# recursive factorial calculation function\n",
    "# 5! = 1 * 2 * 3 * 4 * 5 = 5 * 4 * 3 * 2 * 1 = 120\n",
    "def factorial_r(num):\n",
    "    if (num == 0 or num == 1):   # base case, for certain inputs outputs are pre-known to us, here recursion terminates\n",
    "        return 1\n",
    "    return num * factorial_r(num - 1)  # recursive case, the function will call itself\n",
    "\n",
    "n = 5\n",
    "result = factorial_r(n)\n",
    "print (f\"So the factorial of {n} is {result}...\")\n",
    "\n",
    "n = 6\n",
    "result = factorial_r(n)\n",
    "print (f\"So the factorial of {n} is {result}...\")"
   ]
  },
  {
   "cell_type": "code",
   "execution_count": null,
   "id": "b8e1e014-ebd4-46ba-ad79-8c4dc66f56f2",
   "metadata": {},
   "outputs": [],
   "source": [
    "5! = 5 * 4!\n",
    "         4 * 3!\n",
    "             3 * 2!\n",
    "                 2 * 1!\n",
    "                     1\n",
    "                 2\n",
    "             6\n",
    "         24\n",
    "     120"
   ]
  },
  {
   "cell_type": "markdown",
   "id": "2d99fe20-201c-41ac-aedf-dd8d50cea847",
   "metadata": {},
   "source": [
    "## **Lambda Function**\n",
    "\n",
    "> In Python programming, a lambda function is a small anonymous function that can have any number of arguments, but can only have one expression. The expression is evaluated and returned as the function result. Lambda functions are commonly used in combination with higher-order functions such as map(), filter(), and reduce().\n",
    "\n",
    "Some of the properties of lambda functions in Python programming include:\n",
    "* **Anonymous:** Lambda functions are anonymous, meaning they do not have a name like regular functions. They are defined using the keyword \"lambda\" followed by the arguments and the expression.\n",
    "* **Single Expression:** A lambda function can only contain a single expression that is evaluated and returned as the function result. This means that it cannot contain multiple statements or control flow structures.\n",
    "* **Concise:** Lambda functions are concise and can be defined in a single line of code. This makes them useful for defining simple functions on-the-fly.\n",
    "* **Immutable:** Lambda functions are immutable, meaning they cannot be modified once defined. This means that you cannot change the behavior of a lambda function after it has been defined.\n",
    "* **Higher-order Functions:** Lambda functions are often used in combination with higher-order functions such as map(), filter(), and reduce(). These functions take other functions as arguments and return new functions as results.\n",
    "* **Memory-efficient:** Lambda functions are memory-efficient since they are defined on-the-fly and do not require a separate function definition. This can be useful when working with large data sets or when memory usage is a concern.#### Lambda Function\n",
    "> In Python programming, a lambda function is a small anonymous function that can have any number of arguments, but can only have one expression. The expression is evaluated and returned as the function result. Lambda functions are commonly used in combination with higher-order functions such as map(), filter(), and reduce().\n",
    "\n",
    "Some of the properties of lambda functions in Python programming include:\n",
    "* **Anonymous:** Lambda functions are anonymous, meaning they do not have a name like regular functions. They are defined using the keyword \"lambda\" followed by the arguments and the expression.\n",
    "* **Single Expression:** A lambda function can only contain a single expression that is evaluated and returned as the function result. This means that it cannot contain multiple statements or control flow structures.\n",
    "* **Concise:** Lambda functions are concise and can be defined in a single line of code. This makes them useful for defining simple functions on-the-fly.\n",
    "* **Immutable:** Lambda functions are immutable, meaning they cannot be modified once defined. This means that you cannot change the behavior of a lambda function after it has been defined.\n",
    "* **Higher-order Functions:** Lambda functions are often used in combination with higher-order functions such as map(), filter(), and reduce(). These functions take other functions as arguments and return new functions as results.\n",
    "* **Memory-efficient:** Lambda functions are memory-efficient since they are defined on-the-fly and do not require a separate function definition. This can be useful when working with large data sets or when memory usage is a concern."
   ]
  },
  {
   "cell_type": "code",
   "execution_count": 39,
   "id": "7882db90-630f-46cf-a9c2-aa54afa5a1b1",
   "metadata": {},
   "outputs": [
    {
     "name": "stdout",
     "output_type": "stream",
     "text": [
      "<class 'function'>\n",
      "100\n",
      "121\n"
     ]
    }
   ],
   "source": [
    "mysquare = lambda num: num * num\n",
    "print (type(mysquare))\n",
    "print (mysquare(10))\n",
    "print (mysquare(11))"
   ]
  },
  {
   "cell_type": "code",
   "execution_count": 42,
   "id": "d2795be1-d1e8-4c34-a743-c41d9eb7dd41",
   "metadata": {},
   "outputs": [
    {
     "name": "stdout",
     "output_type": "stream",
     "text": [
      "<class 'function'>\n",
      "300\n",
      "3000\n"
     ]
    }
   ],
   "source": [
    "myaddition = lambda num1, num2: num1 + num2\n",
    "print (type(myaddition))\n",
    "print (myaddition(100, 200))\n",
    "print (myaddition(1000, 2000))"
   ]
  },
  {
   "cell_type": "code",
   "execution_count": 43,
   "id": "a60a7a7b-4c42-4858-8cf1-e62a0b482c1e",
   "metadata": {},
   "outputs": [
    {
     "name": "stdout",
     "output_type": "stream",
     "text": [
      "120\n",
      "720\n"
     ]
    }
   ],
   "source": [
    "# write a recusive lambda function to calculate the factorial of a given number\n",
    "factorial_cal = lambda num: 1 if (num == 0 or num == 1) else num * factorial_cal(num - 1)\n",
    "print (factorial_cal(5))\n",
    "print (factorial_cal(6))"
   ]
  },
  {
   "cell_type": "markdown",
   "id": "400d2e99-4d09-43e4-b4c7-18016b4d5e9b",
   "metadata": {},
   "source": [
    "## **Importing Modules**"
   ]
  },
  {
   "cell_type": "code",
   "execution_count": 44,
   "id": "439c9388-aad2-4e62-b145-f0cfe19bbbd1",
   "metadata": {},
   "outputs": [],
   "source": [
    "import math"
   ]
  },
  {
   "cell_type": "code",
   "execution_count": 59,
   "id": "e1219f39-49e6-4a31-a898-36a6b885c2ab",
   "metadata": {},
   "outputs": [
    {
     "name": "stdout",
     "output_type": "stream",
     "text": [
      "0.0 1.0 0.0\n",
      "0.0 1.0 0.0\n",
      "0.0 1.5707963267948966 0.0\n",
      "6.907755278982137 6.907755278982137 2.9999999999999996 3.0 10.0 10.0\n",
      "2.718281828459045 3.141592653589793 6.283185307179586\n",
      "25 300\n"
     ]
    }
   ],
   "source": [
    "print (math.sin(0), math.cos(0), math.tan(0))\n",
    "print (math.sinh(0), math.cosh(0), math.tanh(0))\n",
    "print (math.asin(0), math.acos(0), math.atan(0))\n",
    "print (math.log(1000), math.log(1000, math.e), math.log(1000, 10), math.log10(1000), math.log(1024, 2), math.log2(1024))\n",
    "print (math.e, math.pi, math.tau)\n",
    "print (math.gcd(100, 75), math.lcm(100, 75))"
   ]
  },
  {
   "cell_type": "code",
   "execution_count": null,
   "id": "fb11d0e5-f41d-4280-b79a-affd3d7e5b4d",
   "metadata": {},
   "outputs": [],
   "source": [
    "help(math)"
   ]
  },
  {
   "cell_type": "code",
   "execution_count": null,
   "id": "f3482ee6-9313-43c7-bbb6-8afdb29f40cd",
   "metadata": {},
   "outputs": [],
   "source": [
    "https://docs.python.org/3.11/library/math.html"
   ]
  },
  {
   "cell_type": "markdown",
   "id": "acb378d3-7f41-44c9-bf7e-c22e4b277b30",
   "metadata": {},
   "source": [
    "## **Day-4**"
   ]
  },
  {
   "cell_type": "markdown",
   "id": "7bfd4297-5d86-4e8d-ac9a-f2b29896aa0c",
   "metadata": {},
   "source": [
    "## **String Processing**"
   ]
  },
  {
   "cell_type": "code",
   "execution_count": null,
   "id": "985c69be-f042-4b59-a4ea-a35fa146f65e",
   "metadata": {},
   "outputs": [],
   "source": [
    "index left to right ->  0   1   2   3   4   5   6   7   8   9\n",
    "               mystr =  u   n   i   v   e   r   s   i   t   y\n",
    "index right to left ->-10  -9  -8  -7  -6  -5  -4  -3  -2  -1 "
   ]
  },
  {
   "cell_type": "code",
   "execution_count": 1,
   "id": "42c72490-cb72-4366-9f62-d5ce331c3be7",
   "metadata": {},
   "outputs": [
    {
     "name": "stdout",
     "output_type": "stream",
     "text": [
      "university 10 <class 'str'> 2724060680816\n",
      "v v s s\n",
      "versi versi versi versi\n"
     ]
    }
   ],
   "source": [
    "mystr = \"university\"\n",
    "print (mystr, len(mystr), type(mystr), id(mystr))\n",
    "print (mystr[3], mystr[-7], mystr[6], mystr[-4]) # indexing\n",
    "print (mystr[3:8], mystr[-7:-2], mystr[3:-2], mystr[-7:8]) # slicing"
   ]
  },
  {
   "cell_type": "code",
   "execution_count": 2,
   "id": "5872d02d-1073-4d4a-afe5-19d62de9f68e",
   "metadata": {},
   "outputs": [
    {
     "name": "stdout",
     "output_type": "stream",
     "text": [
      "caLCuTTa unIVerSitY 19 <class 'str'> 2724276586176\n",
      "CALCUTTA UNIVERSITY\n",
      "calcutta university\n",
      "Calcutta University\n",
      "Calcutta university\n",
      "CAlcUttA UNivERsITy\n",
      "          caLCuTTa unIVerSitY           \n",
      "               CALCUTTA UNIVERSITY                \n"
     ]
    }
   ],
   "source": [
    "mystr = \"caLCuTTa unIVerSitY\"\n",
    "print (mystr, len(mystr), type(mystr), id(mystr))\n",
    "print (mystr.upper())\n",
    "print (mystr.lower())\n",
    "print (mystr.title())\n",
    "print (mystr.capitalize())\n",
    "print (mystr.swapcase())\n",
    "print (mystr.center(40))\n",
    "print (mystr.upper().center(50))"
   ]
  },
  {
   "cell_type": "code",
   "execution_count": 3,
   "id": "f5967c71-7f9f-456c-b2e5-62e30e83db42",
   "metadata": {},
   "outputs": [
    {
     "name": "stdout",
     "output_type": "stream",
     "text": [
      "4\n",
      "4\n",
      "11\n",
      "11\n",
      "-1\n"
     ]
    }
   ],
   "source": [
    "mystr = \"charity begins at home\"\n",
    "print (mystr.find(\"ity\"))\n",
    "print (mystr.find(\"i\", 3))\n",
    "print (mystr.find(\"i\", 5))\n",
    "print (mystr.find(\"ins\", 11, 14))\n",
    "print (mystr.find(\"ins\", 11, 13))"
   ]
  },
  {
   "cell_type": "code",
   "execution_count": 4,
   "id": "12f3ba48-d563-4c66-8c24-20a3785d181b",
   "metadata": {},
   "outputs": [
    {
     "name": "stdout",
     "output_type": "stream",
     "text": [
      "4\n",
      "4\n",
      "11\n",
      "11\n"
     ]
    },
    {
     "ename": "ValueError",
     "evalue": "substring not found",
     "output_type": "error",
     "traceback": [
      "\u001b[1;31m---------------------------------------------------------------------------\u001b[0m",
      "\u001b[1;31mValueError\u001b[0m                                Traceback (most recent call last)",
      "Cell \u001b[1;32mIn[4], line 5\u001b[0m\n\u001b[0;32m      3\u001b[0m \u001b[38;5;28mprint\u001b[39m (mystr\u001b[38;5;241m.\u001b[39mindex(\u001b[38;5;124m\"\u001b[39m\u001b[38;5;124mi\u001b[39m\u001b[38;5;124m\"\u001b[39m, \u001b[38;5;241m5\u001b[39m))\n\u001b[0;32m      4\u001b[0m \u001b[38;5;28mprint\u001b[39m (mystr\u001b[38;5;241m.\u001b[39mindex(\u001b[38;5;124m\"\u001b[39m\u001b[38;5;124mins\u001b[39m\u001b[38;5;124m\"\u001b[39m, \u001b[38;5;241m11\u001b[39m, \u001b[38;5;241m14\u001b[39m))\n\u001b[1;32m----> 5\u001b[0m \u001b[38;5;28mprint\u001b[39m (mystr\u001b[38;5;241m.\u001b[39mindex(\u001b[38;5;124m\"\u001b[39m\u001b[38;5;124mins\u001b[39m\u001b[38;5;124m\"\u001b[39m, \u001b[38;5;241m11\u001b[39m, \u001b[38;5;241m13\u001b[39m))\n",
      "\u001b[1;31mValueError\u001b[0m: substring not found"
     ]
    }
   ],
   "source": [
    "print (mystr.index(\"ity\"))\n",
    "print (mystr.index(\"i\", 3))\n",
    "print (mystr.index(\"i\", 5))\n",
    "print (mystr.index(\"ins\", 11, 14))\n",
    "print (mystr.index(\"ins\", 11, 13))"
   ]
  },
  {
   "cell_type": "code",
   "execution_count": 5,
   "id": "edafed39-ef82-418d-8bcf-dde6beedbc8b",
   "metadata": {},
   "outputs": [
    {
     "name": "stdout",
     "output_type": "stream",
     "text": [
      "    calcutta    university      31 <class 'str'> 2724255357152\n",
      "calcutta    university 22\n",
      "calcutta    university      27\n",
      "    calcutta    university 26\n",
      "calcutta    university 22\n",
      "calcutta    university      27\n",
      "    calcutta    university 26\n"
     ]
    }
   ],
   "source": [
    "mystr = \"    calcutta    university     \"\n",
    "print (mystr, len(mystr), type(mystr), id(mystr))\n",
    "print (mystr.strip(), len(mystr.strip()))\n",
    "print (mystr.lstrip(), len(mystr.lstrip()))\n",
    "print (mystr.rstrip(), len(mystr.rstrip()))\n",
    "print (mystr.strip(\" \"), len(mystr.strip(\" \")))\n",
    "print (mystr.lstrip(\" \"), len(mystr.lstrip(\" \")))\n",
    "print (mystr.rstrip(\" \"), len(mystr.rstrip(\" \")))"
   ]
  },
  {
   "cell_type": "code",
   "execution_count": 6,
   "id": "c53b7dde-0dbc-4242-9ff4-90cfa69370ee",
   "metadata": {},
   "outputs": [
    {
     "name": "stdout",
     "output_type": "stream",
     "text": [
      "##@@calcutta#@#@university#@@@# 31 <class 'str'> 2724276589536\n",
      "calcutta#@#@university 22\n",
      "calcutta#@#@university#@@@# 27\n",
      "##@@calcutta#@#@university 26\n"
     ]
    }
   ],
   "source": [
    "mystr = \"##@@calcutta#@#@university#@@@#\"\n",
    "print (mystr, len(mystr), type(mystr), id(mystr))\n",
    "print (mystr.strip(\"#@\"), len(mystr.strip(\"#@\")))\n",
    "print (mystr.lstrip(\"#@\"), len(mystr.lstrip(\"#@\")))\n",
    "print (mystr.rstrip(\"#@\"), len(mystr.rstrip(\"#@\")))"
   ]
  },
  {
   "cell_type": "code",
   "execution_count": 8,
   "id": "3143e46d-8a45-446d-b5a8-ce54761b5fb4",
   "metadata": {},
   "outputs": [
    {
     "name": "stdout",
     "output_type": "stream",
     "text": [
      "True\n",
      "False\n",
      "False\n",
      "True\n",
      "True\n"
     ]
    }
   ],
   "source": [
    "mystr = \"charity begins at home\"\n",
    "print (mystr.startswith(\"cha\"))\n",
    "print (mystr.startswith(\"Cha\"))\n",
    "print (mystr.startswith(\"beg\"))\n",
    "print (mystr.startswith(\"beg\", 8))\n",
    "print (mystr.startswith(\"beg\", 8, 20))"
   ]
  },
  {
   "cell_type": "code",
   "execution_count": 9,
   "id": "f9f7ff1d-8ca1-406e-99a1-8c1bc62ee8b6",
   "metadata": {},
   "outputs": [
    {
     "name": "stdout",
     "output_type": "stream",
     "text": [
      "True\n",
      "False\n",
      "True\n"
     ]
    }
   ],
   "source": [
    "mystr = \"charity begins at home\"\n",
    "print (mystr.endswith(\"ome\"))\n",
    "print (mystr.endswith(\"gins\"))\n",
    "print (mystr.endswith(\"gins\", 0, 14))"
   ]
  },
  {
   "cell_type": "code",
   "execution_count": 10,
   "id": "a1638e12-281f-48aa-8ad9-a53843c48478",
   "metadata": {},
   "outputs": [
    {
     "name": "stdout",
     "output_type": "stream",
     "text": [
      "p\n",
      "y\n",
      "t\n",
      "h\n",
      "o\n",
      "n\n"
     ]
    }
   ],
   "source": [
    "mystr = \"python\"    # Reading character by character from a string\n",
    "for ch in mystr:\n",
    "    print (ch)"
   ]
  },
  {
   "cell_type": "code",
   "execution_count": 12,
   "id": "81db3679-9695-475b-8cd8-5bcbda1709c6",
   "metadata": {},
   "outputs": [
    {
     "name": "stdout",
     "output_type": "stream",
     "text": [
      "p\n",
      "y\n",
      "t\n",
      "h\n",
      "o\n",
      "n\n"
     ]
    }
   ],
   "source": [
    "mystr = \"python\"    # Reading character by character from a string\n",
    "for i in range(len(mystr)):\n",
    "    print (mystr[i])"
   ]
  },
  {
   "cell_type": "code",
   "execution_count": 14,
   "id": "afc0f22f-f511-4c17-bd92-ea65c1405806",
   "metadata": {},
   "outputs": [
    {
     "name": "stdin",
     "output_type": "stream",
     "text": [
      "Please enter one word: university\n"
     ]
    },
    {
     "name": "stdout",
     "output_type": "stream",
     "text": [
      "So now ch = u and vcount = 1\n",
      "So now ch = n and vcount = 1\n",
      "So now ch = i and vcount = 2\n",
      "So now ch = v and vcount = 2\n",
      "So now ch = e and vcount = 3\n",
      "So now ch = r and vcount = 3\n",
      "So now ch = s and vcount = 3\n",
      "So now ch = i and vcount = 4\n",
      "So now ch = t and vcount = 4\n",
      "So now ch = y and vcount = 4\n",
      "So vcount = 4 and ccount = 6\n"
     ]
    }
   ],
   "source": [
    "# count the number of vowel and consonant characters in a user given string\n",
    "mystr = input(\"Please enter one word:\")\n",
    "vcount = 0\n",
    "for ch in mystr.lower():\n",
    "    if ch in \"aeiou\":\n",
    "        vcount += 1\n",
    "    print (f\"So now ch = {ch} and vcount = {vcount}\")\n",
    "print (f\"So vcount = {vcount} and ccount = {len(mystr) - vcount}\")"
   ]
  },
  {
   "cell_type": "code",
   "execution_count": 15,
   "id": "c2b7dab4-fb72-4edc-bb2f-80fbedd5d69d",
   "metadata": {},
   "outputs": [
    {
     "name": "stdout",
     "output_type": "stream",
     "text": [
      "charity begins at home 22 <class 'str'> 2724276612720\n",
      "['charity', 'begins', 'at', 'home']\n",
      "['charity', 'begins', 'at', 'home']\n",
      "['char', 'ty beg', 'ns at home']\n"
     ]
    }
   ],
   "source": [
    "mystr = \"charity begins at home\"\n",
    "print (mystr, len(mystr), type(mystr), id(mystr))\n",
    "list1 = mystr.split()\n",
    "print (list1)\n",
    "list1 = mystr.split(\" \")\n",
    "print (list1)\n",
    "list1 = mystr.split(\"i\")\n",
    "print (list1)"
   ]
  },
  {
   "cell_type": "code",
   "execution_count": 22,
   "id": "1db2ee10-9332-4982-bf40-fec809f96fbe",
   "metadata": {},
   "outputs": [
    {
     "name": "stdout",
     "output_type": "stream",
     "text": [
      "['charity', 'begins', 'at', 'home'] 4 <class 'list'> 2724300201408\n",
      "charity begins at home\n",
      "charity - begins - at - home\n",
      "charity, begins, at, home\n"
     ]
    }
   ],
   "source": [
    "list1 = ['charity', 'begins', 'at', 'home']\n",
    "print (list1, len(list1), type(list1), id(list1))\n",
    "mystr = \" \".join(list1)\n",
    "print (mystr)\n",
    "mystr = \" - \".join(list1)\n",
    "print (mystr)\n",
    "mystr = \", \".join(list1)\n",
    "print (mystr)"
   ]
  },
  {
   "cell_type": "code",
   "execution_count": 21,
   "id": "f12e2c50-ee25-4e2e-87ec-24aeb943413c",
   "metadata": {},
   "outputs": [
    {
     "name": "stdout",
     "output_type": "stream",
     "text": [
      "True True False False False\n",
      "False True False\n",
      "False True True\n",
      "False False False\n",
      "True\n"
     ]
    }
   ],
   "source": [
    "mystr = \"university\"\n",
    "print (mystr.isalpha(), mystr.isalnum(), mystr.isnumeric(), mystr.isdigit(), mystr.isdecimal())\n",
    "mystr = \"university1234\"\n",
    "print (mystr.isalpha(), mystr.isalnum(), mystr.isnumeric())\n",
    "mystr = \"1234\"\n",
    "print (mystr.isalpha(), mystr.isalnum(), mystr.isnumeric())\n",
    "mystr = \"university@1234\"\n",
    "print (mystr.isalpha(), mystr.isalnum(), mystr.isnumeric())\n",
    "print (\"   \".isspace())"
   ]
  },
  {
   "cell_type": "code",
   "execution_count": 23,
   "id": "e86df2d8-3b43-49da-a956-d59deb2d281f",
   "metadata": {},
   "outputs": [
    {
     "name": "stdout",
     "output_type": "stream",
     "text": [
      "2 1 0\n",
      "unxversxty\n",
      "university\n",
      "unxversxty\n"
     ]
    }
   ],
   "source": [
    "mystr = \"university\"\n",
    "print (mystr.count(\"i\"), mystr.count(\"v\"), mystr.count(\"I\"))\n",
    "print (mystr.replace(\"i\", \"x\"))\n",
    "print (mystr)\n",
    "mystr = mystr.replace(\"i\", \"x\")\n",
    "print (mystr)"
   ]
  },
  {
   "cell_type": "code",
   "execution_count": 24,
   "id": "450e02c2-32e6-417f-ad46-ea1295aa6d51",
   "metadata": {},
   "outputs": [
    {
     "name": "stdout",
     "output_type": "stream",
     "text": [
      "Help on method_descriptor:\n",
      "\n",
      "lower(self, /)\n",
      "    Return a copy of the string converted to lowercase.\n",
      "\n"
     ]
    }
   ],
   "source": [
    "help(str.lower)"
   ]
  },
  {
   "cell_type": "code",
   "execution_count": null,
   "id": "e4bc51c0-e4dc-4be6-b4f6-221dd152ca0b",
   "metadata": {},
   "outputs": [],
   "source": [
    "help(str)"
   ]
  },
  {
   "cell_type": "markdown",
   "id": "a96f32d7-145d-48ad-b248-ece89b343ad1",
   "metadata": {},
   "source": [
    "## **List Processing**"
   ]
  },
  {
   "cell_type": "code",
   "execution_count": 26,
   "id": "8bed385e-3c51-41d6-82fd-9bc914a7e903",
   "metadata": {},
   "outputs": [
    {
     "name": "stdout",
     "output_type": "stream",
     "text": [
      "[100, 400, 300, 200, 700] 5 <class 'list'> 2724312278336\n",
      "700 100\n",
      "1700 340.0\n"
     ]
    }
   ],
   "source": [
    "list1 = [100, 400, 300, 200, 700]\n",
    "print (list1, len(list1), type(list1), id(list1))\n",
    "print (max(list1), min(list1))\n",
    "print (sum(list1), sum(list1) / len(list1))"
   ]
  },
  {
   "cell_type": "code",
   "execution_count": 27,
   "id": "e9df8583-88d3-4405-9a65-67de66254e1a",
   "metadata": {},
   "outputs": [
    {
     "name": "stdout",
     "output_type": "stream",
     "text": [
      "[100, 400, True, 300.5, 200, False, 700] 7 <class 'list'> 2724313661376\n",
      "700 False\n",
      "1701.5 243.07142857142858\n"
     ]
    }
   ],
   "source": [
    "list1 = [100, 400, True, 300.5, 200, False, 700]\n",
    "print (list1, len(list1), type(list1), id(list1))\n",
    "print (max(list1), min(list1))\n",
    "print (sum(list1), sum(list1) / len(list1))"
   ]
  },
  {
   "cell_type": "code",
   "execution_count": 29,
   "id": "58aca37c-0281-42f3-bcbf-41f9d949c9f0",
   "metadata": {},
   "outputs": [
    {
     "name": "stdout",
     "output_type": "stream",
     "text": [
      "['sunday', 'monday', 'friday', 'saturday', 'tuesday'] 5 <class 'list'> 2724314657280\n",
      "tuesday friday\n"
     ]
    },
    {
     "ename": "TypeError",
     "evalue": "unsupported operand type(s) for +: 'int' and 'str'",
     "output_type": "error",
     "traceback": [
      "\u001b[1;31m---------------------------------------------------------------------------\u001b[0m",
      "\u001b[1;31mTypeError\u001b[0m                                 Traceback (most recent call last)",
      "Cell \u001b[1;32mIn[29], line 4\u001b[0m\n\u001b[0;32m      2\u001b[0m \u001b[38;5;28mprint\u001b[39m (list1, \u001b[38;5;28mlen\u001b[39m(list1), \u001b[38;5;28mtype\u001b[39m(list1), \u001b[38;5;28mid\u001b[39m(list1))\n\u001b[0;32m      3\u001b[0m \u001b[38;5;28mprint\u001b[39m (\u001b[38;5;28mmax\u001b[39m(list1), \u001b[38;5;28mmin\u001b[39m(list1))\n\u001b[1;32m----> 4\u001b[0m \u001b[38;5;28mprint\u001b[39m (\u001b[38;5;28msum\u001b[39m(list1), \u001b[38;5;28msum\u001b[39m(list1) \u001b[38;5;241m/\u001b[39m \u001b[38;5;28mlen\u001b[39m(list1))\n",
      "\u001b[1;31mTypeError\u001b[0m: unsupported operand type(s) for +: 'int' and 'str'"
     ]
    }
   ],
   "source": [
    "list1 = [\"sunday\", \"monday\", 'friday', 'saturday', 'tuesday']\n",
    "print (list1, len(list1), type(list1), id(list1))\n",
    "print (max(list1), min(list1))\n",
    "print (sum(list1), sum(list1) / len(list1))"
   ]
  },
  {
   "cell_type": "code",
   "execution_count": 30,
   "id": "bbeb1b7e-a71c-45cb-b90d-458294cfd859",
   "metadata": {},
   "outputs": [
    {
     "name": "stdout",
     "output_type": "stream",
     "text": [
      "[100, 400, True, 'Tuesday', 300.5, 'Wednesday', 200, False, 700] 9 <class 'list'> 2724315487040\n"
     ]
    },
    {
     "ename": "TypeError",
     "evalue": "'>' not supported between instances of 'str' and 'int'",
     "output_type": "error",
     "traceback": [
      "\u001b[1;31m---------------------------------------------------------------------------\u001b[0m",
      "\u001b[1;31mTypeError\u001b[0m                                 Traceback (most recent call last)",
      "Cell \u001b[1;32mIn[30], line 3\u001b[0m\n\u001b[0;32m      1\u001b[0m list1 \u001b[38;5;241m=\u001b[39m [\u001b[38;5;241m100\u001b[39m, \u001b[38;5;241m400\u001b[39m, \u001b[38;5;28;01mTrue\u001b[39;00m, \u001b[38;5;124m\"\u001b[39m\u001b[38;5;124mTuesday\u001b[39m\u001b[38;5;124m\"\u001b[39m, \u001b[38;5;241m300.5\u001b[39m, \u001b[38;5;124m\"\u001b[39m\u001b[38;5;124mWednesday\u001b[39m\u001b[38;5;124m\"\u001b[39m, \u001b[38;5;241m200\u001b[39m, \u001b[38;5;28;01mFalse\u001b[39;00m, \u001b[38;5;241m700\u001b[39m]\n\u001b[0;32m      2\u001b[0m \u001b[38;5;28mprint\u001b[39m (list1, \u001b[38;5;28mlen\u001b[39m(list1), \u001b[38;5;28mtype\u001b[39m(list1), \u001b[38;5;28mid\u001b[39m(list1))\n\u001b[1;32m----> 3\u001b[0m \u001b[38;5;28mprint\u001b[39m (\u001b[38;5;28mmax\u001b[39m(list1), \u001b[38;5;28mmin\u001b[39m(list1))\n\u001b[0;32m      4\u001b[0m \u001b[38;5;28mprint\u001b[39m (\u001b[38;5;28msum\u001b[39m(list1), \u001b[38;5;28msum\u001b[39m(list1) \u001b[38;5;241m/\u001b[39m \u001b[38;5;28mlen\u001b[39m(list1))\n",
      "\u001b[1;31mTypeError\u001b[0m: '>' not supported between instances of 'str' and 'int'"
     ]
    }
   ],
   "source": [
    "list1 = [100, 400, True, \"Tuesday\", 300.5, \"Wednesday\", 200, False, 700]\n",
    "print (list1, len(list1), type(list1), id(list1))\n",
    "print (max(list1), min(list1))\n",
    "print (sum(list1), sum(list1) / len(list1))"
   ]
  },
  {
   "cell_type": "code",
   "execution_count": 31,
   "id": "7b2342e6-8fe7-4c94-bc7a-c89c56bf1f57",
   "metadata": {},
   "outputs": [
    {
     "name": "stdout",
     "output_type": "stream",
     "text": [
      "['Monday', 'Tuesday', 'Wednesday', 'Thursday', 'Friday'] 5\n",
      "['Mango', 'Pineapple', 'Guava', 'Lime'] 4\n",
      "['Monday', 'Tuesday', 'Wednesday', 'Thursday', 'Friday', 'Mango', 'Pineapple', 'Guava', 'Lime'] 9\n",
      "['Monday', 'Tuesday', 'Wednesday', 'Thursday', 'Friday', 'Mango', 'Pineapple', 'Guava', 'Lime'] 9\n",
      "['Mango', 'Pineapple', 'Guava', 'Lime'] 4\n"
     ]
    }
   ],
   "source": [
    "list1 = [\"Monday\", \"Tuesday\", \"Wednesday\", \"Thursday\", \"Friday\"]\n",
    "list2 = [\"Mango\", \"Pineapple\", \"Guava\", \"Lime\"]\n",
    "print (list1, len(list1))\n",
    "print (list2, len(list2))\n",
    "list3 = list1 + list2    # list concatenation\n",
    "print (list3, len(list3))\n",
    "list1.extend(list2)      # list concatenation\n",
    "print (list1, len(list1))\n",
    "print (list2, len(list2))"
   ]
  },
  {
   "cell_type": "code",
   "execution_count": 32,
   "id": "f145f746-1332-4e0e-b75f-fbaaf237239f",
   "metadata": {},
   "outputs": [
    {
     "name": "stdout",
     "output_type": "stream",
     "text": [
      "['Monday', 'Tuesday', 'Wednesday', 'Thursday', 'Friday'] 5\n",
      "['Mango', 'Pineapple', 'Guava', 'Lime'] 4\n",
      "[['Monday', 'Tuesday', 'Wednesday', 'Thursday', 'Friday'], ['Mango', 'Pineapple', 'Guava', 'Lime']] 2\n",
      "5 4\n",
      "['Pineapple', 'Guava'] ['Wednesday', 'Thursday'] nes\n"
     ]
    }
   ],
   "source": [
    "list1 = [\"Monday\", \"Tuesday\", \"Wednesday\", \"Thursday\", \"Friday\"]\n",
    "list2 = [\"Mango\", \"Pineapple\", \"Guava\", \"Lime\"]\n",
    "print (list1, len(list1))\n",
    "print (list2, len(list2))\n",
    "list3 = [list1, list2]      # list of lists\n",
    "print (list3, len(list3))\n",
    "print (len(list3[0]), len(list3[1]))\n",
    "print (list3[1][1:3], list3[0][2:4], list3[0][2][3:6])"
   ]
  },
  {
   "cell_type": "code",
   "execution_count": 34,
   "id": "f1599803-1adb-4407-b8c7-80b0f78f5d68",
   "metadata": {},
   "outputs": [
    {
     "name": "stdout",
     "output_type": "stream",
     "text": [
      "['Mango', 'Pineapple', 'Coconut', 'Banana', 'Lime'] 5\n",
      "['Mango', 'Pineapple', 'Coconut', 'Banana', 'Lime', 'Guava'] 6\n",
      "['Mango', 'Pineapple', 'Coconut', 'Banana', 'Lime', 'Guava', 'Apple'] 7\n",
      "['Mango', 'Pineapple', 'Coconut', 'Banana', 'Lime', 'Guava', 'Apple', 'Lemon'] 8\n"
     ]
    }
   ],
   "source": [
    "# insert operation on list\n",
    "list1 = ['Mango', 'Pineapple', 'Coconut', 'Banana', 'Lime']\n",
    "print (list1, len(list1))\n",
    "list1.append(\"Guava\")\n",
    "print (list1, len(list1))\n",
    "list1.append(\"Apple\")\n",
    "print (list1, len(list1))\n",
    "list1.append(\"Lemon\")\n",
    "print (list1, len(list1))"
   ]
  },
  {
   "cell_type": "code",
   "execution_count": 35,
   "id": "39147c46-d1b7-46ee-9ce8-dc9908dab0a8",
   "metadata": {},
   "outputs": [
    {
     "name": "stdout",
     "output_type": "stream",
     "text": [
      "['Mango', 'Pineapple', 'Coconut', 'Banana', 'Lime'] 5\n",
      "['Mango', 'Pineapple', 'Guava', 'Coconut', 'Banana', 'Lime'] 6\n",
      "['Mango', 'Apple', 'Pineapple', 'Guava', 'Coconut', 'Banana', 'Lime'] 7\n",
      "['Mango', 'Apple', 'Pineapple', 'Lemon', 'Guava', 'Coconut', 'Banana', 'Lime'] 8\n"
     ]
    }
   ],
   "source": [
    "list1 = ['Mango', 'Pineapple', 'Coconut', 'Banana', 'Lime']\n",
    "print (list1, len(list1))\n",
    "list1.insert(2, \"Guava\")\n",
    "print (list1, len(list1))\n",
    "list1.insert(1, \"Apple\")\n",
    "print (list1, len(list1))\n",
    "list1.insert(3, \"Lemon\")\n",
    "print (list1, len(list1))"
   ]
  },
  {
   "cell_type": "code",
   "execution_count": 36,
   "id": "6d64e46e-dfa2-407f-91fb-a7699ac7a0cd",
   "metadata": {},
   "outputs": [
    {
     "name": "stdout",
     "output_type": "stream",
     "text": [
      "['Mango', 'Pineapple', 'Coconut', 'Banana', 'Lime'] 5\n",
      "['Himsagar', 'Pineapple', 'Coconut', 'Banana', 'Lime'] 5\n",
      "['Himsagar', 'Pineapple', 'Coconut', 'Banana', 'Lemon'] 5\n"
     ]
    }
   ],
   "source": [
    "# update operation on list\n",
    "list1 = ['Mango', 'Pineapple', 'Coconut', 'Banana', 'Lime']\n",
    "print (list1, len(list1))\n",
    "list1[0] = \"Himsagar\"\n",
    "print (list1, len(list1))\n",
    "list1[4] = \"Lemon\"\n",
    "print (list1, len(list1))"
   ]
  },
  {
   "cell_type": "code",
   "execution_count": 37,
   "id": "143d0055-7f37-41e5-b810-420368cc557d",
   "metadata": {},
   "outputs": [
    {
     "name": "stdout",
     "output_type": "stream",
     "text": [
      "['Mango', 'Pineapple', 'Coconut', 'Banana', 'Lime'] 5\n",
      "['Mango', 'Coconut', 'Banana', 'Lime'] 4\n",
      "['Mango', 'Coconut', 'Lime'] 3\n"
     ]
    },
    {
     "ename": "ValueError",
     "evalue": "list.remove(x): x not in list",
     "output_type": "error",
     "traceback": [
      "\u001b[1;31m---------------------------------------------------------------------------\u001b[0m",
      "\u001b[1;31mValueError\u001b[0m                                Traceback (most recent call last)",
      "Cell \u001b[1;32mIn[37], line 8\u001b[0m\n\u001b[0;32m      6\u001b[0m list1\u001b[38;5;241m.\u001b[39mremove(\u001b[38;5;124m\"\u001b[39m\u001b[38;5;124mBanana\u001b[39m\u001b[38;5;124m\"\u001b[39m)\n\u001b[0;32m      7\u001b[0m \u001b[38;5;28mprint\u001b[39m (list1, \u001b[38;5;28mlen\u001b[39m(list1))\n\u001b[1;32m----> 8\u001b[0m list1\u001b[38;5;241m.\u001b[39mremove(\u001b[38;5;124m\"\u001b[39m\u001b[38;5;124mLemon\u001b[39m\u001b[38;5;124m\"\u001b[39m)\n\u001b[0;32m      9\u001b[0m \u001b[38;5;28mprint\u001b[39m (list1, \u001b[38;5;28mlen\u001b[39m(list1))\n",
      "\u001b[1;31mValueError\u001b[0m: list.remove(x): x not in list"
     ]
    }
   ],
   "source": [
    "# deletion operation on list\n",
    "list1 = ['Mango', 'Pineapple', 'Coconut', 'Banana', 'Lime']\n",
    "print (list1, len(list1))\n",
    "list1.remove(\"Pineapple\")\n",
    "print (list1, len(list1))\n",
    "list1.remove(\"Banana\")\n",
    "print (list1, len(list1))\n",
    "list1.remove(\"Lemon\")\n",
    "print (list1, len(list1))"
   ]
  },
  {
   "cell_type": "code",
   "execution_count": 38,
   "id": "64f9af5d-a320-4c33-bc8c-4a4d1c60a581",
   "metadata": {},
   "outputs": [
    {
     "name": "stdout",
     "output_type": "stream",
     "text": [
      "['Mango', 'Pineapple', 'Coconut', 'Banana', 'Lime'] 5\n",
      "Lime\n",
      "['Mango', 'Pineapple', 'Coconut', 'Banana'] 4\n",
      "Banana\n",
      "['Mango', 'Pineapple', 'Coconut'] 3\n",
      "Coconut\n",
      "['Mango', 'Pineapple'] 2\n"
     ]
    }
   ],
   "source": [
    "list1 = ['Mango', 'Pineapple', 'Coconut', 'Banana', 'Lime']\n",
    "print (list1, len(list1))\n",
    "print (list1.pop())\n",
    "print (list1, len(list1))\n",
    "print (list1.pop())\n",
    "print (list1, len(list1))\n",
    "print (list1.pop())\n",
    "print (list1, len(list1))"
   ]
  },
  {
   "cell_type": "code",
   "execution_count": 40,
   "id": "19294545-fca4-44db-8b0d-57bc84981506",
   "metadata": {},
   "outputs": [
    {
     "name": "stdout",
     "output_type": "stream",
     "text": [
      "['Mango', 'Pineapple', 'Coconut', 'Banana', 'Lime'] 5\n",
      "Coconut\n",
      "['Mango', 'Pineapple', 'Banana', 'Lime'] 4\n",
      "Mango\n",
      "['Pineapple', 'Banana', 'Lime'] 3\n",
      "Banana\n",
      "['Pineapple', 'Lime'] 2\n"
     ]
    }
   ],
   "source": [
    "list1 = ['Mango', 'Pineapple', 'Coconut', 'Banana', 'Lime']\n",
    "print (list1, len(list1))\n",
    "print (list1.pop(2))\n",
    "print (list1, len(list1))\n",
    "print (list1.pop(0))\n",
    "print (list1, len(list1))\n",
    "print (list1.pop(1))\n",
    "print (list1, len(list1))"
   ]
  },
  {
   "cell_type": "code",
   "execution_count": 41,
   "id": "71f66f4b-806d-4896-af2d-9ff6e40f7f85",
   "metadata": {},
   "outputs": [
    {
     "name": "stdout",
     "output_type": "stream",
     "text": [
      "['Mango', 'Pineapple', 'Coconut', 'Banana', 'Lime'] 5\n",
      "[] 0\n"
     ]
    }
   ],
   "source": [
    "list1 = ['Mango', 'Pineapple', 'Coconut', 'Banana', 'Lime']\n",
    "print (list1, len(list1))\n",
    "list1.clear()\n",
    "print (list1, len(list1))"
   ]
  },
  {
   "cell_type": "code",
   "execution_count": 42,
   "id": "c96ccfc3-007a-4d6d-b828-b47f4dd06405",
   "metadata": {},
   "outputs": [
    {
     "name": "stdout",
     "output_type": "stream",
     "text": [
      "['Mango', 'Pineapple', 'Coconut', 'Banana', 'Lime'] 5\n",
      "['Mango', 'Pineapple', 'Banana', 'Lime'] 4\n",
      "['Pineapple', 'Banana', 'Lime'] 3\n",
      "['Pineapple', 'Lime'] 2\n"
     ]
    }
   ],
   "source": [
    "list1 = ['Mango', 'Pineapple', 'Coconut', 'Banana', 'Lime']\n",
    "print (list1, len(list1))\n",
    "del list1[2]\n",
    "print (list1, len(list1))\n",
    "del list1[0]\n",
    "print (list1, len(list1))\n",
    "del list1[1]\n",
    "print (list1, len(list1))"
   ]
  },
  {
   "cell_type": "code",
   "execution_count": 43,
   "id": "bcff41fd-ed58-47f1-a211-9d6b3fb058c6",
   "metadata": {},
   "outputs": [
    {
     "name": "stdout",
     "output_type": "stream",
     "text": [
      "['Mango', 'Pineapple', 'Coconut', 'Banana', 'Lime'] 5\n"
     ]
    },
    {
     "ename": "NameError",
     "evalue": "name 'list1' is not defined",
     "output_type": "error",
     "traceback": [
      "\u001b[1;31m---------------------------------------------------------------------------\u001b[0m",
      "\u001b[1;31mNameError\u001b[0m                                 Traceback (most recent call last)",
      "Cell \u001b[1;32mIn[43], line 4\u001b[0m\n\u001b[0;32m      2\u001b[0m \u001b[38;5;28mprint\u001b[39m (list1, \u001b[38;5;28mlen\u001b[39m(list1))\n\u001b[0;32m      3\u001b[0m \u001b[38;5;28;01mdel\u001b[39;00m list1\n\u001b[1;32m----> 4\u001b[0m \u001b[38;5;28mprint\u001b[39m (list1, \u001b[38;5;28mlen\u001b[39m(list1))\n",
      "\u001b[1;31mNameError\u001b[0m: name 'list1' is not defined"
     ]
    }
   ],
   "source": [
    "list1 = ['Mango', 'Pineapple', 'Coconut', 'Banana', 'Lime']\n",
    "print (list1, len(list1))\n",
    "del list1\n",
    "print (list1, len(list1))"
   ]
  },
  {
   "cell_type": "code",
   "execution_count": 44,
   "id": "aa349f98-753d-4038-b5fc-c2bb6829bb30",
   "metadata": {},
   "outputs": [
    {
     "name": "stdout",
     "output_type": "stream",
     "text": [
      "['Mango', 'Pineapple', 'Coconut', 'Banana', 'Lime'] 5\n",
      "None\n",
      "['Lime', 'Banana', 'Coconut', 'Pineapple', 'Mango'] 5\n"
     ]
    }
   ],
   "source": [
    "# reverse of a list\n",
    "list1 = ['Mango', 'Pineapple', 'Coconut', 'Banana', 'Lime']\n",
    "print (list1, len(list1))\n",
    "print (list1.reverse())\n",
    "print (list1, len(list1))"
   ]
  },
  {
   "cell_type": "code",
   "execution_count": 45,
   "id": "544acaea-4659-459c-8628-5eb85ba89b44",
   "metadata": {},
   "outputs": [
    {
     "name": "stdout",
     "output_type": "stream",
     "text": [
      "['Mango', 'Pineapple', 'Coconut', 'Banana', 'Lime'] 5\n",
      "['Banana', 'Coconut', 'Lime', 'Mango', 'Pineapple'] 5\n"
     ]
    }
   ],
   "source": [
    "# sorting of a list\n",
    "list1 = ['Mango', 'Pineapple', 'Coconut', 'Banana', 'Lime']\n",
    "print (list1, len(list1))\n",
    "list1.sort()\n",
    "print (list1, len(list1))"
   ]
  },
  {
   "cell_type": "code",
   "execution_count": 46,
   "id": "ca0a3817-6a5c-4245-820d-9f2c3785f8fc",
   "metadata": {},
   "outputs": [
    {
     "name": "stdout",
     "output_type": "stream",
     "text": [
      "['Mango', 'Pineapple', 'Coconut', 'Banana', 'Lime'] 5\n",
      "['Pineapple', 'Mango', 'Lime', 'Coconut', 'Banana'] 5\n"
     ]
    }
   ],
   "source": [
    "list1 = ['Mango', 'Pineapple', 'Coconut', 'Banana', 'Lime']\n",
    "print (list1, len(list1))\n",
    "list1.sort(reverse = True)\n",
    "print (list1, len(list1))"
   ]
  },
  {
   "cell_type": "code",
   "execution_count": 47,
   "id": "aea19745-cc00-4ff5-88f0-2ceaf69b6a2b",
   "metadata": {},
   "outputs": [
    {
     "name": "stdout",
     "output_type": "stream",
     "text": [
      "['Mango', 'Pineapple', 'Coconut', 'Banana', 'Lime'] 5\n",
      "['Banana', 'Coconut', 'Lime', 'Mango', 'Pineapple'] 5\n"
     ]
    }
   ],
   "source": [
    "list1 = ['Mango', 'Pineapple', 'Coconut', 'Banana', 'Lime']\n",
    "print (list1, len(list1))\n",
    "list1 = sorted(list1)\n",
    "print (list1, len(list1))"
   ]
  },
  {
   "cell_type": "code",
   "execution_count": 48,
   "id": "08be1f9c-8d99-41df-9c90-7562cc967bec",
   "metadata": {},
   "outputs": [
    {
     "name": "stdout",
     "output_type": "stream",
     "text": [
      "['Mango', 'Pineapple', 'Coconut', 'Banana', 'Lime'] 5\n",
      "['Pineapple', 'Mango', 'Lime', 'Coconut', 'Banana'] 5\n"
     ]
    }
   ],
   "source": [
    "list1 = ['Mango', 'Pineapple', 'Coconut', 'Banana', 'Lime']\n",
    "print (list1, len(list1))\n",
    "list1 = sorted(list1, reverse = True)\n",
    "print (list1, len(list1))"
   ]
  },
  {
   "cell_type": "code",
   "execution_count": 49,
   "id": "f2c27d04-39a7-4275-960c-5b3454d0f780",
   "metadata": {},
   "outputs": [
    {
     "name": "stdout",
     "output_type": "stream",
     "text": [
      "['Mango', 'Pineapple', 'Coconut', 'Banana', 'Pineapple', 'Coconut', 'Banana', 'Lime'] 8\n",
      "2\n",
      "1\n",
      "4\n"
     ]
    }
   ],
   "source": [
    "list1 = ['Mango', 'Pineapple', 'Coconut', 'Banana', 'Pineapple', 'Coconut', 'Banana', 'Lime']\n",
    "print (list1, len(list1))\n",
    "print (list1.count('Pineapple'))\n",
    "print (list1.index(\"Pineapple\"))\n",
    "print (list1.index(\"Pineapple\", 2))"
   ]
  },
  {
   "cell_type": "code",
   "execution_count": null,
   "id": "a4faeb89-e081-44a3-b099-51d451ee0834",
   "metadata": {},
   "outputs": [],
   "source": [
    "help(list)"
   ]
  },
  {
   "cell_type": "markdown",
   "id": "8ec67048-b4fc-4657-b72c-3190c2351966",
   "metadata": {},
   "source": [
    "## **Tuple Processing**"
   ]
  },
  {
   "cell_type": "code",
   "execution_count": 51,
   "id": "1c4b00d2-3a17-4d90-a415-d0f47f87757a",
   "metadata": {},
   "outputs": [
    {
     "name": "stdout",
     "output_type": "stream",
     "text": [
      "(100, 400, 300, 200, 700) 5 <class 'tuple'> 2724311692480\n",
      "700 100\n",
      "1700 340.0\n"
     ]
    }
   ],
   "source": [
    "tuple1 = (100, 400, 300, 200, 700)\n",
    "print (tuple1, len(tuple1), type(tuple1), id(tuple1))\n",
    "print (max(tuple1), min(tuple1))\n",
    "print (sum(tuple1), sum(tuple1) / len(tuple1))"
   ]
  },
  {
   "cell_type": "code",
   "execution_count": 52,
   "id": "15297efa-907b-483b-a28b-8e513875ed27",
   "metadata": {},
   "outputs": [
    {
     "name": "stdout",
     "output_type": "stream",
     "text": [
      "(100, 400, True, 300.5, 200, False, 700) 7 <class 'tuple'> 2724322666976\n",
      "700 False\n",
      "1701.5 243.07142857142858\n"
     ]
    }
   ],
   "source": [
    "tuple1 = (100, 400, True, 300.5, 200, False, 700)\n",
    "print (tuple1, len(tuple1), type(tuple1), id(tuple1))\n",
    "print (max(tuple1), min(tuple1))\n",
    "print (sum(tuple1), sum(tuple1) / len(tuple1))"
   ]
  },
  {
   "cell_type": "code",
   "execution_count": 53,
   "id": "9a0ffd1e-a887-4b31-befb-c443fe2ffce0",
   "metadata": {},
   "outputs": [
    {
     "name": "stdout",
     "output_type": "stream",
     "text": [
      "('sunday', 'monday', 'friday', 'saturday', 'tuesday') 5 <class 'tuple'> 2724311692480\n",
      "tuesday friday\n"
     ]
    },
    {
     "ename": "TypeError",
     "evalue": "unsupported operand type(s) for +: 'int' and 'str'",
     "output_type": "error",
     "traceback": [
      "\u001b[1;31m---------------------------------------------------------------------------\u001b[0m",
      "\u001b[1;31mTypeError\u001b[0m                                 Traceback (most recent call last)",
      "Cell \u001b[1;32mIn[53], line 4\u001b[0m\n\u001b[0;32m      2\u001b[0m \u001b[38;5;28mprint\u001b[39m (tuple1, \u001b[38;5;28mlen\u001b[39m(tuple1), \u001b[38;5;28mtype\u001b[39m(tuple1), \u001b[38;5;28mid\u001b[39m(tuple1))\n\u001b[0;32m      3\u001b[0m \u001b[38;5;28mprint\u001b[39m (\u001b[38;5;28mmax\u001b[39m(tuple1), \u001b[38;5;28mmin\u001b[39m(tuple1))\n\u001b[1;32m----> 4\u001b[0m \u001b[38;5;28mprint\u001b[39m (\u001b[38;5;28msum\u001b[39m(tuple1), \u001b[38;5;28msum\u001b[39m(tuple1) \u001b[38;5;241m/\u001b[39m \u001b[38;5;28mlen\u001b[39m(tuple1))\n",
      "\u001b[1;31mTypeError\u001b[0m: unsupported operand type(s) for +: 'int' and 'str'"
     ]
    }
   ],
   "source": [
    "tuple1 = (\"sunday\", \"monday\", 'friday', 'saturday', 'tuesday')\n",
    "print (tuple1, len(tuple1), type(tuple1), id(tuple1))\n",
    "print (max(tuple1), min(tuple1))\n",
    "print (sum(tuple1), sum(tuple1) / len(tuple1))"
   ]
  },
  {
   "cell_type": "code",
   "execution_count": 54,
   "id": "066a49fb-59f7-4aca-9b62-a9838fddc738",
   "metadata": {},
   "outputs": [
    {
     "name": "stdout",
     "output_type": "stream",
     "text": [
      "(100, 400, True, 'Tuesday', 300, 'Wednesday', 200.5, False, 700) 9 <class 'tuple'> 2724317336128\n"
     ]
    },
    {
     "ename": "TypeError",
     "evalue": "'>' not supported between instances of 'str' and 'int'",
     "output_type": "error",
     "traceback": [
      "\u001b[1;31m---------------------------------------------------------------------------\u001b[0m",
      "\u001b[1;31mTypeError\u001b[0m                                 Traceback (most recent call last)",
      "Cell \u001b[1;32mIn[54], line 3\u001b[0m\n\u001b[0;32m      1\u001b[0m tuple1 \u001b[38;5;241m=\u001b[39m (\u001b[38;5;241m100\u001b[39m, \u001b[38;5;241m400\u001b[39m, \u001b[38;5;28;01mTrue\u001b[39;00m, \u001b[38;5;124m\"\u001b[39m\u001b[38;5;124mTuesday\u001b[39m\u001b[38;5;124m\"\u001b[39m, \u001b[38;5;241m300\u001b[39m, \u001b[38;5;124m\"\u001b[39m\u001b[38;5;124mWednesday\u001b[39m\u001b[38;5;124m\"\u001b[39m, \u001b[38;5;241m200.5\u001b[39m, \u001b[38;5;28;01mFalse\u001b[39;00m, \u001b[38;5;241m700\u001b[39m)\n\u001b[0;32m      2\u001b[0m \u001b[38;5;28mprint\u001b[39m (tuple1, \u001b[38;5;28mlen\u001b[39m(tuple1), \u001b[38;5;28mtype\u001b[39m(tuple1), \u001b[38;5;28mid\u001b[39m(tuple1))\n\u001b[1;32m----> 3\u001b[0m \u001b[38;5;28mprint\u001b[39m (\u001b[38;5;28mmax\u001b[39m(tuple1), \u001b[38;5;28mmin\u001b[39m(tuple1))\n\u001b[0;32m      4\u001b[0m \u001b[38;5;28mprint\u001b[39m (\u001b[38;5;28msum\u001b[39m(tuple1), \u001b[38;5;28msum\u001b[39m(tuple1) \u001b[38;5;241m/\u001b[39m \u001b[38;5;28mlen\u001b[39m(tuple1))\n",
      "\u001b[1;31mTypeError\u001b[0m: '>' not supported between instances of 'str' and 'int'"
     ]
    }
   ],
   "source": [
    "tuple1 = (100, 400, True, \"Tuesday\", 300, \"Wednesday\", 200.5, False, 700)\n",
    "print (tuple1, len(tuple1), type(tuple1), id(tuple1))\n",
    "print (max(tuple1), min(tuple1))\n",
    "print (sum(tuple1), sum(tuple1) / len(tuple1))"
   ]
  },
  {
   "cell_type": "code",
   "execution_count": 55,
   "id": "291eb433-c841-42fb-b460-d6e71420570e",
   "metadata": {},
   "outputs": [
    {
     "name": "stdout",
     "output_type": "stream",
     "text": [
      "('Monday', 'Tuesday', 'Wednesday', 'Thursday', 'Friday') 5 <class 'tuple'> 2724323186048\n",
      "Wednesday Wednesday Thursday Thursday\n",
      "nes nes\n",
      "hurs hurs\n"
     ]
    }
   ],
   "source": [
    "# Indexing and slicing\n",
    "# L ro R ->   0         1          2            3           4\n",
    "tuple1 =    (\"Monday\", \"Tuesday\", \"Wednesday\", \"Thursday\", \"Friday\")\n",
    "# R to L ->  -5        -4         -3           -2          -1\n",
    "print (tuple1, len(tuple1), type(tuple1), id(tuple1))\n",
    "print (tuple1[2], tuple1[-3], tuple1[3], tuple1[-2])\n",
    "print (tuple1[2][3:6], tuple1[-3][-6:-3])\n",
    "print (tuple1[3][1:5], tuple1[-2][-7:-3])"
   ]
  },
  {
   "cell_type": "code",
   "execution_count": 56,
   "id": "46f1c4c8-63a5-4edf-a364-c9b4b405f2a8",
   "metadata": {},
   "outputs": [
    {
     "name": "stdout",
     "output_type": "stream",
     "text": [
      "('Monday', 'Tuesday', 'Wednesday', 'Thursday', 'Friday') 5\n",
      "('Mango', 'Pineapple', 'Guava', 'Lime') 4\n",
      "('Monday', 'Tuesday', 'Wednesday', 'Thursday', 'Friday', 'Mango', 'Pineapple', 'Guava', 'Lime') 9\n",
      "(('Monday', 'Tuesday', 'Wednesday', 'Thursday', 'Friday'), ('Mango', 'Pineapple', 'Guava', 'Lime')) 2\n"
     ]
    }
   ],
   "source": [
    "tuple1 = (\"Monday\", \"Tuesday\", \"Wednesday\", \"Thursday\", \"Friday\")\n",
    "tuple2 = (\"Mango\", \"Pineapple\", \"Guava\", \"Lime\")\n",
    "print (tuple1, len(tuple1))\n",
    "print (tuple2, len(tuple2))\n",
    "tuple3 = tuple1 + tuple2    # tuple concatenation\n",
    "print (tuple3, len(tuple3))\n",
    "tuple3 = (tuple1, tuple2)   # tuple of tuples\n",
    "print (tuple3, len(tuple3))"
   ]
  },
  {
   "cell_type": "code",
   "execution_count": 57,
   "id": "323aaa4d-25d3-45ba-869c-93641aaf09a4",
   "metadata": {},
   "outputs": [
    {
     "name": "stdout",
     "output_type": "stream",
     "text": [
      "10 <class 'int'>\n",
      "(10,) <class 'tuple'>\n"
     ]
    }
   ],
   "source": [
    "var1 = (10)\n",
    "print (var1, type(var1))\n",
    "var1 = (10,)   # singleton representation of a tuple\n",
    "print (var1, type(var1))"
   ]
  },
  {
   "cell_type": "code",
   "execution_count": 59,
   "id": "ed6e20d1-2665-447d-9bd1-325f407ce7c3",
   "metadata": {},
   "outputs": [
    {
     "name": "stdout",
     "output_type": "stream",
     "text": [
      "('Monday', 'Tuesday', 'Wednesday', 'Thursday', 'Friday') <class 'tuple'> 2724319384640\n",
      "['Monday', 'Saturday', 'Wednesday', 'Thursday', 'Friday'] <class 'list'> 2724314877568\n",
      "('Monday', 'Saturday', 'Wednesday', 'Thursday', 'Friday') <class 'tuple'> 2724323186048\n"
     ]
    }
   ],
   "source": [
    "# update operation on a tuple\n",
    "tuple1 = (\"Monday\", \"Tuesday\", \"Wednesday\", \"Thursday\", \"Friday\")\n",
    "print (tuple1, type(tuple1), id(tuple1))\n",
    "# tuple1[1] = 'Saturday'\n",
    "list1 = list(tuple1)\n",
    "list1[1] = 'Saturday'\n",
    "print (list1, type(list1), id(list1))\n",
    "tuple1 = tuple(list1)\n",
    "print (tuple1, type(tuple1), id(tuple1))"
   ]
  },
  {
   "cell_type": "code",
   "execution_count": 60,
   "id": "ed7a1092-f0e0-4295-bffd-170447b3e3a9",
   "metadata": {},
   "outputs": [
    {
     "name": "stdout",
     "output_type": "stream",
     "text": [
      "('Monday', 'Tuesday', 'Wednesday', 'Thursday', 'Friday')\n",
      "('Friday', 'Monday', 'Thursday', 'Tuesday', 'Wednesday')\n"
     ]
    }
   ],
   "source": [
    "# sorting on a tuple\n",
    "tuple1 = (\"Monday\", \"Tuesday\", \"Wednesday\", \"Thursday\", \"Friday\")\n",
    "print (tuple1)\n",
    "tuple2 = tuple(sorted(tuple1))\n",
    "print (tuple2)"
   ]
  },
  {
   "cell_type": "code",
   "execution_count": 61,
   "id": "f125ce73-bd03-48ff-a9ff-9f5fd9d5af77",
   "metadata": {},
   "outputs": [
    {
     "name": "stdout",
     "output_type": "stream",
     "text": [
      "('Mango', 'Pineapple', 'Coconut', 'Banana', 'Pineapple', 'Coconut', 'Banana', 'Lime')\n",
      "2 0\n"
     ]
    }
   ],
   "source": [
    "tuple1 = ('Mango', 'Pineapple', 'Coconut', 'Banana', 'Pineapple', 'Coconut', 'Banana', 'Lime')\n",
    "print (tuple1)\n",
    "print (tuple1.count('Pineapple'), tuple1.count('Lemon'))"
   ]
  },
  {
   "cell_type": "code",
   "execution_count": 62,
   "id": "fc639bad-f058-4195-9e81-d899f33e7be0",
   "metadata": {},
   "outputs": [
    {
     "name": "stdout",
     "output_type": "stream",
     "text": [
      "('Mango', 'Pineapple', 'Coconut', 'Banana', 'Pineapple', 'Coconut', 'Banana', 'Lime')\n",
      "1\n",
      "1\n",
      "4\n"
     ]
    },
    {
     "ename": "ValueError",
     "evalue": "tuple.index(x): x not in tuple",
     "output_type": "error",
     "traceback": [
      "\u001b[1;31m---------------------------------------------------------------------------\u001b[0m",
      "\u001b[1;31mValueError\u001b[0m                                Traceback (most recent call last)",
      "Cell \u001b[1;32mIn[62], line 6\u001b[0m\n\u001b[0;32m      4\u001b[0m \u001b[38;5;28mprint\u001b[39m (tuple1\u001b[38;5;241m.\u001b[39mindex(\u001b[38;5;124m\"\u001b[39m\u001b[38;5;124mPineapple\u001b[39m\u001b[38;5;124m\"\u001b[39m, \u001b[38;5;241m0\u001b[39m))\n\u001b[0;32m      5\u001b[0m \u001b[38;5;28mprint\u001b[39m (tuple1\u001b[38;5;241m.\u001b[39mindex(\u001b[38;5;124m\"\u001b[39m\u001b[38;5;124mPineapple\u001b[39m\u001b[38;5;124m\"\u001b[39m, \u001b[38;5;241m2\u001b[39m))\n\u001b[1;32m----> 6\u001b[0m \u001b[38;5;28mprint\u001b[39m (tuple1\u001b[38;5;241m.\u001b[39mindex(\u001b[38;5;124m\"\u001b[39m\u001b[38;5;124mPineapple\u001b[39m\u001b[38;5;124m\"\u001b[39m, \u001b[38;5;241m5\u001b[39m))\n",
      "\u001b[1;31mValueError\u001b[0m: tuple.index(x): x not in tuple"
     ]
    }
   ],
   "source": [
    "tuple1 = ('Mango', 'Pineapple', 'Coconut', 'Banana', 'Pineapple', 'Coconut', 'Banana', 'Lime')\n",
    "print (tuple1)\n",
    "print (tuple1.index(\"Pineapple\"))\n",
    "print (tuple1.index(\"Pineapple\", 0))\n",
    "print (tuple1.index(\"Pineapple\", 2))\n",
    "print (tuple1.index(\"Pineapple\", 5))"
   ]
  },
  {
   "cell_type": "markdown",
   "id": "e97a0136-24b4-4874-a271-3ae67aefa821",
   "metadata": {},
   "source": [
    "## **Day-5**"
   ]
  },
  {
   "cell_type": "markdown",
   "id": "f76f4e1f-8213-4031-8bb4-db45f3aa3c42",
   "metadata": {},
   "source": [
    "## **Dictionary Processing**"
   ]
  },
  {
   "cell_type": "code",
   "execution_count": null,
   "id": "6640e143-89f2-4985-a737-dc0a7454b438",
   "metadata": {},
   "outputs": [],
   "source": [
    "https://docs.python.org/3/tutorial/datastructures.html#dictionaries"
   ]
  },
  {
   "cell_type": "code",
   "execution_count": 1,
   "id": "2f049078-8f60-4568-9648-c7959ef921dc",
   "metadata": {},
   "outputs": [
    {
     "name": "stdout",
     "output_type": "stream",
     "text": [
      "{'apple': 'red', 'pineapple': 'yellow', 'mango': 'green', 'orange': 'orange', 'lime': 'green'} 5 <class 'dict'> 1794634400000\n",
      "dict_keys(['apple', 'pineapple', 'mango', 'orange', 'lime'])\n",
      "dict_values(['red', 'yellow', 'green', 'orange', 'green'])\n",
      "dict_items([('apple', 'red'), ('pineapple', 'yellow'), ('mango', 'green'), ('orange', 'orange'), ('lime', 'green')])\n"
     ]
    }
   ],
   "source": [
    "dict1 = {\"apple\":\"red\", \"pineapple\":\"yellow\", \"mango\":\"green\", \"orange\":\"orange\", \"lime\":\"green\"}\n",
    "print (dict1, len(dict1), type(dict1), id(dict1))\n",
    "print (dict1.keys())   # returns list of keys\n",
    "print (dict1.values()) # returns list of values\n",
    "print (dict1.items())  # returns list of tuples"
   ]
  },
  {
   "cell_type": "code",
   "execution_count": 2,
   "id": "8fe10832-9228-43b8-81d9-72eea339810c",
   "metadata": {},
   "outputs": [
    {
     "name": "stdout",
     "output_type": "stream",
     "text": [
      "{'apple': 'green', 'pineapple': 'yellow', 'mango': 'green', 'orange': 'orange'} 4 <class 'dict'> 1794634400256\n",
      "dict_keys(['apple', 'pineapple', 'mango', 'orange'])\n",
      "dict_values(['green', 'yellow', 'green', 'orange'])\n",
      "dict_items([('apple', 'green'), ('pineapple', 'yellow'), ('mango', 'green'), ('orange', 'orange')])\n"
     ]
    }
   ],
   "source": [
    "dict1 = {\"apple\":\"red\", \"pineapple\":\"yellow\", \"mango\":\"green\", \"orange\":\"orange\", \"apple\":\"green\"}\n",
    "print (dict1, len(dict1), type(dict1), id(dict1))\n",
    "print (dict1.keys())   # returns list of keys\n",
    "print (dict1.values()) # returns list of values\n",
    "print (dict1.items())  # returns list of tuples"
   ]
  },
  {
   "cell_type": "code",
   "execution_count": 3,
   "id": "89279f67-e03f-40d2-9d5a-9bb5cb13f4f0",
   "metadata": {},
   "outputs": [
    {
     "name": "stdout",
     "output_type": "stream",
     "text": [
      "green\n",
      "None green NA\n",
      "red yellow\n"
     ]
    },
    {
     "ename": "KeyError",
     "evalue": "'lime'",
     "output_type": "error",
     "traceback": [
      "\u001b[1;31m---------------------------------------------------------------------------\u001b[0m",
      "\u001b[1;31mKeyError\u001b[0m                                  Traceback (most recent call last)",
      "Cell \u001b[1;32mIn[3], line 5\u001b[0m\n\u001b[0;32m      3\u001b[0m \u001b[38;5;28mprint\u001b[39m (dict1\u001b[38;5;241m.\u001b[39mget(\u001b[38;5;124m'\u001b[39m\u001b[38;5;124mbanana\u001b[39m\u001b[38;5;124m'\u001b[39m), dict1\u001b[38;5;241m.\u001b[39mget(\u001b[38;5;124m'\u001b[39m\u001b[38;5;124mmango\u001b[39m\u001b[38;5;124m'\u001b[39m, \u001b[38;5;124m\"\u001b[39m\u001b[38;5;124mNA\u001b[39m\u001b[38;5;124m\"\u001b[39m), dict1\u001b[38;5;241m.\u001b[39mget(\u001b[38;5;124m'\u001b[39m\u001b[38;5;124mbanana\u001b[39m\u001b[38;5;124m'\u001b[39m, \u001b[38;5;124m\"\u001b[39m\u001b[38;5;124mNA\u001b[39m\u001b[38;5;124m\"\u001b[39m))\n\u001b[0;32m      4\u001b[0m \u001b[38;5;28mprint\u001b[39m (dict1[\u001b[38;5;124m'\u001b[39m\u001b[38;5;124mapple\u001b[39m\u001b[38;5;124m'\u001b[39m], dict1[\u001b[38;5;124m'\u001b[39m\u001b[38;5;124mpineapple\u001b[39m\u001b[38;5;124m'\u001b[39m])\n\u001b[1;32m----> 5\u001b[0m \u001b[38;5;28mprint\u001b[39m (dict1[\u001b[38;5;124m'\u001b[39m\u001b[38;5;124mlime\u001b[39m\u001b[38;5;124m'\u001b[39m])\n",
      "\u001b[1;31mKeyError\u001b[0m: 'lime'"
     ]
    }
   ],
   "source": [
    "dict1 = {\"apple\":\"red\", \"pineapple\":\"yellow\", \"mango\":\"green\", \"orange\":\"orange\"}\n",
    "print (dict1.get('mango'))\n",
    "print (dict1.get('banana'), dict1.get('mango', \"NA\"), dict1.get('banana', \"NA\"))\n",
    "print (dict1['apple'], dict1['pineapple'])\n",
    "print (dict1['lime'])"
   ]
  },
  {
   "cell_type": "code",
   "execution_count": 5,
   "id": "0e0dbd88-8d31-4294-a813-901576ba92ce",
   "metadata": {},
   "outputs": [
    {
     "name": "stdout",
     "output_type": "stream",
     "text": [
      "{'apple': 'red', 'pineapple': 'yellow', 'mango': 'green', 'orange': 'orange'}\n",
      "{'apple': 'red', 'pineapple': 'yellow', 'mango': 'green', 'orange': 'orange', 'banana': 'yellow'}\n",
      "{'apple': 'red', 'pineapple': 'yellow', 'mango': 'red', 'orange': 'orange', 'banana': 'yellow'}\n"
     ]
    }
   ],
   "source": [
    "# insert and update operations on a dictionary\n",
    "dict1 = {\"apple\":\"red\", \"pineapple\":\"yellow\", \"mango\":\"green\", \"orange\":\"orange\"}\n",
    "print (dict1)\n",
    "dict1['banana'] = 'yellow'    # insert operation\n",
    "print (dict1)\n",
    "dict1['mango'] = 'red'        # update operation\n",
    "print (dict1)"
   ]
  },
  {
   "cell_type": "code",
   "execution_count": 6,
   "id": "ed4c9515-8b76-441a-84ec-8ed097a3e89b",
   "metadata": {},
   "outputs": [
    {
     "name": "stdout",
     "output_type": "stream",
     "text": [
      "{'apple': 'red', 'pineapple': 'yellow', 'mango': 'green', 'orange': 'orange'}\n",
      "{'apple': 'red', 'pineapple': 'yellow', 'mango': 'green', 'orange': 'orange'}\n",
      "{'apple': 'red', 'pineapple': 'yellow', 'mango': 'green', 'orange': 'orange'}\n",
      "{'apple': 'red', 'pineapple': 'yellow', 'mango': 'green', 'orange': 'orange', 'banana': 'yellow'}\n"
     ]
    }
   ],
   "source": [
    "dict1 = {\"apple\":\"red\", \"pineapple\":\"yellow\", \"mango\":\"green\", \"orange\":\"orange\"}\n",
    "print (dict1)\n",
    "dict1.setdefault(\"apple\", \"deep red\")\n",
    "print (dict1)\n",
    "dict1.setdefault(\"mango\", \"red\")\n",
    "print (dict1)\n",
    "dict1.setdefault(\"banana\", \"yellow\")\n",
    "print (dict1)"
   ]
  },
  {
   "cell_type": "code",
   "execution_count": 7,
   "id": "3e6f5653-f0ce-4331-ad48-cea20a716532",
   "metadata": {},
   "outputs": [
    {
     "name": "stdout",
     "output_type": "stream",
     "text": [
      "{'apple': 'red', 'pineapple': 'yellow', 'mango': 'green', 'orange': 'orange'}\n",
      "yellow\n",
      "{'apple': 'red', 'mango': 'green', 'orange': 'orange'}\n",
      "green\n",
      "{'apple': 'red', 'orange': 'orange'}\n"
     ]
    },
    {
     "ename": "KeyError",
     "evalue": "'mango'",
     "output_type": "error",
     "traceback": [
      "\u001b[1;31m---------------------------------------------------------------------------\u001b[0m",
      "\u001b[1;31mKeyError\u001b[0m                                  Traceback (most recent call last)",
      "Cell \u001b[1;32mIn[7], line 8\u001b[0m\n\u001b[0;32m      6\u001b[0m \u001b[38;5;28mprint\u001b[39m (dict1\u001b[38;5;241m.\u001b[39mpop(\u001b[38;5;124m'\u001b[39m\u001b[38;5;124mmango\u001b[39m\u001b[38;5;124m'\u001b[39m))\n\u001b[0;32m      7\u001b[0m \u001b[38;5;28mprint\u001b[39m (dict1)\n\u001b[1;32m----> 8\u001b[0m \u001b[38;5;28mprint\u001b[39m (dict1\u001b[38;5;241m.\u001b[39mpop(\u001b[38;5;124m'\u001b[39m\u001b[38;5;124mmango\u001b[39m\u001b[38;5;124m'\u001b[39m))\n\u001b[0;32m      9\u001b[0m \u001b[38;5;28mprint\u001b[39m (dict1)\n",
      "\u001b[1;31mKeyError\u001b[0m: 'mango'"
     ]
    }
   ],
   "source": [
    "# delete operation on dictionary\n",
    "dict1 = {\"apple\":\"red\", \"pineapple\":\"yellow\", \"mango\":\"green\", \"orange\":\"orange\"}\n",
    "print (dict1)\n",
    "print (dict1.pop('pineapple'))\n",
    "print (dict1)\n",
    "print (dict1.pop('mango'))\n",
    "print (dict1)\n",
    "print (dict1.pop('mango'))\n",
    "print (dict1)"
   ]
  },
  {
   "cell_type": "code",
   "execution_count": 8,
   "id": "ac93c538-5022-45b7-927b-c01599700a11",
   "metadata": {},
   "outputs": [
    {
     "name": "stdout",
     "output_type": "stream",
     "text": [
      "{'apple': 'red', 'pineapple': 'yellow', 'mango': 'green', 'orange': 'orange'}\n",
      "('orange', 'orange')\n",
      "{'apple': 'red', 'pineapple': 'yellow', 'mango': 'green'}\n",
      "('mango', 'green')\n",
      "{'apple': 'red', 'pineapple': 'yellow'}\n"
     ]
    }
   ],
   "source": [
    "dict1 = {\"apple\":\"red\", \"pineapple\":\"yellow\", \"mango\":\"green\", \"orange\":\"orange\"}\n",
    "print (dict1)\n",
    "print (dict1.popitem())\n",
    "print (dict1)\n",
    "print (dict1.popitem())\n",
    "print (dict1)"
   ]
  },
  {
   "cell_type": "code",
   "execution_count": 9,
   "id": "fad92392-5797-4c6f-8cfa-76627cbf0b76",
   "metadata": {},
   "outputs": [
    {
     "name": "stdout",
     "output_type": "stream",
     "text": [
      "{'apple': 'red', 'pineapple': 'yellow', 'mango': 'green', 'orange': 'orange'}\n",
      "{}\n"
     ]
    }
   ],
   "source": [
    "dict1 = {\"apple\":\"red\", \"pineapple\":\"yellow\", \"mango\":\"green\", \"orange\":\"orange\"}\n",
    "print (dict1)\n",
    "dict1.clear()\n",
    "print (dict1)"
   ]
  },
  {
   "cell_type": "code",
   "execution_count": 10,
   "id": "26b16572-e50b-4ae8-91e0-d9f5c4561c8e",
   "metadata": {},
   "outputs": [
    {
     "name": "stdout",
     "output_type": "stream",
     "text": [
      "{'apple': 'red', 'pineapple': 'yellow', 'mango': 'green', 'orange': 'orange'}\n"
     ]
    },
    {
     "ename": "NameError",
     "evalue": "name 'dict1' is not defined",
     "output_type": "error",
     "traceback": [
      "\u001b[1;31m---------------------------------------------------------------------------\u001b[0m",
      "\u001b[1;31mNameError\u001b[0m                                 Traceback (most recent call last)",
      "Cell \u001b[1;32mIn[10], line 4\u001b[0m\n\u001b[0;32m      2\u001b[0m \u001b[38;5;28mprint\u001b[39m (dict1)\n\u001b[0;32m      3\u001b[0m \u001b[38;5;28;01mdel\u001b[39;00m dict1\n\u001b[1;32m----> 4\u001b[0m \u001b[38;5;28mprint\u001b[39m (dict1)\n",
      "\u001b[1;31mNameError\u001b[0m: name 'dict1' is not defined"
     ]
    }
   ],
   "source": [
    "dict1 = {\"apple\":\"red\", \"pineapple\":\"yellow\", \"mango\":\"green\", \"orange\":\"orange\"}\n",
    "print (dict1)\n",
    "del dict1\n",
    "print (dict1)"
   ]
  },
  {
   "cell_type": "code",
   "execution_count": 11,
   "id": "91b3ffc1-d314-4cd2-8084-e8e659357b90",
   "metadata": {},
   "outputs": [
    {
     "name": "stdout",
     "output_type": "stream",
     "text": [
      "{'apple': 'red', 'pineapple': 'yellow'} 2\n",
      "{'mango': 'green', 'orange': 'orange', 'lime': 'green'} 3\n",
      "{'apple': 'red', 'pineapple': 'yellow', 'mango': 'green', 'orange': 'orange', 'lime': 'green'} 5\n",
      "{'mango': 'green', 'orange': 'orange', 'lime': 'green'} 3\n"
     ]
    }
   ],
   "source": [
    "# concatenation of dictionaries\n",
    "fruits1 = {\"apple\":\"red\", \"pineapple\":\"yellow\"}\n",
    "fruits2 = {\"mango\":\"green\", \"orange\":\"orange\", \"lime\":\"green\"}\n",
    "print (fruits1, len(fruits1))\n",
    "print (fruits2, len(fruits2))\n",
    "fruits1.update(fruits2)\n",
    "print (fruits1, len(fruits1))\n",
    "print (fruits2, len(fruits2))"
   ]
  },
  {
   "cell_type": "code",
   "execution_count": 12,
   "id": "919a5b65-0bed-4328-8d7f-b756c29da299",
   "metadata": {},
   "outputs": [
    {
     "name": "stdout",
     "output_type": "stream",
     "text": [
      "{'mango': 900, 'pineapple': 900, 'cherry': 900, 'lime': 900}\n"
     ]
    }
   ],
   "source": [
    "mykeys = [\"mango\", 'pineapple', \"cherry\", \"lime\"]\n",
    "price = 900\n",
    "dict1 = dict.fromkeys(mykeys, price)\n",
    "print (dict1)"
   ]
  },
  {
   "cell_type": "code",
   "execution_count": 17,
   "id": "14396d96-8791-4fa8-8f45-a92763358395",
   "metadata": {},
   "outputs": [
    {
     "name": "stdout",
     "output_type": "stream",
     "text": [
      "<zip object at 0x000001A1DA749B80>\n",
      "[('mango', 100), ('pineapple', 300), ('cherry', 500), ('lime', 200), ('banana', 700)]\n",
      "(('mango', 100), ('pineapple', 300), ('cherry', 500), ('lime', 200), ('banana', 700))\n",
      "{'mango': 100, 'pineapple': 300, 'cherry': 500, 'lime': 200, 'banana': 700}\n",
      "{'mango': 100, 'pineapple': 300, 'cherry': 500, 'lime': 200, 'banana': 700}\n"
     ]
    }
   ],
   "source": [
    "fruits = [\"mango\", 'pineapple', \"cherry\", \"lime\", \"banana\"]\n",
    "prices = [100, 300, 500, 200, 700, 900]\n",
    "print (zip(fruits, prices))\n",
    "print (list(zip(fruits, prices)))\n",
    "print (tuple(zip(fruits, prices)))\n",
    "print (dict(zip(fruits, prices)))\n",
    "print (dict(list(zip(fruits, prices))))"
   ]
  },
  {
   "cell_type": "code",
   "execution_count": 18,
   "id": "4ebc023d-1272-43f6-a160-9fb3b366b30f",
   "metadata": {},
   "outputs": [
    {
     "name": "stdout",
     "output_type": "stream",
     "text": [
      "March\n",
      "August\n",
      "Invalid Month No.\n"
     ]
    }
   ],
   "source": [
    "def switch_case_demo(month_no):\n",
    "    switcher = {1:\"January\",\n",
    "                2:\"February\",\n",
    "                3:\"March\",\n",
    "                4:\"April\",\n",
    "                5:\"May\",\n",
    "                6:\"June\",\n",
    "                7:\"July\",\n",
    "                8:\"August\",\n",
    "                9:\"September\",\n",
    "                10:\"October\",\n",
    "                11:\"November\",\n",
    "                12:\"December\"}\n",
    "    return switcher.get(month_no, \"Invalid Month No.\")\n",
    "\n",
    "print (switch_case_demo(3))\n",
    "print (switch_case_demo(8))\n",
    "print (switch_case_demo(13))"
   ]
  },
  {
   "cell_type": "code",
   "execution_count": null,
   "id": "db5a59b8-4dc2-4327-86c6-a5316e796b9e",
   "metadata": {},
   "outputs": [],
   "source": [
    "help(dict1)"
   ]
  },
  {
   "cell_type": "markdown",
   "id": "0cb53bcc-5e1f-4870-9663-09086d2b0e72",
   "metadata": {},
   "source": [
    "## **Set Processing**"
   ]
  },
  {
   "cell_type": "code",
   "execution_count": 20,
   "id": "5d4c4663-40df-4f59-b1d9-b9897264f58e",
   "metadata": {},
   "outputs": [
    {
     "name": "stdout",
     "output_type": "stream",
     "text": [
      "{True, 38.5, 'Amitava', 70000, 'Chennai'} 5 1794666351296\n"
     ]
    }
   ],
   "source": [
    "# forming a set from a list\n",
    "list1 = ['Amitava', True, 38.5, 70000, \"Chennai\", True, 38.5, 70000, \"Chennai\", True, 38.5,\n",
    "         70000, \"Chennai\", True, 38.5]\n",
    "set1 = set(list1)\n",
    "print (set1, len(set1), id(set1))"
   ]
  },
  {
   "cell_type": "code",
   "execution_count": 21,
   "id": "b9c34dca-f171-417a-8b3e-3e320c51f22f",
   "metadata": {},
   "outputs": [
    {
     "name": "stdout",
     "output_type": "stream",
     "text": [
      "{True, 38.5, 'Amitava', 70000, 'Chennai'} 5 1794668783296\n"
     ]
    }
   ],
   "source": [
    "# forming a set from a tuple\n",
    "tuple1 = ('Amitava', True, 38.5, 70000, \"Chennai\", True, 38.5, 70000, \"Chennai\", True, 38.5,\n",
    "          70000, \"Chennai\", True, 38.5)\n",
    "set1 = set(tuple1)\n",
    "print (set1, len(set1), id(set1))"
   ]
  },
  {
   "cell_type": "code",
   "execution_count": 22,
   "id": "8249a996-79fb-4327-8422-481cccae6967",
   "metadata": {},
   "outputs": [
    {
     "name": "stdout",
     "output_type": "stream",
     "text": [
      "{70000, True, 38.5, 'Amitava', 'Chennai'} 5 1794668783072\n"
     ]
    }
   ],
   "source": [
    "# forming a set directly\n",
    "set1 = {'Amitava', True, 38.5, 70000, \"Chennai\", True, 38.5, 70000, \"Chennai\", True, 38.5,\n",
    "        70000, \"Chennai\", True, 38.5}\n",
    "print (set1, len(set1), id(set1))"
   ]
  },
  {
   "attachments": {
    "SetOperations.png": {
     "image/png": "[encoded data removed]"
    }
   },
   "cell_type": "markdown",
   "id": "7bfba663",
   "metadata": {},
   "source": [
    "![SetOperations.png](attachment:SetOperations.png)"
   ]
  },
  {
   "cell_type": "code",
   "execution_count": 23,
   "id": "e1ae2a35",
   "metadata": {},
   "outputs": [
    {
     "name": "stdout",
     "output_type": "stream",
     "text": [
      "{'python', 'viper', 'cobra'}\n",
      "{'python', 'c++', 'java'}\n",
      "{'python', 'viper', 'c++', 'java', 'cobra'}\n",
      "{'python', 'viper', 'c++', 'java', 'cobra'}\n",
      "{'python', 'viper', 'cobra'}\n",
      "{'python', 'c++', 'java'}\n"
     ]
    }
   ],
   "source": [
    "# set operations: union, intersection, set difference, symmetric difference\n",
    "snakes = {'viper', 'python', 'cobra'}\n",
    "languages = {'java', 'c++', 'python'}\n",
    "print (snakes)\n",
    "print (languages)\n",
    "result = snakes.union(languages)\n",
    "print (result)\n",
    "result = snakes | languages\n",
    "print (result)\n",
    "print (snakes)\n",
    "print (languages)"
   ]
  },
  {
   "cell_type": "code",
   "execution_count": 24,
   "id": "d321a248-eb62-4553-b4e8-b8ea87bb6e88",
   "metadata": {},
   "outputs": [
    {
     "name": "stdout",
     "output_type": "stream",
     "text": [
      "{'python', 'viper', 'cobra'}\n",
      "{'python', 'c++', 'java'}\n",
      "{'python'}\n",
      "{'python'}\n",
      "{'python'}\n",
      "{'python', 'c++', 'java'}\n"
     ]
    }
   ],
   "source": [
    "snakes = {'viper', 'python', 'cobra'}\n",
    "languages = {'java', 'c++', 'python'}\n",
    "print (snakes)\n",
    "print (languages)\n",
    "result = snakes.intersection(languages)\n",
    "print (result)\n",
    "result = snakes & languages\n",
    "print (result)\n",
    "snakes.intersection_update(languages)\n",
    "print (snakes)\n",
    "print (languages)"
   ]
  },
  {
   "cell_type": "code",
   "execution_count": 25,
   "id": "404108bf-24a4-4060-9b39-fca53928df85",
   "metadata": {},
   "outputs": [
    {
     "name": "stdout",
     "output_type": "stream",
     "text": [
      "{'python', 'viper', 'cobra'}\n",
      "{'python', 'c++', 'java'}\n",
      "{'viper', 'cobra'}\n",
      "{'viper', 'cobra'}\n",
      "{'viper', 'cobra'}\n",
      "{'python', 'c++', 'java'}\n"
     ]
    }
   ],
   "source": [
    "snakes = {'viper', 'python', 'cobra'}\n",
    "languages = {'java', 'c++', 'python'}\n",
    "print (snakes)\n",
    "print (languages)\n",
    "result = snakes.difference(languages)\n",
    "print (result)\n",
    "result = snakes - languages\n",
    "print (result)\n",
    "snakes.difference_update(languages)\n",
    "print (snakes)\n",
    "print (languages)"
   ]
  },
  {
   "cell_type": "code",
   "execution_count": 26,
   "id": "df8fec35-83a3-4edf-ae09-c1c1b171e22d",
   "metadata": {},
   "outputs": [
    {
     "name": "stdout",
     "output_type": "stream",
     "text": [
      "{'python', 'viper', 'cobra'}\n",
      "{'python', 'c++', 'java'}\n",
      "{'java', 'cobra', 'viper', 'c++'}\n",
      "{'java', 'cobra', 'viper', 'c++'}\n",
      "{'java', 'cobra', 'viper', 'c++'}\n",
      "{'python', 'c++', 'java'}\n"
     ]
    }
   ],
   "source": [
    "snakes = {'viper', 'python', 'cobra'}\n",
    "languages = {'java', 'c++', 'python'}\n",
    "print (snakes)\n",
    "print (languages)\n",
    "result = snakes.symmetric_difference(languages)\n",
    "print (result)\n",
    "result = snakes ^ languages\n",
    "print (result)\n",
    "snakes.symmetric_difference_update(languages)\n",
    "print (snakes)\n",
    "print (languages)"
   ]
  },
  {
   "cell_type": "code",
   "execution_count": 27,
   "id": "2b76a12e-3ac6-40d0-a3ac-539d6f7bdc65",
   "metadata": {},
   "outputs": [
    {
     "name": "stdout",
     "output_type": "stream",
     "text": [
      "False True False\n",
      "False False True\n",
      "True False False\n"
     ]
    }
   ],
   "source": [
    "set1 = {100, 200, 300}\n",
    "set2 = {400, 500, 600, 700, 800}\n",
    "set3 = {600, 700, 800}\n",
    "print (set1.issuperset(set2), set2.issuperset(set3), set3.issuperset(set2))\n",
    "print (set1.issubset(set2), set2.issubset(set3), set3.issubset(set2))\n",
    "print (set1.isdisjoint(set2), set2.isdisjoint(set3), set3.isdisjoint(set2))"
   ]
  },
  {
   "cell_type": "code",
   "execution_count": 28,
   "id": "c7106bcd-38e7-47a9-8401-8393483f0322",
   "metadata": {},
   "outputs": [
    {
     "name": "stdout",
     "output_type": "stream",
     "text": [
      "{200, 100, 300} 3\n",
      "{200, 100, 400, 300} 4\n",
      "{100, 200, 300, 400, 700} 5\n",
      "{100, 200, 300, 400, 700} 5\n"
     ]
    }
   ],
   "source": [
    "# insert operation on a set\n",
    "set1 = {100, 200, 300}\n",
    "print (set1, len(set1))\n",
    "set1.add(400)\n",
    "print (set1, len(set1))\n",
    "set1.add(700)\n",
    "print (set1, len(set1))\n",
    "set1.add(700)\n",
    "print (set1, len(set1))"
   ]
  },
  {
   "cell_type": "code",
   "execution_count": 29,
   "id": "c93b7367-1e7c-4ec2-9cd6-07a31d11fd7b",
   "metadata": {},
   "outputs": [
    {
     "name": "stdout",
     "output_type": "stream",
     "text": [
      "{400, 700, 100, 500, 200, 600, 300} 7\n",
      "{400, 700, 100, 500, 200, 600} 6\n",
      "{400, 100, 500, 200, 600} 5\n"
     ]
    },
    {
     "ename": "KeyError",
     "evalue": "700",
     "output_type": "error",
     "traceback": [
      "\u001b[1;31m---------------------------------------------------------------------------\u001b[0m",
      "\u001b[1;31mKeyError\u001b[0m                                  Traceback (most recent call last)",
      "Cell \u001b[1;32mIn[29], line 8\u001b[0m\n\u001b[0;32m      6\u001b[0m set1\u001b[38;5;241m.\u001b[39mremove(\u001b[38;5;241m700\u001b[39m)\n\u001b[0;32m      7\u001b[0m \u001b[38;5;28mprint\u001b[39m (set1, \u001b[38;5;28mlen\u001b[39m(set1))\n\u001b[1;32m----> 8\u001b[0m set1\u001b[38;5;241m.\u001b[39mremove(\u001b[38;5;241m700\u001b[39m)\n\u001b[0;32m      9\u001b[0m \u001b[38;5;28mprint\u001b[39m (set1, \u001b[38;5;28mlen\u001b[39m(set1))\n",
      "\u001b[1;31mKeyError\u001b[0m: 700"
     ]
    }
   ],
   "source": [
    "# delete operation on a set\n",
    "set1 = {100, 200, 300, 600, 700, 500, 400}\n",
    "print (set1, len(set1))\n",
    "set1.remove(300)\n",
    "print (set1, len(set1))\n",
    "set1.remove(700)\n",
    "print (set1, len(set1))\n",
    "set1.remove(700)\n",
    "print (set1, len(set1))"
   ]
  },
  {
   "cell_type": "code",
   "execution_count": 30,
   "id": "388aaaa5-f38e-400a-8552-f4dba4964043",
   "metadata": {},
   "outputs": [
    {
     "name": "stdout",
     "output_type": "stream",
     "text": [
      "{400, 700, 100, 500, 200, 600, 300} 7\n",
      "{400, 700, 100, 500, 200, 600} 6\n",
      "{400, 100, 500, 200, 600} 5\n",
      "{400, 100, 500, 200, 600} 5\n"
     ]
    }
   ],
   "source": [
    "set1 = {100, 200, 300, 600, 700, 500, 400}\n",
    "print (set1, len(set1))\n",
    "set1.discard(300)\n",
    "print (set1, len(set1))\n",
    "set1.discard(700)\n",
    "print (set1, len(set1))\n",
    "set1.discard(700)\n",
    "print (set1, len(set1))"
   ]
  },
  {
   "cell_type": "code",
   "execution_count": 31,
   "id": "0f229d74-298f-4ab2-8d74-8a8e35efd6c6",
   "metadata": {},
   "outputs": [
    {
     "name": "stdout",
     "output_type": "stream",
     "text": [
      "{400, 700, 100, 500, 200, 600, 300} 7\n",
      "400\n",
      "{700, 100, 500, 200, 600, 300} 6\n",
      "700\n",
      "{100, 500, 200, 600, 300} 5\n",
      "100\n",
      "{500, 200, 600, 300} 4\n"
     ]
    }
   ],
   "source": [
    "set1 = {100, 200, 300, 600, 700, 500, 400}\n",
    "print (set1, len(set1))\n",
    "print (set1.pop())\n",
    "print (set1, len(set1))\n",
    "print (set1.pop())\n",
    "print (set1, len(set1))\n",
    "print (set1.pop())\n",
    "print (set1, len(set1))"
   ]
  },
  {
   "cell_type": "code",
   "execution_count": 32,
   "id": "165c8383-0cbf-4015-91c2-fe1eea9fa1f5",
   "metadata": {},
   "outputs": [
    {
     "name": "stdout",
     "output_type": "stream",
     "text": [
      "{400, 700, 100, 500, 200, 600, 300} 7\n",
      "set() 0\n"
     ]
    }
   ],
   "source": [
    "set1 = {100, 200, 300, 600, 700, 500, 400}\n",
    "print (set1, len(set1))\n",
    "set1.clear()\n",
    "print (set1, len(set1))"
   ]
  },
  {
   "cell_type": "code",
   "execution_count": 33,
   "id": "0035b8ed-78cd-49ea-8c10-547cd0c56a30",
   "metadata": {},
   "outputs": [
    {
     "name": "stdout",
     "output_type": "stream",
     "text": [
      "{400, 700, 100, 500, 200, 600, 300} 7\n"
     ]
    },
    {
     "ename": "NameError",
     "evalue": "name 'set1' is not defined",
     "output_type": "error",
     "traceback": [
      "\u001b[1;31m---------------------------------------------------------------------------\u001b[0m",
      "\u001b[1;31mNameError\u001b[0m                                 Traceback (most recent call last)",
      "Cell \u001b[1;32mIn[33], line 4\u001b[0m\n\u001b[0;32m      2\u001b[0m \u001b[38;5;28mprint\u001b[39m (set1, \u001b[38;5;28mlen\u001b[39m(set1))\n\u001b[0;32m      3\u001b[0m \u001b[38;5;28;01mdel\u001b[39;00m set1\n\u001b[1;32m----> 4\u001b[0m \u001b[38;5;28mprint\u001b[39m (set1, \u001b[38;5;28mlen\u001b[39m(set1))\n",
      "\u001b[1;31mNameError\u001b[0m: name 'set1' is not defined"
     ]
    }
   ],
   "source": [
    "set1 = {100, 200, 300, 600, 700, 500, 400}\n",
    "print (set1, len(set1))\n",
    "del set1\n",
    "print (set1, len(set1))"
   ]
  },
  {
   "cell_type": "code",
   "execution_count": 35,
   "id": "9a28aac4-4308-47f6-965c-1eb8fc69aaa8",
   "metadata": {},
   "outputs": [
    {
     "name": "stdout",
     "output_type": "stream",
     "text": [
      "{400, 700, 100, 500, 200, 600, 300}\n",
      "{400, 1600, 700, 100, 500, 200, 300}\n"
     ]
    }
   ],
   "source": [
    "# update operation on a set\n",
    "set1 = {100, 200, 300, 600, 700, 500, 400}\n",
    "print (set1)\n",
    "set1.remove(600)   # deleting the item\n",
    "set1.add(1600)     # inserting the item\n",
    "print (set1)"
   ]
  },
  {
   "cell_type": "code",
   "execution_count": 37,
   "id": "588f514f-4540-4b70-82ca-2e2b9398c7b8",
   "metadata": {},
   "outputs": [
    {
     "name": "stdout",
     "output_type": "stream",
     "text": [
      "{200, 100, 300}\n",
      "{400, 700, 500, 600, 300}\n",
      "{100, 200, 300, 400, 500, 600, 700}\n",
      "{400, 700, 500, 600, 300}\n"
     ]
    }
   ],
   "source": [
    "# concatenating two sets\n",
    "set1 = {100, 200, 300}\n",
    "set2 = {300, 600, 700, 500, 400}\n",
    "print (set1)\n",
    "print (set2)\n",
    "set1.update(set2)\n",
    "print (set1)\n",
    "print (set2)"
   ]
  },
  {
   "cell_type": "code",
   "execution_count": null,
   "id": "d3a02ff1-2334-47f2-a598-706ae63cd413",
   "metadata": {},
   "outputs": [],
   "source": [
    "help(set1)"
   ]
  },
  {
   "cell_type": "markdown",
   "id": "089b635d-66d7-49c8-b8e0-03f6c7945938",
   "metadata": {},
   "source": [
    "## **Frozen Set Processing**"
   ]
  },
  {
   "cell_type": "code",
   "execution_count": 39,
   "id": "df391602-d4e2-4b5c-a9f7-765359254e49",
   "metadata": {},
   "outputs": [
    {
     "name": "stdout",
     "output_type": "stream",
     "text": [
      "frozenset({True, 38.5, 'Amitava', 70000, 'Chennai'}) <class 'frozenset'> 5\n"
     ]
    }
   ],
   "source": [
    "# forming a frozen set from a list\n",
    "list1 = ['Amitava', True, 38.5, 70000, \"Chennai\", True, 38.5, 70000, \"Chennai\", True, 38.5,\n",
    "         70000, \"Chennai\", True, 38.5]\n",
    "set1 = frozenset(list1)\n",
    "print (set1, type(set1), len(set1))"
   ]
  },
  {
   "cell_type": "code",
   "execution_count": 40,
   "id": "7562e484-40a4-4e6a-9460-c3fa3e4f2b92",
   "metadata": {},
   "outputs": [
    {
     "name": "stdout",
     "output_type": "stream",
     "text": [
      "frozenset({True, 38.5, 'Amitava', 70000, 'Chennai'}) <class 'frozenset'> 5\n"
     ]
    }
   ],
   "source": [
    "# forming a frozen set from a tuple\n",
    "tuple1 = ('Amitava', True, 38.5, 70000, \"Chennai\", True, 38.5, 70000, \"Chennai\", True, 38.5,\n",
    "          70000, \"Chennai\", True, 38.5)\n",
    "set1 = frozenset(tuple1)\n",
    "print (set1, type(set1), len(set1))"
   ]
  },
  {
   "cell_type": "code",
   "execution_count": 41,
   "id": "ae513f14-97d3-4f15-9c2d-d0a6b52c9e5e",
   "metadata": {},
   "outputs": [
    {
     "name": "stdout",
     "output_type": "stream",
     "text": [
      "frozenset({70000, True, 38.5, 'Amitava', 'Chennai'}) <class 'frozenset'> 5\n"
     ]
    }
   ],
   "source": [
    "# forming a frozen set from a set\n",
    "myset = {'Amitava', True, 38.5, 70000, \"Chennai\", True, 38.5, 70000, \"Chennai\", True, 38.5,\n",
    "         \"Chennai\", True, 38.5}\n",
    "set1 = frozenset(myset)\n",
    "print (set1, type(set1), len(set1))"
   ]
  },
  {
   "cell_type": "code",
   "execution_count": null,
   "id": "ff3dcbff-2fac-4c12-8915-2d60c156cc08",
   "metadata": {},
   "outputs": [],
   "source": [
    "# frozen-set operations: union, intersection, difference, symmetric difference\n",
    "snakes = frozenset({'viper', 'python', 'cobra'})\n",
    "languages = frozenset({'java', 'c++', 'python'})\n",
    "print (snakes)\n",
    "print (languages)\n",
    "result = snakes.union(languages)\n",
    "print (result)\n",
    "result = snakes | languages\n",
    "print (result)\n",
    "result = snakes.intersection(languages)\n",
    "print (result)\n",
    "result = snakes & languages\n",
    "print (result)\n",
    "result = snakes.difference(languages)\n",
    "print (result)\n",
    "result = snakes - languages\n",
    "print (result)\n",
    "result = snakes.symmetric_difference(languages)\n",
    "print (result)\n",
    "result = snakes ^ languages\n",
    "print (result)"
   ]
  },
  {
   "cell_type": "code",
   "execution_count": 42,
   "id": "70327a65",
   "metadata": {},
   "outputs": [
    {
     "name": "stdout",
     "output_type": "stream",
     "text": [
      "frozenset({'python', 'viper', 'cobra'})\n",
      "frozenset({'python', 'c++', 'java'})\n",
      "frozenset({'python', 'viper', 'c++', 'java', 'cobra'})\n",
      "frozenset({'python', 'viper', 'c++', 'java', 'cobra'})\n"
     ]
    }
   ],
   "source": [
    "# frozen-set operations: union, intersection, difference, symmetric difference\n",
    "snakes = frozenset({'viper', 'python', 'cobra'})\n",
    "languages = frozenset({'java', 'c++', 'python'})\n",
    "print (snakes)\n",
    "print (languages)\n",
    "result = snakes.union(languages)\n",
    "print (result)\n",
    "result = snakes | languages\n",
    "print (result)"
   ]
  },
  {
   "cell_type": "code",
   "execution_count": 43,
   "id": "5204c250",
   "metadata": {},
   "outputs": [
    {
     "name": "stdout",
     "output_type": "stream",
     "text": [
      "frozenset({'python', 'viper', 'cobra'})\n",
      "frozenset({'python', 'c++', 'java'})\n",
      "frozenset({'python'})\n",
      "frozenset({'python'})\n"
     ]
    }
   ],
   "source": [
    "# frozen-set operations: union, intersection, difference, symmetric difference\n",
    "snakes = frozenset({'viper', 'python', 'cobra'})\n",
    "languages = frozenset({'java', 'c++', 'python'})\n",
    "print (snakes)\n",
    "print (languages)\n",
    "result = snakes.intersection(languages)\n",
    "print (result)\n",
    "result = snakes & languages\n",
    "print (result)"
   ]
  },
  {
   "cell_type": "code",
   "execution_count": 44,
   "id": "75f122ad",
   "metadata": {},
   "outputs": [
    {
     "name": "stdout",
     "output_type": "stream",
     "text": [
      "frozenset({'python', 'viper', 'cobra'})\n",
      "frozenset({'python', 'c++', 'java'})\n",
      "frozenset({'viper', 'cobra'})\n",
      "frozenset({'viper', 'cobra'})\n"
     ]
    }
   ],
   "source": [
    "# frozen-set operations: union, intersection, difference, symmetric difference\n",
    "snakes = frozenset({'viper', 'python', 'cobra'})\n",
    "languages = frozenset({'java', 'c++', 'python'})\n",
    "print (snakes)\n",
    "print (languages)\n",
    "result = snakes.difference(languages)\n",
    "print (result)\n",
    "result = snakes - languages\n",
    "print (result)"
   ]
  },
  {
   "cell_type": "code",
   "execution_count": 45,
   "id": "931c4254-cda4-49e4-b4eb-2bf9f1a3091e",
   "metadata": {},
   "outputs": [
    {
     "name": "stdout",
     "output_type": "stream",
     "text": [
      "frozenset({'python', 'viper', 'cobra'})\n",
      "frozenset({'python', 'c++', 'java'})\n",
      "frozenset({'java', 'cobra', 'viper', 'c++'})\n",
      "frozenset({'java', 'cobra', 'viper', 'c++'})\n"
     ]
    }
   ],
   "source": [
    "# frozen-set operations: union, intersection, difference, symmetric difference\n",
    "snakes = frozenset({'viper', 'python', 'cobra'})\n",
    "languages = frozenset({'java', 'c++', 'python'})\n",
    "print (snakes)\n",
    "print (languages)\n",
    "result = snakes.symmetric_difference(languages)\n",
    "print (result)\n",
    "result = snakes ^ languages\n",
    "print (result)"
   ]
  },
  {
   "cell_type": "code",
   "execution_count": 46,
   "id": "3873e6b6-2d40-4fc0-a021-b5581c27d249",
   "metadata": {},
   "outputs": [
    {
     "name": "stdout",
     "output_type": "stream",
     "text": [
      "False True False\n",
      "False False True\n",
      "True False False\n"
     ]
    }
   ],
   "source": [
    "set1 = frozenset({100, 200, 300})\n",
    "set2 = frozenset({400, 500, 600, 700, 800})\n",
    "set3 = frozenset({600, 700, 800})\n",
    "print (set1.issuperset(set2), set2.issuperset(set3), set3.issuperset(set2))\n",
    "print (set1.issubset(set2), set2.issubset(set3), set3.issubset(set2))\n",
    "print (set1.isdisjoint(set2), set2.isdisjoint(set3), set3.isdisjoint(set2))"
   ]
  },
  {
   "cell_type": "code",
   "execution_count": null,
   "id": "a6f3d68e-bd54-4511-82d3-fcf3021abd7b",
   "metadata": {},
   "outputs": [],
   "source": []
  }
 ],
 "metadata": {
  "kernelspec": {
   "display_name": "Python 3 (ipykernel)",
   "language": "python",
   "name": "python3"
  },
  "language_info": {
   "codemirror_mode": {
    "name": "ipython",
    "version": 3
   },
   "file_extension": ".py",
   "mimetype": "text/x-python",
   "name": "python",
   "nbconvert_exporter": "python",
   "pygments_lexer": "ipython3",
   "version": "3.11.7"
  }
 },
 "nbformat": 4,
 "nbformat_minor": 5
}

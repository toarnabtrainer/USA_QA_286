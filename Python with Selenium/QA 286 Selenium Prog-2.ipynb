{
 "cells": [
  {
   "cell_type": "markdown",
   "id": "61b541b5-44af-4643-b00a-f4e831a15331",
   "metadata": {},
   "source": [
    "# **Selenium Code Example - 2**"
   ]
  },
  {
   "cell_type": "markdown",
   "id": "75f54036-e51c-4171-93f7-e82f9a5c36e0",
   "metadata": {},
   "source": [
    "## **Selenium control options to write text, button press, select menu and others**"
   ]
  },
  {
   "cell_type": "code",
   "execution_count": 21,
   "id": "d1ece3a9-5444-47ed-89e8-777669d5c8fd",
   "metadata": {},
   "outputs": [],
   "source": [
    "# importing all the required modules\n",
    "from selenium import webdriver\n",
    "from selenium.webdriver.chrome.service import Service"
   ]
  },
  {
   "cell_type": "code",
   "execution_count": 22,
   "id": "db64874b-049e-445e-8a98-2bb8ca985ee4",
   "metadata": {},
   "outputs": [
    {
     "name": "stdout",
     "output_type": "stream",
     "text": [
      "4.18.1\n"
     ]
    }
   ],
   "source": [
    "# also check the current version of selenium\n",
    "print(webdriver.__version__)"
   ]
  },
  {
   "cell_type": "code",
   "execution_count": 23,
   "id": "22f87bdf-4774-436e-901a-8cae9ab70b24",
   "metadata": {},
   "outputs": [],
   "source": [
    "# chromedriver.exe is available in the current folder\n",
    "service = Service(executable_path='./chromedriver.exe')\n",
    "options = webdriver.ChromeOptions()\n",
    "driver = webdriver.Chrome(service=service, options=options)"
   ]
  },
  {
   "cell_type": "code",
   "execution_count": 24,
   "id": "cfd6afdf-2a25-4d52-8148-342fcf14b045",
   "metadata": {},
   "outputs": [],
   "source": [
    "# open a web portal to calculate nCr operations\n",
    "# https://www.calculatorsoup.com => Discrete Math => Combinations Calculator (Get the page)\n",
    "URL = \"https://www.calculatorsoup.com/calculators/discretemathematics/combinations.php\"\n",
    "driver.get(URL)"
   ]
  },
  {
   "cell_type": "code",
   "execution_count": 25,
   "id": "276c6f05-ebbd-4e6e-9957-4aba5fa5b862",
   "metadata": {},
   "outputs": [],
   "source": [
    "# 5! = 1 * 2 * 3 * 4 * 5 = 120\n",
    "# n! = 1 * 2 * 3 * ... * (n - 1) * n\n",
    "num1 = \"10\"\n",
    "num2 = \"5\""
   ]
  },
  {
   "cell_type": "code",
   "execution_count": 26,
   "id": "1be48db2-f0c6-4c40-9909-e95954460454",
   "metadata": {},
   "outputs": [],
   "source": [
    "n_input = driver.find_element(\"id\", \"n\")\n",
    "n_input.clear()\n",
    "n_input.send_keys(num1)"
   ]
  },
  {
   "cell_type": "code",
   "execution_count": 27,
   "id": "8f09a7c8-6753-4124-8ac9-32b4627b423f",
   "metadata": {},
   "outputs": [],
   "source": [
    "# r_input = driver.find_element(\"id\", \"r\")\n",
    "# r_input.clear()\n",
    "# r_input.send_keys(num2)"
   ]
  },
  {
   "cell_type": "code",
   "execution_count": 28,
   "id": "55b72829-7671-4a67-bae3-80dbc31cfc28",
   "metadata": {},
   "outputs": [],
   "source": [
    "# to press keys, we can use the following library\n",
    "from selenium.webdriver.common.keys import Keys\n",
    "\n",
    "# press Tab key to go to the next input area\n",
    "n_input.send_keys(Keys.TAB)"
   ]
  },
  {
   "cell_type": "code",
   "execution_count": 29,
   "id": "74667d3f-848d-4d3c-b3aa-13d009950d5b",
   "metadata": {},
   "outputs": [],
   "source": [
    "# select currently selected input area\n",
    "r_input = driver.switch_to.active_element\n",
    "\n",
    "# now put the r_value into the textbox\n",
    "r_input.clear()\n",
    "r_input.send_keys(num2)"
   ]
  },
  {
   "cell_type": "code",
   "execution_count": 30,
   "id": "84dec412-964e-49ab-a5ea-ec7b2734c20a",
   "metadata": {},
   "outputs": [],
   "source": [
    "# now go to the calculate button and click on it\n",
    "calculate_button = driver.find_element(\"id\", \"calculateButton\")\n",
    "calculate_button.click()"
   ]
  },
  {
   "cell_type": "code",
   "execution_count": 31,
   "id": "09095914-b541-4733-bf51-a5c9d3e9bec7",
   "metadata": {},
   "outputs": [
    {
     "name": "stdout",
     "output_type": "stream",
     "text": [
      "252\n"
     ]
    }
   ],
   "source": [
    "# read the answer from the result area\n",
    "result_area = driver.find_element(\"id\", \"answer\")\n",
    "result = int(result_area.text.split()[1])\n",
    "print (result)"
   ]
  },
  {
   "cell_type": "code",
   "execution_count": 32,
   "id": "81052773-5e78-4b2f-bd7d-c59852050987",
   "metadata": {},
   "outputs": [
    {
     "name": "stdout",
     "output_type": "stream",
     "text": [
      "252\n"
     ]
    }
   ],
   "source": [
    "import math\n",
    "expected_result = math.comb(int(num1), int(num2))\n",
    "print (expected_result)"
   ]
  },
  {
   "cell_type": "code",
   "execution_count": 34,
   "id": "5693450b-87d4-4356-8fb3-1859d6349c40",
   "metadata": {},
   "outputs": [
    {
     "name": "stdout",
     "output_type": "stream",
     "text": [
      "PASS\n"
     ]
    }
   ],
   "source": [
    "if (result == expected_result):\n",
    "    print (\"PASS\")\n",
    "else:\n",
    "    print (\"FAIL\")"
   ]
  },
  {
   "cell_type": "code",
   "execution_count": 35,
   "id": "86761213-3988-48c5-a734-b448d0ec7dad",
   "metadata": {},
   "outputs": [],
   "source": [
    "driver.quit()"
   ]
  },
  {
   "cell_type": "code",
   "execution_count": null,
   "id": "5fe5ad2d-f4c2-4cbe-ad64-bb6444335445",
   "metadata": {},
   "outputs": [],
   "source": []
  }
 ],
 "metadata": {
  "kernelspec": {
   "display_name": "Python 3 (ipykernel)",
   "language": "python",
   "name": "python3"
  },
  "language_info": {
   "codemirror_mode": {
    "name": "ipython",
    "version": 3
   },
   "file_extension": ".py",
   "mimetype": "text/x-python",
   "name": "python",
   "nbconvert_exporter": "python",
   "pygments_lexer": "ipython3",
   "version": "3.11.7"
  }
 },
 "nbformat": 4,
 "nbformat_minor": 5
}

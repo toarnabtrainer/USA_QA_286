{
 "cells": [
  {
   "cell_type": "markdown",
   "id": "377e9636-ff05-4083-8b25-8a0932fc4348",
   "metadata": {},
   "source": [
    "## **Selenium Code Example - 3/3**\n",
    "\n",
    "## **Selenium control options to write text, button press, dropdown list, checkbox and others**"
   ]
  },
  {
   "cell_type": "code",
   "execution_count": 1,
   "id": "3d2af443-8dad-4836-857e-7a6916561c57",
   "metadata": {},
   "outputs": [],
   "source": [
    "# importing all required modules\n",
    "from selenium import webdriver\n",
    "from selenium.webdriver.chrome.service import Service"
   ]
  },
  {
   "cell_type": "code",
   "execution_count": 2,
   "id": "524b0b6b-a9fe-4abd-9f53-12171b376e9b",
   "metadata": {},
   "outputs": [
    {
     "name": "stdout",
     "output_type": "stream",
     "text": [
      "4.18.1\n"
     ]
    }
   ],
   "source": [
    "# printing the selenium version\n",
    "print (webdriver.__version__)"
   ]
  },
  {
   "cell_type": "code",
   "execution_count": 4,
   "id": "457252c0-0aa3-4f8b-8495-531aaab1fa42",
   "metadata": {},
   "outputs": [],
   "source": [
    "# at first we have checked the presence of chromedriver.exe file presencce in the current directory\n",
    "# so now we are creating a new chrome instance\n",
    "service = Service(executable_path = './chromedriver.exe')\n",
    "options = webdriver.ChromeOptions()\n",
    "driver = webdriver.Chrome(service=service, options=options)"
   ]
  },
  {
   "cell_type": "code",
   "execution_count": 5,
   "id": "484e5c65-0d52-4a92-99cd-7fd1764ab3c6",
   "metadata": {},
   "outputs": [],
   "source": [
    "# now we shall go to another web portal for our currency conversion\n",
    "# https://www.calculator.net/ => Click on \"All Calculators\" => Click on \"Currency Calculator\"\n",
    "driver.get(\"https://www.calculator.net/currency-calculator.html\")"
   ]
  },
  {
   "cell_type": "code",
   "execution_count": 6,
   "id": "2bc3a90f-58e0-411b-8e5c-50c7e04464b4",
   "metadata": {},
   "outputs": [],
   "source": [
    "# import select and checkbox from selenium library to get HTML select tags\n",
    "from selenium.webdriver.support.ui import Select"
   ]
  },
  {
   "cell_type": "code",
   "execution_count": 7,
   "id": "e8c6a488-2824-4fa9-90b9-7dabc3f7a6f6",
   "metadata": {},
   "outputs": [],
   "source": [
    "# now select the FROM currency as INR and TO currency as USD from the drop down menu\n",
    "from_currency = Select(driver.find_element(\"id\", \"efrom\"))\n",
    "from_currency.select_by_visible_text(\"INR: Indian Rupee\")   # visible text to the user"
   ]
  },
  {
   "cell_type": "code",
   "execution_count": 8,
   "id": "7b2a271f-34d5-4cae-9616-2943e348094c",
   "metadata": {},
   "outputs": [],
   "source": [
    "to_currency = Select(driver.find_element(\"id\", \"eto\"))\n",
    "to_currency.select_by_value(\"USD\")"
   ]
  },
  {
   "cell_type": "code",
   "execution_count": 10,
   "id": "f1cc2bb7-04f3-416e-926e-57f3cba021cc",
   "metadata": {},
   "outputs": [],
   "source": [
    "# put the amount as 500 in the input textbox\n",
    "amount_textbox = driver.find_element(\"id\", \"eamount\")\n",
    "amount_textbox.clear()\n",
    "amount_textbox.send_keys(\"500\")"
   ]
  },
  {
   "cell_type": "code",
   "execution_count": 12,
   "id": "7692c15a-7a47-489b-8f35-2b95312d6ba3",
   "metadata": {},
   "outputs": [],
   "source": [
    "# click on the calculate button\n",
    "calculate_button = driver.find_element('xpath', '//*[@id=\"standard\"]/tbody/tr[5]/td[2]/input[2]')\n",
    "calculate_button.click()"
   ]
  },
  {
   "cell_type": "code",
   "execution_count": 13,
   "id": "214be85e-3846-4dc1-bd5c-fb638a2c2c3a",
   "metadata": {},
   "outputs": [],
   "source": [
    "checkbox = driver.find_element(\"xpath\", '//*[@id = \"ccmajorccsettingbox\"]')\n",
    "# if this is already checked then uncheck it by the help of the java script\n",
    "if checkbox.is_selected():\n",
    "    driver.execute_script(\"arguments[0].click()\", checkbox)"
   ]
  },
  {
   "cell_type": "code",
   "execution_count": 14,
   "id": "2f26c39a-f39f-4b64-bb22-4357ae1f8468",
   "metadata": {},
   "outputs": [],
   "source": [
    "# now select the FROM currency as ZWL and TO currency as BDT from the drop down menu\n",
    "from_currency = Select(driver.find_element(\"id\", \"efrom\"))\n",
    "from_currency.select_by_visible_text(\"ZWL: Zimbabwean Dollar\")   # visible text to the user"
   ]
  },
  {
   "cell_type": "code",
   "execution_count": 15,
   "id": "7a848119-7b12-4a59-a899-3ed0ce955012",
   "metadata": {},
   "outputs": [],
   "source": [
    "to_currency = Select(driver.find_element(\"id\", \"eto\"))\n",
    "to_currency.select_by_value(\"BDT\")"
   ]
  },
  {
   "cell_type": "code",
   "execution_count": 16,
   "id": "569389cb-01fd-48ad-937c-74d43e28c37f",
   "metadata": {},
   "outputs": [],
   "source": [
    "# put the amount as 1000 in the input textbox\n",
    "amount_textbox = driver.find_element(\"id\", \"eamount\")\n",
    "amount_textbox.clear()\n",
    "amount_textbox.send_keys(\"1000\")"
   ]
  },
  {
   "cell_type": "code",
   "execution_count": 17,
   "id": "ff2ced86-d6d5-4f1e-953a-6ebeda83e9bd",
   "metadata": {},
   "outputs": [],
   "source": [
    "# click on the calculate button\n",
    "calculate_button = driver.find_element('xpath', '//*[@id=\"standard\"]/tbody/tr[5]/td[2]/input[2]')\n",
    "calculate_button.click()"
   ]
  },
  {
   "cell_type": "code",
   "execution_count": 18,
   "id": "edffc238-fc5e-48be-9245-883caca00fe2",
   "metadata": {},
   "outputs": [],
   "source": [
    "driver.quit()"
   ]
  },
  {
   "cell_type": "code",
   "execution_count": null,
   "id": "3c34aa33-1043-419e-86df-1fdfeb646ae5",
   "metadata": {},
   "outputs": [],
   "source": []
  }
 ],
 "metadata": {
  "kernelspec": {
   "display_name": "Python 3 (ipykernel)",
   "language": "python",
   "name": "python3"
  },
  "language_info": {
   "codemirror_mode": {
    "name": "ipython",
    "version": 3
   },
   "file_extension": ".py",
   "mimetype": "text/x-python",
   "name": "python",
   "nbconvert_exporter": "python",
   "pygments_lexer": "ipython3",
   "version": "3.11.7"
  }
 },
 "nbformat": 4,
 "nbformat_minor": 5
}

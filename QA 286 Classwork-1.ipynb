{
 "cells": [
  {
   "cell_type": "markdown",
   "id": "e8decc2a-0d13-454e-a260-784bc43f15ab",
   "metadata": {},
   "source": [
    "# **Python Scripting**"
   ]
  },
  {
   "cell_type": "markdown",
   "id": "23332b4e-922d-4e73-87c9-501e2cd86c77",
   "metadata": {},
   "source": [
    "## **Day-1**"
   ]
  },
  {
   "cell_type": "markdown",
   "id": "bc148703-c2d4-47c6-9d85-6069749a170f",
   "metadata": {},
   "source": [
    "## **Python Inputs and Outputs**"
   ]
  },
  {
   "cell_type": "code",
   "execution_count": 4,
   "id": "45612f17-ede1-4a4c-b6eb-0d8a24944423",
   "metadata": {},
   "outputs": [
    {
     "name": "stdin",
     "output_type": "stream",
     "text": [
      "Please enter the first number: 100\n",
      "Please enter the second number: 400\n"
     ]
    },
    {
     "name": "stdout",
     "output_type": "stream",
     "text": [
      "100 <class 'str'> 400 <class 'str'>\n",
      "100400 <class 'str'>\n",
      "Total = 100400\n",
      "End of the program...\n"
     ]
    }
   ],
   "source": [
    "# python input and output statements\n",
    "num1 = input(\"Please enter the first number:\")\n",
    "num2 = input(\"Please enter the second number:\")\n",
    "print (num1, type(num1), num2, type(num2))\n",
    "result = num1 + num2\n",
    "print (result, type(result))\n",
    "print (\"Total =\", result)\n",
    "print (\"End of the program...\")"
   ]
  },
  {
   "cell_type": "code",
   "execution_count": 5,
   "id": "90af09b2-ffba-4821-9c6d-a1778b17c064",
   "metadata": {},
   "outputs": [
    {
     "name": "stdin",
     "output_type": "stream",
     "text": [
      "Please enter the first number: 100\n",
      "Please enter the second number: 400\n"
     ]
    },
    {
     "name": "stdout",
     "output_type": "stream",
     "text": [
      "100 <class 'int'> 400 <class 'int'>\n",
      "500 <class 'int'>\n",
      "Total = 500\n",
      "End of the program...\n"
     ]
    }
   ],
   "source": [
    "# python input and output statements\n",
    "num1 = int(input(\"Please enter the first number:\"))\n",
    "num2 = int(input(\"Please enter the second number:\"))\n",
    "print (num1, type(num1), num2, type(num2))\n",
    "result = num1 + num2\n",
    "print (result, type(result))\n",
    "print (\"Total =\", result)\n",
    "print (\"End of the program...\")"
   ]
  },
  {
   "cell_type": "code",
   "execution_count": 25,
   "id": "0d7fe277-2376-4c63-9d3d-cbdcf4ace12a",
   "metadata": {},
   "outputs": [
    {
     "name": "stdout",
     "output_type": "stream",
     "text": [
      "So 100 + 400 = 500\n",
      "So 100 + 400 = 500\n",
      "So 100 + 400 = 500\n",
      "So 100 + 400 = 500\n",
      "So 100 + 400 = 500\n",
      "So 100 + 400 = 500\n",
      "So 100 + 400 = 500\n",
      "So 100 + 400 = 500\n",
      "So 100.000000 + 400.000000 = 500\n",
      "So    100.000 +   400.00 = 500\n",
      "So 100 + 400 = 500\n",
      "So 100 + 400 = 500\n"
     ]
    }
   ],
   "source": [
    "print (\"So\", num1, \"+\", num2, \"=\", result)\n",
    "print (\"So \" + str(num1) + \" + \" + str(num2) + \" = \" + str(result))\n",
    "print (\"So {} + {} = {}\".format(num1, num2, result))   # {} called as a variable place holder\n",
    "print (\"So {0} + {1} = {2}\".format(num1, num2, result))   # numbered place holder\n",
    "print (\"So {2} + {1} = {0}\".format(result, num2, num1))   # numbered place holder\n",
    "print (\"So {fnum} + {snum} = {total}\".format(fnum = num1, snum = num2, total = result))   # labelled place holder\n",
    "print (\"So {fnum} + {snum} = {total}\".format(total = result, fnum = num1, snum = num2))   # labelled place holder\n",
    "print (\"So %d + %d = %d\"%(num1, num2, result))\n",
    "print (\"So %f + %f = %d\"%(num1, num2, result))   # number formatting, %d => decimal, %f => float format\n",
    "print (\"So %10.3f + %8.2f = %d\"%(num1, num2, result))\n",
    "print (\"So %d + %d = %d\"%(num1, num2, result))\n",
    "print (f\"So {num1} + {num2} = {result}\")   # smart formatting"
   ]
  },
  {
   "cell_type": "markdown",
   "id": "12655993-2902-4690-bd9e-2fa14237f49d",
   "metadata": {},
   "source": [
    "## **Dynamic Variable Types**"
   ]
  },
  {
   "cell_type": "code",
   "execution_count": 19,
   "id": "1aa62702-16d3-4eb2-9575-2d18f4b6ef5a",
   "metadata": {},
   "outputs": [
    {
     "name": "stdout",
     "output_type": "stream",
     "text": [
      "100 <class 'int'> 140708442525576\n",
      "100.5 <class 'float'> 2459626687312\n",
      "Python <class 'str'> 140708441260968\n",
      "P <class 'str'> 140708442567496\n",
      "Python <class 'str'> 140708441260968\n",
      "P <class 'str'> 140708442567496\n",
      "True <class 'bool'> 140708441049664\n",
      "False <class 'bool'> 140708441049696\n"
     ]
    }
   ],
   "source": [
    "var1 = 100; print (var1, type(var1), id(var1))\n",
    "var1 = 100.5; print (var1, type(var1), id(var1))\n",
    "var1 = \"Python\"; print (var1, type(var1), id(var1))\n",
    "var1 = \"P\"; print (var1, type(var1), id(var1))\n",
    "var1 = 'Python'; print (var1, type(var1), id(var1))\n",
    "var1 = 'P'; print (var1, type(var1), id(var1))\n",
    "var1 = True; print (var1, type(var1), id(var1))\n",
    "var1 = False; print (var1, type(var1), id(var1))"
   ]
  },
  {
   "cell_type": "markdown",
   "id": "d629009f-44ec-4c90-bb32-cc4d6ba3e2c5",
   "metadata": {},
   "source": [
    "## **Python Operators**"
   ]
  },
  {
   "cell_type": "code",
   "execution_count": null,
   "id": "041e2176-5710-404f-a4ed-492362fa8b2d",
   "metadata": {},
   "outputs": [],
   "source": [
    "# Arithmetic Operators: + - * / // ** %\n",
    "# Conditional Operators: > >= < <= != ==\n",
    "# Logical Operators: and or not\n",
    "# Assignment Operator: = \n",
    "# Special Assignment Operators: += -= *= /= //= **= %="
   ]
  },
  {
   "cell_type": "code",
   "execution_count": 28,
   "id": "0a0ef039-0a69-45d6-bdaf-dcca123fb7ea",
   "metadata": {},
   "outputs": [
    {
     "name": "stdout",
     "output_type": "stream",
     "text": [
      "140\n",
      "60\n",
      "4000\n",
      "2.5\n",
      "2\n",
      "20\n",
      "100000000\n"
     ]
    }
   ],
   "source": [
    "# Arithmetic Operators: + - * / // ** %\n",
    "print (100 + 40)\n",
    "print (100 - 40)\n",
    "print (100 * 40)\n",
    "print (100 / 40)    # float division\n",
    "print (100 // 40)   # integer division\n",
    "print (100 % 40)    # modulus, remainder of the division\n",
    "print (100 ** 4)    # exponentiation"
   ]
  },
  {
   "cell_type": "code",
   "execution_count": 32,
   "id": "8dee265b-4ddb-4853-a402-5a377779dc07",
   "metadata": {},
   "outputs": [
    {
     "name": "stdout",
     "output_type": "stream",
     "text": [
      "True True True True\n",
      "False True True False\n"
     ]
    }
   ],
   "source": [
    "# Conditional Operators: > >= < <= != ==\n",
    "print (100 > 40, 100 >= 40, 100 < 400, 100 <= 400)\n",
    "print (100 == 400, 100 == 100, 100 != 400, 100 != 100)"
   ]
  },
  {
   "cell_type": "code",
   "execution_count": 37,
   "id": "5b1a7d6d-8edc-45fe-8cea-64790058e7fa",
   "metadata": {},
   "outputs": [
    {
     "name": "stdout",
     "output_type": "stream",
     "text": [
      "False False False True\n",
      "False True True True\n",
      "True False\n"
     ]
    }
   ],
   "source": [
    "# Logical Operators: and or not\n",
    "print (False and False, False and True, True and False, True and True);\n",
    "print (False or False, False or True, True or False, True or True);\n",
    "print (not False, not True);"
   ]
  },
  {
   "cell_type": "code",
   "execution_count": 44,
   "id": "49ceecd6-975f-4e6a-a9fa-d0aef93b1491",
   "metadata": {},
   "outputs": [
    {
     "name": "stdout",
     "output_type": "stream",
     "text": [
      "100\n",
      "600\n",
      "560\n",
      "2240\n",
      "5017600\n"
     ]
    }
   ],
   "source": [
    "# Assignment Operator: = \n",
    "# Special Assignment Operators: += -= *= /= //= **= %=\n",
    "var1 = 100; print (var1)\n",
    "var1 += 500; print (var1)   # var1 = var1 + 500\n",
    "var1 -= 40; print (var1)\n",
    "var1 *= 4; print (var1)\n",
    "var1 **= 2; print (var1)"
   ]
  },
  {
   "cell_type": "code",
   "execution_count": null,
   "id": "5cbcc837-d2f8-4941-8c69-30f5eb1b6395",
   "metadata": {},
   "outputs": [],
   "source": [
    "# Operators: Unary, Binary, Ternary\n",
    "# Unary Operators (Require only one operand): +100 -300\n",
    "# Binary Operators (Require only two operands): 700 + 100    900 - 300\n",
    "# Ternary Operator (Requires only three operands)"
   ]
  },
  {
   "cell_type": "code",
   "execution_count": 47,
   "id": "4ecc640e-fdf7-45ba-aa8a-091f4b361d02",
   "metadata": {},
   "outputs": [
    {
     "name": "stdout",
     "output_type": "stream",
     "text": [
      "100 Even\n",
      "205 ODD\n"
     ]
    }
   ],
   "source": [
    "# Ternary Operator (Requires only three operands)\n",
    "num1 = 100\n",
    "result = \"Even\" if (num1 % 2 == 0) else \"ODD\"\n",
    "print (num1, result)\n",
    "\n",
    "num1 = 205\n",
    "result = \"Even\" if (num1 % 2 == 0) else \"ODD\"\n",
    "print (num1, result)"
   ]
  },
  {
   "cell_type": "markdown",
   "id": "86f99a9f-94fa-437e-99ca-82341a5dfbac",
   "metadata": {},
   "source": [
    "## **ASCII Codes and Characters**"
   ]
  },
  {
   "cell_type": "code",
   "execution_count": null,
   "id": "51844390-f593-466a-a7ff-a7de9f2bd740",
   "metadata": {},
   "outputs": [],
   "source": [
    "# ASCII (American Standard Code for Information Interchange) Codes\n",
    "# A => 65, B => 66, Z => 90\n",
    "# a => 97, b => 98, z => 122\n",
    "# 0 => 48, 1 => 49, 9 => 57\n",
    "# Space Bar/Blank => 32, Enter => 13, Esc => 27, Back Space => 9, Tab => 8\n",
    "# ASCII Code is 8 bits code ranging from 0 to 255\n",
    "# It can be divided into two categories:\n",
    "# 1. Normal ASCII Codes (0 to 127) - Printable\n",
    "# 2. Extended ASCII Codes (128 to 255) - Non-Printable"
   ]
  },
  {
   "cell_type": "code",
   "execution_count": 48,
   "id": "d1c9df01-d696-4fa5-ae21-c6dcc1c88cc7",
   "metadata": {},
   "outputs": [
    {
     "name": "stdout",
     "output_type": "stream",
     "text": [
      "65 97 90 122\n",
      "A a Z z\n"
     ]
    }
   ],
   "source": [
    "print (ord('A'), ord('a'), ord('Z'), ord('z'))  # returns characters to ASCII Codes\n",
    "print (chr(65), chr(97), chr(90), chr(122))     # returns ASCII Codes to characters"
   ]
  },
  {
   "cell_type": "markdown",
   "id": "3422a6e5-96a9-4e09-b957-030aed4a99ea",
   "metadata": {},
   "source": [
    "## **Conditional Statements**"
   ]
  },
  {
   "cell_type": "code",
   "execution_count": 62,
   "id": "bb5f3328-1ffe-43e0-93db-8f8cc9aed2d5",
   "metadata": {},
   "outputs": [
    {
     "name": "stdin",
     "output_type": "stream",
     "text": [
      "Please enter the first number: 33\n",
      "Please enter the second number: 11\n",
      "Please enter the third number: 22\n"
     ]
    },
    {
     "name": "stdout",
     "output_type": "stream",
     "text": [
      "So the first number is the MAXIMUM Number...\n",
      "So the maximum number is 33...\n",
      "End of the program...\n"
     ]
    }
   ],
   "source": [
    "num1 = int(input(\"Please enter the first number:\"))\n",
    "num2 = int(input(\"Please enter the second number:\"))\n",
    "num3 = int(input(\"Please enter the third number:\"))\n",
    "if (num1 > num2):\n",
    "    if (num1 > num3):\n",
    "        print (\"So the first number is the MAXIMUM Number...\")\n",
    "        print (f\"So the maximum number is {num1}...\")\n",
    "    else:\n",
    "        print (\"So the third number is the MAXIMUM Number...\")\n",
    "        print (f\"So the maximum number is {num3}...\")\n",
    "elif (num2 > num3):\n",
    "    print (\"So the second number is the MAXIMUM Number...\")\n",
    "    print (f\"So the maximum number is {num2}...\")\n",
    "else:\n",
    "    print (\"So the third number is the MAXIMUM Number...\")\n",
    "    print (f\"So the maximum number is {num3}...\")\n",
    "print (\"End of the program...\")"
   ]
  },
  {
   "cell_type": "code",
   "execution_count": 63,
   "id": "bd6eefff-e3db-417f-b37a-0ae0f472653d",
   "metadata": {},
   "outputs": [
    {
     "name": "stdin",
     "output_type": "stream",
     "text": [
      "Please enter the first number: 33\n",
      "Please enter the second number: 22\n",
      "Please enter the third number: 11\n"
     ]
    },
    {
     "name": "stdout",
     "output_type": "stream",
     "text": [
      "So the first number is the MAXIMUM Number...\n",
      "So the maximum number is 33...\n",
      "End of the program...\n"
     ]
    }
   ],
   "source": [
    "num1 = int(input(\"Please enter the first number:\"))\n",
    "num2 = int(input(\"Please enter the second number:\"))\n",
    "num3 = int(input(\"Please enter the third number:\"))\n",
    "if (num1 > num2 and num1 > num3):\n",
    "    print (\"So the first number is the MAXIMUM Number...\")\n",
    "    print (f\"So the maximum number is {num1}...\")\n",
    "elif (num2 > num3):\n",
    "    print (\"So the second number is the MAXIMUM Number...\")\n",
    "    print (f\"So the maximum number is {num2}...\")\n",
    "else:\n",
    "    print (\"So the third number is the MAXIMUM Number...\")\n",
    "    print (f\"So the maximum number is {num3}...\")\n",
    "print (\"End of the program...\")"
   ]
  },
  {
   "cell_type": "markdown",
   "id": "b7989fcc-4c00-4895-926b-c038008bc003",
   "metadata": {},
   "source": [
    "## **Dealing with 'print' statement**"
   ]
  },
  {
   "cell_type": "code",
   "execution_count": 51,
   "id": "84d06f22-beba-4903-8826-d26661d494a7",
   "metadata": {},
   "outputs": [
    {
     "name": "stdout",
     "output_type": "stream",
     "text": [
      "Hello to all\n",
      "Good afternoon\n"
     ]
    }
   ],
   "source": [
    "print (\"Hello\", \"to all\")\n",
    "print (\"Good afternoon\")"
   ]
  },
  {
   "cell_type": "code",
   "execution_count": 52,
   "id": "c7ef9f51-d779-411b-b909-70a6c244a760",
   "metadata": {},
   "outputs": [
    {
     "name": "stdout",
     "output_type": "stream",
     "text": [
      "Help on built-in function print in module builtins:\n",
      "\n",
      "print(*args, sep=' ', end='\\n', file=None, flush=False)\n",
      "    Prints the values to a stream, or to sys.stdout by default.\n",
      "    \n",
      "    sep\n",
      "      string inserted between values, default a space.\n",
      "    end\n",
      "      string appended after the last value, default a newline.\n",
      "    file\n",
      "      a file-like object (stream); defaults to the current sys.stdout.\n",
      "    flush\n",
      "      whether to forcibly flush the stream.\n",
      "\n"
     ]
    }
   ],
   "source": [
    "help (print)   # ... ellipsis"
   ]
  },
  {
   "cell_type": "code",
   "execution_count": 55,
   "id": "7ea3a69e-bc70-4628-a023-92ffa487cf42",
   "metadata": {},
   "outputs": [
    {
     "name": "stdout",
     "output_type": "stream",
     "text": [
      "Hello, to all\n",
      "Hello - to all, Good afternoon\n"
     ]
    }
   ],
   "source": [
    "print (\"Hello\", \"to all\", sep = \", \")\n",
    "print (\"Hello\", \"to all\", sep = \" - \", end = \", \")\n",
    "print (\"Good afternoon\")"
   ]
  },
  {
   "cell_type": "markdown",
   "id": "9fad5f2b-ed00-40ed-8b7b-f96a9d3f006e",
   "metadata": {},
   "source": [
    "## **Day-2**"
   ]
  },
  {
   "cell_type": "markdown",
   "id": "7a7c9604-8ca5-4119-94ac-f753d617cdc3",
   "metadata": {},
   "source": [
    "## **Python Loops**"
   ]
  },
  {
   "cell_type": "code",
   "execution_count": 3,
   "id": "85024cca-2cb2-470e-b070-3fa74d35b1ff",
   "metadata": {},
   "outputs": [
    {
     "name": "stdout",
     "output_type": "stream",
     "text": [
      "Looping for i = 0...\n",
      "Looping for i = 1...\n",
      "Looping for i = 2...\n",
      "Looping for i = 3...\n",
      "Looping for i = 4...\n",
      "Looping for i = 5...\n",
      "Looping for i = 6...\n",
      "Looping for i = 7...\n",
      "Looping for i = 8...\n",
      "Looping for i = 9...\n",
      "End of the loop...\n"
     ]
    }
   ],
   "source": [
    "for i in range(10):\n",
    "    print (f\"Looping for i = {i}...\")\n",
    "print (\"End of the loop...\")"
   ]
  },
  {
   "cell_type": "code",
   "execution_count": 5,
   "id": "217d9957-67d1-4ffb-9247-f4e741fa1cd0",
   "metadata": {},
   "outputs": [
    {
     "name": "stdout",
     "output_type": "stream",
     "text": [
      "Looping for i = 4...\n",
      "Looping for i = 5...\n",
      "Looping for i = 6...\n",
      "Looping for i = 7...\n",
      "Looping for i = 8...\n",
      "Looping for i = 9...\n",
      "End of the loop...\n"
     ]
    }
   ],
   "source": [
    "for i in range(4, 10):\n",
    "    print (f\"Looping for i = {i}...\")\n",
    "print (\"End of the loop...\")"
   ]
  },
  {
   "cell_type": "code",
   "execution_count": 8,
   "id": "661ce84a-5030-43fb-8351-93560e5192b6",
   "metadata": {},
   "outputs": [
    {
     "name": "stdout",
     "output_type": "stream",
     "text": [
      "Looping for i = 0...\n",
      "Looping again...\n",
      "Looping for i = 2...\n",
      "Looping again...\n",
      "Looping for i = 4...\n",
      "Looping again...\n",
      "Looping for i = 6...\n",
      "Looping again...\n",
      "Looping for i = 8...\n",
      "Looping again...\n",
      "End of the loop...\n"
     ]
    }
   ],
   "source": [
    "for i in range(0, 10, 2):\n",
    "    print (f\"Looping for i = {i}...\")\n",
    "    print (\"Looping again...\")\n",
    "print (\"End of the loop...\")"
   ]
  },
  {
   "cell_type": "code",
   "execution_count": 12,
   "id": "288dfe69-b192-47b6-976c-12c6b5a8bfd5",
   "metadata": {},
   "outputs": [
    {
     "name": "stdout",
     "output_type": "stream",
     "text": [
      "Looping with i = 0...\n",
      "Looping with i = 1...\n",
      "Looping with i = 2...\n",
      "Looping with i = 3...\n",
      "Looping with i = 4...\n",
      "Looping with i = 5...\n",
      "Looping with i = 6...\n",
      "Looping with i = 7...\n",
      "ELSE block is executing...\n",
      "Had a smooth execution..\n",
      "End of the looping...\n"
     ]
    }
   ],
   "source": [
    "for i in range(8):\n",
    "    print (f\"Looping with i = {i}...\")\n",
    "else:\n",
    "    print (\"ELSE block is executing...\")\n",
    "    print (\"Had a smooth execution..\")\n",
    "print (\"End of the looping...\")"
   ]
  },
  {
   "cell_type": "code",
   "execution_count": 15,
   "id": "f49360f4-436c-40b3-bd77-44ed48ea4b57",
   "metadata": {},
   "outputs": [
    {
     "name": "stdout",
     "output_type": "stream",
     "text": [
      "Looping for i = 0...\n",
      "Looping for i = 1...\n",
      "Looping for i = 2...\n",
      "Looping for i = 3...\n",
      "Looping for i = 4...\n",
      "Executing BREAK statement for i = 5...\n",
      "End of the loop...\n"
     ]
    }
   ],
   "source": [
    "for i in range(10):\n",
    "    if (i == 5):\n",
    "        print (f\"Executing BREAK statement for i = {i}...\")\n",
    "        break\n",
    "    print (f\"Looping for i = {i}...\")\n",
    "else:\n",
    "    print (\"ELSE block is executing...\")\n",
    "    print (\"Had a smooth execution..\")\n",
    "print (\"End of the loop...\")"
   ]
  },
  {
   "cell_type": "code",
   "execution_count": 17,
   "id": "8aa8e528-b9b5-47db-b0cf-5e970b2e7736",
   "metadata": {},
   "outputs": [
    {
     "name": "stdin",
     "output_type": "stream",
     "text": [
      "Please enter one integer:  101\n"
     ]
    },
    {
     "name": "stdout",
     "output_type": "stream",
     "text": [
      "101 is a PRIME NUMBER...\n",
      "End of the program...\n"
     ]
    }
   ],
   "source": [
    "# check whether one user given number is prime or not\n",
    "# n will be a prime number, if n can be divided by either 1 or n only\n",
    "# examples: 2, 5, 7, 11, 13, 17, 19, ...\n",
    "num = int(input(\"Please enter one integer: \"))\n",
    "for i in range(2, num):\n",
    "    if (num % i == 0):\n",
    "        print (f\"{num} is NOT a PRIME NUMBER...\")\n",
    "        break\n",
    "else:\n",
    "    print (f\"{num} is a PRIME NUMBER...\")\n",
    "print (\"End of the program...\")"
   ]
  },
  {
   "cell_type": "code",
   "execution_count": 18,
   "id": "7c2aea98-5330-4033-b977-5962f7326bce",
   "metadata": {},
   "outputs": [
    {
     "name": "stdout",
     "output_type": "stream",
     "text": [
      "Looping for i = 0...\n",
      "Looping for i = 1...\n",
      "Looping for i = 2...\n",
      "Looping for i = 3...\n",
      "Looping for i = 4...\n",
      "Resuming the loop with CONTINUE statement for i = 5...\n",
      "Looping for i = 6...\n",
      "Resuming the loop with CONTINUE statement for i = 7...\n",
      "Looping for i = 8...\n",
      "Looping for i = 9...\n",
      "ELSE block is executing...\n",
      "Had a smooth execution..\n",
      "End of the loop...\n"
     ]
    }
   ],
   "source": [
    "for i in range(10):\n",
    "    if (i == 5 or i == 7):\n",
    "        print (f\"Resuming the loop with CONTINUE statement for i = {i}...\")\n",
    "        continue\n",
    "    print (f\"Looping for i = {i}...\")\n",
    "else:\n",
    "    print (\"ELSE block is executing...\")\n",
    "    print (\"Had a smooth execution..\")\n",
    "print (\"End of the loop...\")"
   ]
  },
  {
   "cell_type": "code",
   "execution_count": 21,
   "id": "1d7baa4f-a0ce-467c-9ae9-29087f914c5c",
   "metadata": {},
   "outputs": [
    {
     "name": "stdout",
     "output_type": "stream",
     "text": [
      "100 is an EVEN number...\n",
      "End of the program...\n"
     ]
    }
   ],
   "source": [
    "num = 100\n",
    "if (num % 2 == 0):\n",
    "    print (f\"{num} is an EVEN number...\")\n",
    "print (\"End of the program...\")"
   ]
  },
  {
   "cell_type": "code",
   "execution_count": 24,
   "id": "cebce5b1-090c-4792-b773-4a717dbb58d3",
   "metadata": {},
   "outputs": [
    {
     "name": "stdout",
     "output_type": "stream",
     "text": [
      "100 is an EVEN number...\n",
      "End of the program...\n"
     ]
    }
   ],
   "source": [
    "num = 100\n",
    "if (num % 2 != 0):\n",
    "    pass    # pass is a statement placeholder\n",
    "else:\n",
    "    print (f\"{num} is an EVEN number...\")\n",
    "print (\"End of the program...\")"
   ]
  },
  {
   "cell_type": "code",
   "execution_count": 26,
   "id": "2d24fd13-d3b9-4de5-8adf-f92a9cacabf2",
   "metadata": {},
   "outputs": [
    {
     "name": "stdout",
     "output_type": "stream",
     "text": [
      "101 is an ODD number...\n",
      "End of the program...\n"
     ]
    }
   ],
   "source": [
    "num = 101\n",
    "if (num % 2 != 0):\n",
    "    print (f\"{num} is an ODD number...\")\n",
    "else:\n",
    "    print (f\"{num} is an EVEN number...\")\n",
    "print (\"End of the program...\")"
   ]
  },
  {
   "cell_type": "code",
   "execution_count": 30,
   "id": "cb654452-97a9-48e1-96bf-f4bf9f382124",
   "metadata": {},
   "outputs": [],
   "source": [
    "for i in range(10):\n",
    "    pass"
   ]
  },
  {
   "cell_type": "code",
   "execution_count": 31,
   "id": "0752d4cf-4ae2-478a-9a82-db2254cee74a",
   "metadata": {},
   "outputs": [
    {
     "name": "stdout",
     "output_type": "stream",
     "text": [
      "Looping for i = 1...\n",
      "Looping for i = 2...\n",
      "Looping for i = 3...\n",
      "Looping for i = 4...\n",
      "Looping for i = 5...\n",
      "Looping for i = 6...\n",
      "Looping for i = 7...\n",
      "Looping for i = 8...\n",
      "Looping for i = 9...\n",
      "Looping for i = 10...\n",
      "Else block is executing...\n",
      "End of the loop...\n"
     ]
    }
   ],
   "source": [
    "i = 1\n",
    "while (i <= 10):\n",
    "    print (f\"Looping for i = {i}...\")\n",
    "    i = i + 1\n",
    "else:\n",
    "    print (\"Else block is executing...\")\n",
    "print (\"End of the loop...\")"
   ]
  },
  {
   "cell_type": "code",
   "execution_count": 3,
   "id": "4dc183c2-6a11-4abc-a551-e52cdf93fd9e",
   "metadata": {},
   "outputs": [
    {
     "name": "stdin",
     "output_type": "stream",
     "text": [
      "Please enter one integer:  101\n"
     ]
    },
    {
     "name": "stdout",
     "output_type": "stream",
     "text": [
      "101 is a PRIME NUMBER...\n",
      "End of the program...\n"
     ]
    }
   ],
   "source": [
    "# check whether one user given number is prime or not\n",
    "# n will be a prime number, if n can be divided by either 1 or n only\n",
    "# examples: 2, 5, 7, 11, 13, 17, 19, ...\n",
    "num = int(input(\"Please enter one integer: \"))\n",
    "i = 2\n",
    "while (i < num):\n",
    "    if (num % i == 0):\n",
    "        print (f\"{num} is NOT a PRIME NUMBER...\")\n",
    "        break\n",
    "    i += 1   # i = i + 1\n",
    "else:\n",
    "    print (f\"{num} is a PRIME NUMBER...\")\n",
    "print (\"End of the program...\")"
   ]
  },
  {
   "cell_type": "code",
   "execution_count": 36,
   "id": "98fdf454-9e60-477d-affb-6e674b0c3505",
   "metadata": {},
   "outputs": [
    {
     "name": "stdout",
     "output_type": "stream",
     "text": [
      "Looping for i = 0...\n",
      "Looping for i = 1...\n",
      "Looping for i = 2...\n",
      "Looping for i = 3...\n",
      "Looping for i = 4...\n",
      "Resuming the loop with CONTINUE statement for i = 5...\n",
      "Looping for i = 6...\n",
      "Resuming the loop with CONTINUE statement for i = 7...\n",
      "Looping for i = 8...\n",
      "Looping for i = 9...\n",
      "ELSE block is executing...\n",
      "Had a smooth execution..\n",
      "End of the loop...\n"
     ]
    }
   ],
   "source": [
    "i = 0\n",
    "while (i < 10):\n",
    "    if (i == 5 or i == 7):\n",
    "        print (f\"Resuming the loop with CONTINUE statement for i = {i}...\")\n",
    "        i += 1\n",
    "        continue\n",
    "    print (f\"Looping for i = {i}...\")\n",
    "    i += 1\n",
    "else:\n",
    "    print (\"ELSE block is executing...\")\n",
    "    print (\"Had a smooth execution..\")\n",
    "print (\"End of the loop...\")"
   ]
  },
  {
   "cell_type": "code",
   "execution_count": 7,
   "id": "f5cbc2f5-bd6a-4ea9-9921-adba1007dc4b",
   "metadata": {},
   "outputs": [
    {
     "name": "stdout",
     "output_type": "stream",
     "text": [
      "Visit the DOCTOR...\n",
      "Good Morning...\n",
      "Day Number - 1 and Medicine Number - 1...\n",
      "Day Number - 1 and Medicine Number - 2...\n",
      "Day Number - 1 and Medicine Number - 3...\n",
      "Good Night...\n",
      "-------------------------------------------------------------\n",
      "Good Morning...\n",
      "Day Number - 2 and Medicine Number - 1...\n",
      "Day Number - 2 and Medicine Number - 2...\n",
      "Day Number - 2 and Medicine Number - 3...\n",
      "Good Night...\n",
      "-------------------------------------------------------------\n",
      "Good Morning...\n",
      "Day Number - 3 and Medicine Number - 1...\n",
      "Day Number - 3 and Medicine Number - 2...\n",
      "Day Number - 3 and Medicine Number - 3...\n",
      "Good Night...\n",
      "-------------------------------------------------------------\n",
      "Good Morning...\n",
      "Day Number - 4 and Medicine Number - 1...\n",
      "Day Number - 4 and Medicine Number - 2...\n",
      "Day Number - 4 and Medicine Number - 3...\n",
      "Good Night...\n",
      "-------------------------------------------------------------\n",
      "Good Morning...\n",
      "Day Number - 5 and Medicine Number - 1...\n",
      "Day Number - 5 and Medicine Number - 2...\n",
      "Day Number - 5 and Medicine Number - 3...\n",
      "Good Night...\n",
      "-------------------------------------------------------------\n",
      "Thanks to DOCTOR...\n",
      "Total number of medicines consumed is 15...\n"
     ]
    }
   ],
   "source": [
    "# example of nested looping\n",
    "print (\"Visit the DOCTOR...\")   # 1 time\n",
    "medicount = 0\n",
    "for day in range(1, 6, 1):\n",
    "    print (\"Good Morning...\")   # 5 times\n",
    "    for medi in range(1, 4, 1):\n",
    "        print (f\"Day Number - {day} and Medicine Number - {medi}...\")   # 15 times\n",
    "        medicount += 1   # 15 times\n",
    "    print (\"Good Night...\")   # 5 times\n",
    "    print (\"-------------------------------------------------------------\")\n",
    "print (\"Thanks to DOCTOR...\")   # 1 time\n",
    "print (f\"Total number of medicines consumed is {medicount}...\")   # 1 time"
   ]
  },
  {
   "cell_type": "code",
   "execution_count": 8,
   "id": "b40aaa87-9f5b-412c-ba24-a732c9ce842c",
   "metadata": {},
   "outputs": [
    {
     "name": "stdout",
     "output_type": "stream",
     "text": [
      "Visit the DOCTOR...\n",
      "Good Morning...\n",
      "Day Number - 1 and Medicine Number - 1...\n",
      "Day Number - 1 and Medicine Number - 2...\n",
      "Day Number - 1 and Medicine Number - 3...\n",
      "Good Night...\n",
      "-------------------------------------------------------------\n",
      "Good Morning...\n",
      "Day Number - 2 and Medicine Number - 1...\n",
      "Day Number - 2 and Medicine Number - 2...\n",
      "Day Number - 2 and Medicine Number - 3...\n",
      "Good Night...\n",
      "-------------------------------------------------------------\n",
      "Good Morning...\n",
      "Day Number - 3 and Medicine Number - 1...\n",
      "Day Number - 3 and Medicine Number - 2...\n",
      "Day Number - 3 and Medicine Number - 3...\n",
      "Good Night...\n",
      "-------------------------------------------------------------\n",
      "Good Morning...\n",
      "Day Number - 4 and Medicine Number - 1...\n",
      "Day Number - 4 and Medicine Number - 2...\n",
      "Day Number - 4 and Medicine Number - 3...\n",
      "Good Night...\n",
      "-------------------------------------------------------------\n",
      "Good Morning...\n",
      "Day Number - 5 and Medicine Number - 1...\n",
      "Day Number - 5 and Medicine Number - 2...\n",
      "Day Number - 5 and Medicine Number - 3...\n",
      "Good Night...\n",
      "-------------------------------------------------------------\n",
      "Thanks to DOCTOR...\n",
      "Total number of medicines consumed is 15...\n"
     ]
    }
   ],
   "source": [
    "# example of nested looping\n",
    "print (\"Visit the DOCTOR...\")   # 1 time\n",
    "medicount = 0\n",
    "day = 1\n",
    "while (day < 6):\n",
    "    print (\"Good Morning...\")   # 5 times\n",
    "    medi = 1\n",
    "    while (medi < 4):\n",
    "        print (f\"Day Number - {day} and Medicine Number - {medi}...\")   # 15 times\n",
    "        medicount += 1   # 15 times\n",
    "        medi += 1\n",
    "    print (\"Good Night...\")   # 5 times\n",
    "    print (\"-------------------------------------------------------------\")\n",
    "    day += 1\n",
    "print (\"Thanks to DOCTOR...\")   # 1 time\n",
    "print (f\"Total number of medicines consumed is {medicount}...\")   # 1 time"
   ]
  },
  {
   "cell_type": "markdown",
   "id": "46af5428-d062-415b-9441-1148a2aaa2d4",
   "metadata": {},
   "source": [
    " ## **Python Inbuilt Collections**"
   ]
  },
  {
   "cell_type": "code",
   "execution_count": 9,
   "id": "0fc9c787-92f8-4548-bb6a-bccedce3e2e6",
   "metadata": {},
   "outputs": [
    {
     "name": "stdout",
     "output_type": "stream",
     "text": [
      "[100, 2.45, True, 'Food', 201] 5 <class 'list'> 2876104954432\n",
      "(100, 2.45, True, 'Food', 201) 5 <class 'tuple'> 2876079634320\n",
      "{'name': 'Bidisha', 'location': 'Noida', 'job': 'Developer', 'company': 'Accenture'} 4 <class 'dict'> 2876087380288\n",
      "{True, 2.45, 100, 'Delhi', 201, 'Food'} 6 <class 'set'> 2876079406464\n",
      "frozenset({True, 2.45, 100, 'Delhi', 201, 'Food'}) 6 <class 'frozenset'> 2876082542560\n"
     ]
    }
   ],
   "source": [
    "# different inbuilt collections\n",
    "list1 = [100, 2.45, True, \"Food\", 201]   # mutable\n",
    "print (list1, len(list1), type(list1), id(list1))\n",
    "tuple1 = (100, 2.45, True, \"Food\", 201)   # immutable, read only\n",
    "print (tuple1, len(tuple1), type(tuple1), id(tuple1))\n",
    "dict1 = {'name':'Bidisha', 'location':'Noida', 'job':'Developer', 'company':'Accenture'} # mutable\n",
    "print (dict1, len(dict1), type(dict1), id(dict1))\n",
    "set1 = {\"Delhi\", 100, 2.45, True, \"Food\", 201, True, \"Food\", 201}\n",
    "print (set1, len(set1), type(set1), id(set1))\n",
    "fset1 = frozenset([\"Delhi\", 100, 2.45, True, \"Food\", 201, True, \"Food\", 201]) # immutable, read only\n",
    "print (fset1, len(fset1), type(fset1), id(fset1))"
   ]
  },
  {
   "cell_type": "markdown",
   "id": "91858929-a3cd-4836-8c35-9b80ce1ab5f8",
   "metadata": {},
   "source": [
    "## **Day-3**"
   ]
  },
  {
   "cell_type": "markdown",
   "id": "cd36af32-c76c-445f-8787-dcdd4f90202f",
   "metadata": {},
   "source": [
    "## **User Defined Function (UDF)**"
   ]
  },
  {
   "cell_type": "code",
   "execution_count": 11,
   "id": "3b7ca5a4-98b5-4aeb-962a-3b9a3a9a478e",
   "metadata": {},
   "outputs": [
    {
     "name": "stdout",
     "output_type": "stream",
     "text": [
      "Hello Hello Hello Hello Hello \n",
      "Hello Hello Hello Hello Hello \n",
      "Hello Hello Hello Hello Hello \n",
      "End of the program...\n"
     ]
    }
   ],
   "source": [
    "def funct1():     # def stands for define\n",
    "    print (\"Hello \" * 5)\n",
    "\n",
    "funct1()\n",
    "funct1()\n",
    "funct1()\n",
    "\n",
    "print (\"End of the program...\")"
   ]
  },
  {
   "cell_type": "code",
   "execution_count": 10,
   "id": "2716de05-8f65-445b-9f64-1bd772afef0c",
   "metadata": {},
   "outputs": [
    {
     "name": "stdout",
     "output_type": "stream",
     "text": [
      "Hello Hello Hello Hello Hello \n",
      "Good evening. Good evening. Good evening. \n",
      "Hi !!! Hi !!! Hi !!! Hi !!! Hi !!! Hi !!! Hi !!! \n",
      "End of the program...\n"
     ]
    }
   ],
   "source": [
    "def funct2(msg, times):  # positional parameters\n",
    "    print (msg * times)\n",
    "\n",
    "funct2(\"Hello \", 5)    # positional arguments\n",
    "funct2(\"Good evening. \", 3)\n",
    "funct2(\"Hi !!! \", 7)\n",
    "\n",
    "print (\"End of the program...\")"
   ]
  },
  {
   "cell_type": "code",
   "execution_count": 13,
   "id": "0e982b67-68a4-46dd-ad90-0a49ee5c73db",
   "metadata": {},
   "outputs": [
    {
     "name": "stdout",
     "output_type": "stream",
     "text": [
      "Hello Hello Hello Hello Hello \n",
      "<class 'str'> <class 'str'>\n",
      "Good evening. Good evening. Good evening. \n",
      "Hi !!! Hi !!! Hi !!! Hi !!! Hi !!! Hi !!! Hi !!! \n",
      "End of the program...\n"
     ]
    }
   ],
   "source": [
    "def funct3(msg, times):  # positional parameters\n",
    "    return msg * times\n",
    "\n",
    "result = funct3(\"Hello \", 5)    # positional arguments\n",
    "print (result)\n",
    "output = funct3(\"Good evening. \", 3)\n",
    "print (type(output), type(result))\n",
    "print (output)\n",
    "print (funct3(\"Hi !!! \", 7))\n",
    "\n",
    "print (\"End of the program...\")"
   ]
  },
  {
   "cell_type": "code",
   "execution_count": 24,
   "id": "0293365e-272c-4471-9273-1e30e037feb1",
   "metadata": {},
   "outputs": [
    {
     "name": "stdout",
     "output_type": "stream",
     "text": [
      "par1 = 100, par2 = 200 and par3 = 300...\n",
      "par1 = 100, par2 = 200 and par3 = 333...\n",
      "par1 = 100, par2 = 222 and par3 = 333...\n",
      "par1 = 111, par2 = 222 and par3 = 333...\n",
      "par1 = 100, par2 = 222 and par3 = 300...\n",
      "par1 = 111, par2 = 200 and par3 = 300...\n",
      "par1 = 111, par2 = 200 and par3 = 333...\n",
      "End of the program...\n"
     ]
    }
   ],
   "source": [
    "# function with default arguments\n",
    "def funct4(par1 = 111, par2 = 222, par3 = 333):  # positional parameters\n",
    "    print (f\"par1 = {par1}, par2 = {par2} and par3 = {par3}...\")\n",
    "\n",
    "funct4(100, 200, 300)    # positional arguments\n",
    "funct4(100, 200)\n",
    "funct4(100)\n",
    "funct4()\n",
    "funct4(par1 = 100, par3 = 300)\n",
    "funct4(par3 = 300, par2 = 200)\n",
    "funct4(par2 = 200)\n",
    "print (\"End of the program...\")"
   ]
  },
  {
   "cell_type": "code",
   "execution_count": 25,
   "id": "54e04662-3a56-4f9a-9256-43d87124a9ac",
   "metadata": {},
   "outputs": [
    {
     "name": "stdout",
     "output_type": "stream",
     "text": [
      "300\n",
      "200\n"
     ]
    }
   ],
   "source": [
    "def funct5(par1, par2 = None):\n",
    "    if (par2 == None):\n",
    "        return 2 * par1\n",
    "    else:\n",
    "        return par1 + par2\n",
    "    \n",
    "print (funct5(100, 200))\n",
    "print (funct5(100))"
   ]
  },
  {
   "cell_type": "code",
   "execution_count": null,
   "id": "312ca730-88a7-4743-99f1-d9087e1d56ba",
   "metadata": {},
   "outputs": [],
   "source": []
  },
  {
   "cell_type": "code",
   "execution_count": null,
   "id": "c7d97211-3b01-4f9f-b158-41f314d3a877",
   "metadata": {},
   "outputs": [],
   "source": []
  },
  {
   "cell_type": "code",
   "execution_count": null,
   "id": "de9e2687-7c79-4996-85d4-500296367094",
   "metadata": {},
   "outputs": [],
   "source": []
  },
  {
   "cell_type": "code",
   "execution_count": null,
   "id": "51b6bf6c-3084-43a6-a5e7-f9efa8d52645",
   "metadata": {},
   "outputs": [],
   "source": []
  },
  {
   "cell_type": "code",
   "execution_count": null,
   "id": "ee3601a9-cf68-47fa-a9af-2fdefd08b18e",
   "metadata": {},
   "outputs": [],
   "source": []
  },
  {
   "cell_type": "code",
   "execution_count": null,
   "id": "b6b3edf0-c3b3-4c51-82ef-f811a89426d8",
   "metadata": {},
   "outputs": [],
   "source": []
  },
  {
   "cell_type": "code",
   "execution_count": null,
   "id": "b8e1e014-ebd4-46ba-ad79-8c4dc66f56f2",
   "metadata": {},
   "outputs": [],
   "source": []
  },
  {
   "cell_type": "markdown",
   "id": "2d99fe20-201c-41ac-aedf-dd8d50cea847",
   "metadata": {},
   "source": [
    "## **Lambda Function**\n",
    "\n",
    "> In Python programming, a lambda function is a small anonymous function that can have any number of arguments, but can only have one expression. The expression is evaluated and returned as the function result. Lambda functions are commonly used in combination with higher-order functions such as map(), filter(), and reduce().\n",
    "\n",
    "Some of the properties of lambda functions in Python programming include:\n",
    "* **Anonymous:** Lambda functions are anonymous, meaning they do not have a name like regular functions. They are defined using the keyword \"lambda\" followed by the arguments and the expression.\n",
    "* **Single Expression:** A lambda function can only contain a single expression that is evaluated and returned as the function result. This means that it cannot contain multiple statements or control flow structures.\n",
    "* **Concise:** Lambda functions are concise and can be defined in a single line of code. This makes them useful for defining simple functions on-the-fly.\n",
    "* **Immutable:** Lambda functions are immutable, meaning they cannot be modified once defined. This means that you cannot change the behavior of a lambda function after it has been defined.\n",
    "* **Higher-order Functions:** Lambda functions are often used in combination with higher-order functions such as map(), filter(), and reduce(). These functions take other functions as arguments and return new functions as results.\n",
    "* **Memory-efficient:** Lambda functions are memory-efficient since they are defined on-the-fly and do not require a separate function definition. This can be useful when working with large data sets or when memory usage is a concern.#### Lambda Function\n",
    "> In Python programming, a lambda function is a small anonymous function that can have any number of arguments, but can only have one expression. The expression is evaluated and returned as the function result. Lambda functions are commonly used in combination with higher-order functions such as map(), filter(), and reduce().\n",
    "\n",
    "Some of the properties of lambda functions in Python programming include:\n",
    "* **Anonymous:** Lambda functions are anonymous, meaning they do not have a name like regular functions. They are defined using the keyword \"lambda\" followed by the arguments and the expression.\n",
    "* **Single Expression:** A lambda function can only contain a single expression that is evaluated and returned as the function result. This means that it cannot contain multiple statements or control flow structures.\n",
    "* **Concise:** Lambda functions are concise and can be defined in a single line of code. This makes them useful for defining simple functions on-the-fly.\n",
    "* **Immutable:** Lambda functions are immutable, meaning they cannot be modified once defined. This means that you cannot change the behavior of a lambda function after it has been defined.\n",
    "* **Higher-order Functions:** Lambda functions are often used in combination with higher-order functions such as map(), filter(), and reduce(). These functions take other functions as arguments and return new functions as results.\n",
    "* **Memory-efficient:** Lambda functions are memory-efficient since they are defined on-the-fly and do not require a separate function definition. This can be useful when working with large data sets or when memory usage is a concern."
   ]
  },
  {
   "cell_type": "code",
   "execution_count": null,
   "id": "7882db90-630f-46cf-a9c2-aa54afa5a1b1",
   "metadata": {},
   "outputs": [],
   "source": []
  },
  {
   "cell_type": "code",
   "execution_count": null,
   "id": "d2795be1-d1e8-4c34-a743-c41d9eb7dd41",
   "metadata": {},
   "outputs": [],
   "source": []
  },
  {
   "cell_type": "code",
   "execution_count": null,
   "id": "a60a7a7b-4c42-4858-8cf1-e62a0b482c1e",
   "metadata": {},
   "outputs": [],
   "source": []
  },
  {
   "cell_type": "code",
   "execution_count": null,
   "id": "386e958c-9c4a-4a4e-97d3-bd5c38386a4b",
   "metadata": {},
   "outputs": [],
   "source": []
  },
  {
   "cell_type": "code",
   "execution_count": null,
   "id": "16dcdc00-0cb1-4919-ab62-7827e053988d",
   "metadata": {},
   "outputs": [],
   "source": []
  },
  {
   "cell_type": "markdown",
   "id": "400d2e99-4d09-43e4-b4c7-18016b4d5e9b",
   "metadata": {},
   "source": [
    "## **Importing Modules**"
   ]
  },
  {
   "cell_type": "code",
   "execution_count": null,
   "id": "439c9388-aad2-4e62-b145-f0cfe19bbbd1",
   "metadata": {},
   "outputs": [],
   "source": []
  },
  {
   "cell_type": "code",
   "execution_count": null,
   "id": "e1219f39-49e6-4a31-a898-36a6b885c2ab",
   "metadata": {},
   "outputs": [],
   "source": []
  },
  {
   "cell_type": "code",
   "execution_count": null,
   "id": "fb11d0e5-f41d-4280-b79a-affd3d7e5b4d",
   "metadata": {},
   "outputs": [],
   "source": []
  },
  {
   "cell_type": "markdown",
   "id": "acb378d3-7f41-44c9-bf7e-c22e4b277b30",
   "metadata": {},
   "source": [
    "## **Day-4**"
   ]
  },
  {
   "cell_type": "markdown",
   "id": "7bfd4297-5d86-4e8d-ac9a-f2b29896aa0c",
   "metadata": {},
   "source": [
    "## **String Processing**"
   ]
  },
  {
   "cell_type": "code",
   "execution_count": null,
   "id": "985c69be-f042-4b59-a4ea-a35fa146f65e",
   "metadata": {},
   "outputs": [],
   "source": []
  },
  {
   "cell_type": "code",
   "execution_count": null,
   "id": "42c72490-cb72-4366-9f62-d5ce331c3be7",
   "metadata": {},
   "outputs": [],
   "source": []
  },
  {
   "cell_type": "code",
   "execution_count": null,
   "id": "5872d02d-1073-4d4a-afe5-19d62de9f68e",
   "metadata": {},
   "outputs": [],
   "source": []
  },
  {
   "cell_type": "code",
   "execution_count": null,
   "id": "f5967c71-7f9f-456c-b2e5-62e30e83db42",
   "metadata": {},
   "outputs": [],
   "source": []
  },
  {
   "cell_type": "code",
   "execution_count": null,
   "id": "e86df2d8-3b43-49da-a956-d59deb2d281f",
   "metadata": {},
   "outputs": [],
   "source": []
  },
  {
   "cell_type": "code",
   "execution_count": null,
   "id": "450e02c2-32e6-417f-ad46-ea1295aa6d51",
   "metadata": {},
   "outputs": [],
   "source": []
  },
  {
   "cell_type": "markdown",
   "id": "a96f32d7-145d-48ad-b248-ece89b343ad1",
   "metadata": {},
   "source": [
    "## **List Processing**"
   ]
  },
  {
   "cell_type": "code",
   "execution_count": null,
   "id": "8bed385e-3c51-41d6-82fd-9bc914a7e903",
   "metadata": {},
   "outputs": [],
   "source": []
  },
  {
   "cell_type": "code",
   "execution_count": null,
   "id": "e9df8583-88d3-4405-9a65-67de66254e1a",
   "metadata": {},
   "outputs": [],
   "source": []
  },
  {
   "cell_type": "code",
   "execution_count": null,
   "id": "58aca37c-0281-42f3-bcbf-41f9d949c9f0",
   "metadata": {},
   "outputs": [],
   "source": []
  },
  {
   "cell_type": "code",
   "execution_count": null,
   "id": "bbeb1b7e-a71c-45cb-b90d-458294cfd859",
   "metadata": {},
   "outputs": [],
   "source": []
  },
  {
   "cell_type": "code",
   "execution_count": null,
   "id": "7b2342e6-8fe7-4c94-bc7a-c89c56bf1f57",
   "metadata": {},
   "outputs": [],
   "source": []
  },
  {
   "cell_type": "code",
   "execution_count": null,
   "id": "bcff41fd-ed58-47f1-a211-9d6b3fb058c6",
   "metadata": {},
   "outputs": [],
   "source": []
  },
  {
   "cell_type": "markdown",
   "id": "8ec67048-b4fc-4657-b72c-3190c2351966",
   "metadata": {},
   "source": [
    "## **Tuple Processing**"
   ]
  },
  {
   "cell_type": "code",
   "execution_count": null,
   "id": "1c4b00d2-3a17-4d90-a415-d0f47f87757a",
   "metadata": {},
   "outputs": [],
   "source": []
  },
  {
   "cell_type": "code",
   "execution_count": null,
   "id": "15297efa-907b-483b-a28b-8e513875ed27",
   "metadata": {},
   "outputs": [],
   "source": []
  },
  {
   "cell_type": "code",
   "execution_count": null,
   "id": "9a0ffd1e-a887-4b31-befb-c443fe2ffce0",
   "metadata": {},
   "outputs": [],
   "source": []
  },
  {
   "cell_type": "code",
   "execution_count": null,
   "id": "fc639bad-f058-4195-9e81-d899f33e7be0",
   "metadata": {},
   "outputs": [],
   "source": []
  },
  {
   "cell_type": "markdown",
   "id": "e97a0136-24b4-4874-a271-3ae67aefa821",
   "metadata": {},
   "source": [
    "## **Day-5**"
   ]
  },
  {
   "cell_type": "markdown",
   "id": "f76f4e1f-8213-4031-8bb4-db45f3aa3c42",
   "metadata": {},
   "source": [
    "## **Dictionary Processing**"
   ]
  },
  {
   "cell_type": "code",
   "execution_count": null,
   "id": "2f049078-8f60-4568-9648-c7959ef921dc",
   "metadata": {},
   "outputs": [],
   "source": []
  },
  {
   "cell_type": "code",
   "execution_count": null,
   "id": "89279f67-e03f-40d2-9d5a-9bb5cb13f4f0",
   "metadata": {},
   "outputs": [],
   "source": []
  },
  {
   "cell_type": "code",
   "execution_count": null,
   "id": "0e0dbd88-8d31-4294-a813-901576ba92ce",
   "metadata": {},
   "outputs": [],
   "source": []
  },
  {
   "cell_type": "code",
   "execution_count": null,
   "id": "ed4c9515-8b76-441a-84ec-8ed097a3e89b",
   "metadata": {},
   "outputs": [],
   "source": []
  },
  {
   "cell_type": "code",
   "execution_count": null,
   "id": "4ebc023d-1272-43f6-a160-9fb3b366b30f",
   "metadata": {},
   "outputs": [],
   "source": []
  },
  {
   "cell_type": "code",
   "execution_count": null,
   "id": "db5a59b8-4dc2-4327-86c6-a5316e796b9e",
   "metadata": {},
   "outputs": [],
   "source": []
  },
  {
   "cell_type": "markdown",
   "id": "0cb53bcc-5e1f-4870-9663-09086d2b0e72",
   "metadata": {},
   "source": [
    "## **Set Processing**"
   ]
  },
  {
   "cell_type": "code",
   "execution_count": null,
   "id": "5d4c4663-40df-4f59-b1d9-b9897264f58e",
   "metadata": {},
   "outputs": [],
   "source": []
  },
  {
   "cell_type": "code",
   "execution_count": null,
   "id": "b9c34dca-f171-417a-8b3e-3e320c51f22f",
   "metadata": {},
   "outputs": [],
   "source": []
  },
  {
   "attachments": {
    "SetOperations.png": {
     "image/png": "[encoded data removed]"
    }
   },
   "cell_type": "markdown",
   "id": "7bfba663",
   "metadata": {},
   "source": [
    "![SetOperations.png](attachment:SetOperations.png)"
   ]
  },
  {
   "cell_type": "code",
   "execution_count": null,
   "id": "e1ae2a35",
   "metadata": {},
   "outputs": [],
   "source": []
  },
  {
   "cell_type": "code",
   "execution_count": null,
   "id": "d321a248-eb62-4553-b4e8-b8ea87bb6e88",
   "metadata": {},
   "outputs": [],
   "source": []
  },
  {
   "cell_type": "code",
   "execution_count": null,
   "id": "404108bf-24a4-4060-9b39-fca53928df85",
   "metadata": {},
   "outputs": [],
   "source": []
  },
  {
   "cell_type": "markdown",
   "id": "089b635d-66d7-49c8-b8e0-03f6c7945938",
   "metadata": {},
   "source": [
    "## **Frozen Set Processing**"
   ]
  },
  {
   "cell_type": "code",
   "execution_count": null,
   "id": "df391602-d4e2-4b5c-a9f7-765359254e49",
   "metadata": {},
   "outputs": [],
   "source": []
  },
  {
   "cell_type": "code",
   "execution_count": null,
   "id": "7562e484-40a4-4e6a-9460-c3fa3e4f2b92",
   "metadata": {},
   "outputs": [],
   "source": []
  },
  {
   "cell_type": "code",
   "execution_count": null,
   "id": "ae513f14-97d3-4f15-9c2d-d0a6b52c9e5e",
   "metadata": {},
   "outputs": [],
   "source": []
  },
  {
   "cell_type": "code",
   "execution_count": null,
   "id": "ff3dcbff-2fac-4c12-8915-2d60c156cc08",
   "metadata": {},
   "outputs": [],
   "source": []
  },
  {
   "cell_type": "code",
   "execution_count": null,
   "id": "931c4254-cda4-49e4-b4eb-2bf9f1a3091e",
   "metadata": {},
   "outputs": [],
   "source": []
  },
  {
   "cell_type": "code",
   "execution_count": null,
   "id": "3873e6b6-2d40-4fc0-a021-b5581c27d249",
   "metadata": {},
   "outputs": [],
   "source": []
  },
  {
   "cell_type": "code",
   "execution_count": null,
   "id": "a6f3d68e-bd54-4511-82d3-fcf3021abd7b",
   "metadata": {},
   "outputs": [],
   "source": []
  }
 ],
 "metadata": {
  "kernelspec": {
   "display_name": "Python 3 (ipykernel)",
   "language": "python",
   "name": "python3"
  },
  "language_info": {
   "codemirror_mode": {
    "name": "ipython",
    "version": 3
   },
   "file_extension": ".py",
   "mimetype": "text/x-python",
   "name": "python",
   "nbconvert_exporter": "python",
   "pygments_lexer": "ipython3",
   "version": "3.11.7"
  }
 },
 "nbformat": 4,
 "nbformat_minor": 5
}
